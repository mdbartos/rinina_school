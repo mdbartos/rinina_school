{
 "metadata": {
  "name": "",
  "signature": "sha256:f83ceedc13326be8f441ff053ceeeb7f153c9f677320b703e78d82608474463f"
 },
 "nbformat": 3,
 "nbformat_minor": 0,
 "worksheets": [
  {
   "cells": [
    {
     "cell_type": "heading",
     "level": 1,
     "metadata": {},
     "source": [
      "Duplicates and nulls"
     ]
    },
    {
     "cell_type": "code",
     "collapsed": false,
     "input": [],
     "language": "python",
     "metadata": {},
     "outputs": []
    }
   ],
   "metadata": {}
  }
 ]
}