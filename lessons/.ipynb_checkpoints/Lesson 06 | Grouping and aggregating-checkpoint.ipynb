{
 "metadata": {
  "name": "",
  "signature": "sha256:36007eec0078a02bf833ae1ded611defa8f6a6bb59c85b7750158c1e846b5a2c"
 },
 "nbformat": 3,
 "nbformat_minor": 0,
 "worksheets": [
  {
   "cells": [
    {
     "cell_type": "heading",
     "level": 1,
     "metadata": {},
     "source": [
      "Lesson 6: Grouping and aggregating using groupby"
     ]
    },
    {
     "cell_type": "markdown",
     "metadata": {},
     "source": [
      ".................................................................................................................................\n",
      "Topics\n",
      "-----------------------------------------\n",
      "\n",
      "\n",
      "1. Grouping on a single field\n",
      "\n",
      "2. Grouping on multiple fields\n",
      "\n",
      "................................................................................................................................."
     ]
    },
    {
     "cell_type": "markdown",
     "metadata": {},
     "source": [
      "Ok, now let's try some aggregation operations. These are just like the GROUP BY operations you might use in SQL.\n",
      "\n",
      "We'll be working with a dataset that contains meteorological data for each year between 1949 and 2010 at a daily time step."
     ]
    },
    {
     "cell_type": "code",
     "collapsed": false,
     "input": [
      "import pandas as pd\n",
      "import numpy as np\n",
      "\n",
      "df = pd.read_csv('https://dl.dropboxusercontent.com/u/14284692/met_data.csv', index_col=0)"
     ],
     "language": "python",
     "metadata": {},
     "outputs": [],
     "prompt_number": 5
    },
    {
     "cell_type": "code",
     "collapsed": false,
     "input": [
      "df.head()"
     ],
     "language": "python",
     "metadata": {},
     "outputs": [
      {
       "html": [
        "<div style=\"max-height:1000px;max-width:1500px;overflow:auto;\">\n",
        "<table border=\"1\" class=\"dataframe\">\n",
        "  <thead>\n",
        "    <tr style=\"text-align: right;\">\n",
        "      <th></th>\n",
        "      <th>year</th>\n",
        "      <th>month</th>\n",
        "      <th>day</th>\n",
        "      <th>precipitation</th>\n",
        "      <th>tmax</th>\n",
        "      <th>tmin</th>\n",
        "      <th>wind_speed</th>\n",
        "    </tr>\n",
        "  </thead>\n",
        "  <tbody>\n",
        "    <tr>\n",
        "      <th>0</th>\n",
        "      <td> 1949</td>\n",
        "      <td> 1</td>\n",
        "      <td> 1</td>\n",
        "      <td> 1.73</td>\n",
        "      <td> 12.07</td>\n",
        "      <td> 3.19</td>\n",
        "      <td> 2.55</td>\n",
        "    </tr>\n",
        "    <tr>\n",
        "      <th>1</th>\n",
        "      <td> 1949</td>\n",
        "      <td> 1</td>\n",
        "      <td> 2</td>\n",
        "      <td> 0.00</td>\n",
        "      <td>  8.26</td>\n",
        "      <td> 1.71</td>\n",
        "      <td> 6.90</td>\n",
        "    </tr>\n",
        "    <tr>\n",
        "      <th>2</th>\n",
        "      <td> 1949</td>\n",
        "      <td> 1</td>\n",
        "      <td> 3</td>\n",
        "      <td> 0.00</td>\n",
        "      <td>  5.99</td>\n",
        "      <td>-4.09</td>\n",
        "      <td> 4.85</td>\n",
        "    </tr>\n",
        "    <tr>\n",
        "      <th>3</th>\n",
        "      <td> 1949</td>\n",
        "      <td> 1</td>\n",
        "      <td> 4</td>\n",
        "      <td> 0.00</td>\n",
        "      <td>  6.55</td>\n",
        "      <td>-4.49</td>\n",
        "      <td> 4.09</td>\n",
        "    </tr>\n",
        "    <tr>\n",
        "      <th>4</th>\n",
        "      <td> 1949</td>\n",
        "      <td> 1</td>\n",
        "      <td> 5</td>\n",
        "      <td> 0.00</td>\n",
        "      <td>  7.23</td>\n",
        "      <td>-6.05</td>\n",
        "      <td> 3.11</td>\n",
        "    </tr>\n",
        "  </tbody>\n",
        "</table>\n",
        "</div>"
       ],
       "metadata": {},
       "output_type": "pyout",
       "prompt_number": 6,
       "text": [
        "   year  month  day  precipitation   tmax  tmin  wind_speed\n",
        "0  1949      1    1           1.73  12.07  3.19        2.55\n",
        "1  1949      1    2           0.00   8.26  1.71        6.90\n",
        "2  1949      1    3           0.00   5.99 -4.09        4.85\n",
        "3  1949      1    4           0.00   6.55 -4.49        4.09\n",
        "4  1949      1    5           0.00   7.23 -6.05        3.11"
       ]
      }
     ],
     "prompt_number": 6
    },
    {
     "cell_type": "code",
     "collapsed": false,
     "input": [
      "df.tail()"
     ],
     "language": "python",
     "metadata": {},
     "outputs": [
      {
       "html": [
        "<div style=\"max-height:1000px;max-width:1500px;overflow:auto;\">\n",
        "<table border=\"1\" class=\"dataframe\">\n",
        "  <thead>\n",
        "    <tr style=\"text-align: right;\">\n",
        "      <th></th>\n",
        "      <th>year</th>\n",
        "      <th>month</th>\n",
        "      <th>day</th>\n",
        "      <th>precipitation</th>\n",
        "      <th>tmax</th>\n",
        "      <th>tmin</th>\n",
        "      <th>wind_speed</th>\n",
        "    </tr>\n",
        "  </thead>\n",
        "  <tbody>\n",
        "    <tr>\n",
        "      <th>22640</th>\n",
        "      <td> 2010</td>\n",
        "      <td> 12</td>\n",
        "      <td> 27</td>\n",
        "      <td> 7.12</td>\n",
        "      <td> 12.90</td>\n",
        "      <td> 2.85</td>\n",
        "      <td> 3.85</td>\n",
        "    </tr>\n",
        "    <tr>\n",
        "      <th>22641</th>\n",
        "      <td> 2010</td>\n",
        "      <td> 12</td>\n",
        "      <td> 28</td>\n",
        "      <td> 7.15</td>\n",
        "      <td> 11.93</td>\n",
        "      <td> 4.16</td>\n",
        "      <td> 2.07</td>\n",
        "    </tr>\n",
        "    <tr>\n",
        "      <th>22642</th>\n",
        "      <td> 2010</td>\n",
        "      <td> 12</td>\n",
        "      <td> 29</td>\n",
        "      <td> 3.55</td>\n",
        "      <td> 13.10</td>\n",
        "      <td> 5.71</td>\n",
        "      <td> 4.87</td>\n",
        "    </tr>\n",
        "    <tr>\n",
        "      <th>22643</th>\n",
        "      <td> 2010</td>\n",
        "      <td> 12</td>\n",
        "      <td> 30</td>\n",
        "      <td> 0.00</td>\n",
        "      <td>  9.45</td>\n",
        "      <td> 0.81</td>\n",
        "      <td> 7.61</td>\n",
        "    </tr>\n",
        "    <tr>\n",
        "      <th>22644</th>\n",
        "      <td> 2010</td>\n",
        "      <td> 12</td>\n",
        "      <td> 31</td>\n",
        "      <td> 0.00</td>\n",
        "      <td>  9.34</td>\n",
        "      <td>-1.39</td>\n",
        "      <td> 2.16</td>\n",
        "    </tr>\n",
        "  </tbody>\n",
        "</table>\n",
        "</div>"
       ],
       "metadata": {},
       "output_type": "pyout",
       "prompt_number": 53,
       "text": [
        "       year  month  day  precipitation   tmax  tmin  wind_speed\n",
        "22640  2010     12   27           7.12  12.90  2.85        3.85\n",
        "22641  2010     12   28           7.15  11.93  4.16        2.07\n",
        "22642  2010     12   29           3.55  13.10  5.71        4.87\n",
        "22643  2010     12   30           0.00   9.45  0.81        7.61\n",
        "22644  2010     12   31           0.00   9.34 -1.39        2.16"
       ]
      }
     ],
     "prompt_number": 53
    },
    {
     "cell_type": "heading",
     "level": 1,
     "metadata": {},
     "source": [
      "1. Grouping on a single field"
     ]
    },
    {
     "cell_type": "markdown",
     "metadata": {},
     "source": [
      "Let's say we want information about the average temperature for each month in the period of record.\n",
      "\n",
      "We can get this information by using the <b>.groupby()</b> method on the month field."
     ]
    },
    {
     "cell_type": "code",
     "collapsed": false,
     "input": [
      "df.groupby('month')"
     ],
     "language": "python",
     "metadata": {},
     "outputs": [
      {
       "metadata": {},
       "output_type": "pyout",
       "prompt_number": 7,
       "text": [
        "<pandas.core.groupby.DataFrameGroupBy object at 0x7f74e83540d0>"
       ]
      }
     ],
     "prompt_number": 7
    },
    {
     "cell_type": "markdown",
     "metadata": {},
     "source": [
      "Note that it just returns a memory object. To create meaningful output, we have to call an aggregator function (like sum, count, mean, etc.), just like in MS ACCESS (tm)."
     ]
    },
    {
     "cell_type": "code",
     "collapsed": false,
     "input": [
      "monthly_means = df.groupby('month').mean()"
     ],
     "language": "python",
     "metadata": {},
     "outputs": [],
     "prompt_number": 8
    },
    {
     "cell_type": "code",
     "collapsed": false,
     "input": [
      "monthly_means"
     ],
     "language": "python",
     "metadata": {},
     "outputs": [
      {
       "html": [
        "<div style=\"max-height:1000px;max-width:1500px;overflow:auto;\">\n",
        "<table border=\"1\" class=\"dataframe\">\n",
        "  <thead>\n",
        "    <tr style=\"text-align: right;\">\n",
        "      <th></th>\n",
        "      <th>year</th>\n",
        "      <th>day</th>\n",
        "      <th>precipitation</th>\n",
        "      <th>tmax</th>\n",
        "      <th>tmin</th>\n",
        "      <th>wind_speed</th>\n",
        "    </tr>\n",
        "    <tr>\n",
        "      <th>month</th>\n",
        "      <th></th>\n",
        "      <th></th>\n",
        "      <th></th>\n",
        "      <th></th>\n",
        "      <th></th>\n",
        "      <th></th>\n",
        "    </tr>\n",
        "  </thead>\n",
        "  <tbody>\n",
        "    <tr>\n",
        "      <th>1 </th>\n",
        "      <td> 1979.500000</td>\n",
        "      <td> 16.000000</td>\n",
        "      <td> 1.363085</td>\n",
        "      <td> 12.560749</td>\n",
        "      <td>  2.439339</td>\n",
        "      <td> 2.786618</td>\n",
        "    </tr>\n",
        "    <tr>\n",
        "      <th>2 </th>\n",
        "      <td> 1979.504283</td>\n",
        "      <td> 14.624215</td>\n",
        "      <td> 1.310263</td>\n",
        "      <td> 16.546619</td>\n",
        "      <td>  4.268766</td>\n",
        "      <td> 2.740531</td>\n",
        "    </tr>\n",
        "    <tr>\n",
        "      <th>3 </th>\n",
        "      <td> 1979.500000</td>\n",
        "      <td> 16.000000</td>\n",
        "      <td> 1.124272</td>\n",
        "      <td> 19.835510</td>\n",
        "      <td>  6.186056</td>\n",
        "      <td> 2.913267</td>\n",
        "    </tr>\n",
        "    <tr>\n",
        "      <th>4 </th>\n",
        "      <td> 1979.500000</td>\n",
        "      <td> 15.500000</td>\n",
        "      <td> 0.660860</td>\n",
        "      <td> 23.871661</td>\n",
        "      <td>  8.380817</td>\n",
        "      <td> 3.199656</td>\n",
        "    </tr>\n",
        "    <tr>\n",
        "      <th>5 </th>\n",
        "      <td> 1979.500000</td>\n",
        "      <td> 16.000000</td>\n",
        "      <td> 0.216472</td>\n",
        "      <td> 28.782997</td>\n",
        "      <td> 11.938340</td>\n",
        "      <td> 3.226035</td>\n",
        "    </tr>\n",
        "    <tr>\n",
        "      <th>6 </th>\n",
        "      <td> 1979.500000</td>\n",
        "      <td> 15.500000</td>\n",
        "      <td> 0.071263</td>\n",
        "      <td> 33.032903</td>\n",
        "      <td> 15.184054</td>\n",
        "      <td> 2.989833</td>\n",
        "    </tr>\n",
        "    <tr>\n",
        "      <th>7 </th>\n",
        "      <td> 1979.500000</td>\n",
        "      <td> 16.000000</td>\n",
        "      <td> 0.006155</td>\n",
        "      <td> 36.309917</td>\n",
        "      <td> 17.726696</td>\n",
        "      <td> 2.433611</td>\n",
        "    </tr>\n",
        "    <tr>\n",
        "      <th>8 </th>\n",
        "      <td> 1979.500000</td>\n",
        "      <td> 16.000000</td>\n",
        "      <td> 0.019443</td>\n",
        "      <td> 35.340130</td>\n",
        "      <td> 16.623158</td>\n",
        "      <td> 2.178361</td>\n",
        "    </tr>\n",
        "    <tr>\n",
        "      <th>9 </th>\n",
        "      <td> 1979.500000</td>\n",
        "      <td> 15.500000</td>\n",
        "      <td> 0.135097</td>\n",
        "      <td> 32.402290</td>\n",
        "      <td> 14.129957</td>\n",
        "      <td> 1.936930</td>\n",
        "    </tr>\n",
        "    <tr>\n",
        "      <th>10</th>\n",
        "      <td> 1979.500000</td>\n",
        "      <td> 16.000000</td>\n",
        "      <td> 0.301681</td>\n",
        "      <td> 26.818814</td>\n",
        "      <td>  9.609194</td>\n",
        "      <td> 2.079095</td>\n",
        "    </tr>\n",
        "    <tr>\n",
        "      <th>11</th>\n",
        "      <td> 1979.500000</td>\n",
        "      <td> 15.500000</td>\n",
        "      <td> 0.758780</td>\n",
        "      <td> 18.834780</td>\n",
        "      <td>  4.930559</td>\n",
        "      <td> 2.439317</td>\n",
        "    </tr>\n",
        "    <tr>\n",
        "      <th>12</th>\n",
        "      <td> 1979.500000</td>\n",
        "      <td> 16.000000</td>\n",
        "      <td> 1.082763</td>\n",
        "      <td> 12.783704</td>\n",
        "      <td>  2.184932</td>\n",
        "      <td> 2.789438</td>\n",
        "    </tr>\n",
        "  </tbody>\n",
        "</table>\n",
        "</div>"
       ],
       "metadata": {},
       "output_type": "pyout",
       "prompt_number": 9,
       "text": [
        "              year        day  precipitation       tmax       tmin  wind_speed\n",
        "month                                                                         \n",
        "1      1979.500000  16.000000       1.363085  12.560749   2.439339    2.786618\n",
        "2      1979.504283  14.624215       1.310263  16.546619   4.268766    2.740531\n",
        "3      1979.500000  16.000000       1.124272  19.835510   6.186056    2.913267\n",
        "4      1979.500000  15.500000       0.660860  23.871661   8.380817    3.199656\n",
        "5      1979.500000  16.000000       0.216472  28.782997  11.938340    3.226035\n",
        "6      1979.500000  15.500000       0.071263  33.032903  15.184054    2.989833\n",
        "7      1979.500000  16.000000       0.006155  36.309917  17.726696    2.433611\n",
        "8      1979.500000  16.000000       0.019443  35.340130  16.623158    2.178361\n",
        "9      1979.500000  15.500000       0.135097  32.402290  14.129957    1.936930\n",
        "10     1979.500000  16.000000       0.301681  26.818814   9.609194    2.079095\n",
        "11     1979.500000  15.500000       0.758780  18.834780   4.930559    2.439317\n",
        "12     1979.500000  16.000000       1.082763  12.783704   2.184932    2.789438"
       ]
      }
     ],
     "prompt_number": 9
    },
    {
     "cell_type": "markdown",
     "metadata": {},
     "source": [
      "Let's plot the average temperature (mean of tmax and tmin) for each month of the year."
     ]
    },
    {
     "cell_type": "code",
     "collapsed": false,
     "input": [
      "%pylab inline"
     ],
     "language": "python",
     "metadata": {},
     "outputs": [
      {
       "output_type": "stream",
       "stream": "stdout",
       "text": [
        "Populating the interactive namespace from numpy and matplotlib\n"
       ]
      }
     ],
     "prompt_number": 11
    },
    {
     "cell_type": "code",
     "collapsed": false,
     "input": [
      "plot(monthly_means.index, monthly_means[['tmax', 'tmin']].mean(axis=1))\n",
      "xlim(1,12)\n",
      "xlabel('Month')\n",
      "ylabel('Average monthly temperature (C)')\n",
      "title('Monthly average temperatures')"
     ],
     "language": "python",
     "metadata": {},
     "outputs": [
      {
       "metadata": {},
       "output_type": "pyout",
       "prompt_number": 16,
       "text": [
        "<matplotlib.text.Text at 0x7f74c5682d50>"
       ]
      },
      {
       "metadata": {},
       "output_type": "display_data",
       "png": "[encoded data removed]",
       "text": [
        "<matplotlib.figure.Figure at 0x7f74c56c52d0>"
       ]
      }
     ],
     "prompt_number": 16
    },
    {
     "cell_type": "heading",
     "level": 2,
     "metadata": {},
     "source": [
      "1.1. Using different aggregators"
     ]
    },
    {
     "cell_type": "heading",
     "level": 3,
     "metadata": {},
     "source": [
      "1.1.1. Getting the sum of a group"
     ]
    },
    {
     "cell_type": "markdown",
     "metadata": {},
     "source": [
      "We can aggregate our groupby using essentially any method we want.\n",
      "\n",
      "Say we want to get the total precipitation in each year.\n",
      "\n",
      "We can group by <b>'year'</b>, and then aggregate using the <b>.sum()</b> method."
     ]
    },
    {
     "cell_type": "code",
     "collapsed": false,
     "input": [
      "annual_max_prcp = df.groupby('year').sum()['precipitation']\n",
      "\n",
      "plot(annual_max_prcp.index, annual_max_prcp)\n",
      "xlim(1950,2010)\n",
      "xlabel('Year')\n",
      "ylabel('Precipitation (mm)')\n",
      "title('Yearly total precipitation')"
     ],
     "language": "python",
     "metadata": {},
     "outputs": [
      {
       "metadata": {},
       "output_type": "pyout",
       "prompt_number": 30,
       "text": [
        "<matplotlib.text.Text at 0x7f74c518ddd0>"
       ]
      },
      {
       "metadata": {},
       "output_type": "display_data",
       "png": "[encoded data removed]",
       "text": [
        "<matplotlib.figure.Figure at 0x7f74c52063d0>"
       ]
      }
     ],
     "prompt_number": 30
    },
    {
     "cell_type": "heading",
     "level": 3,
     "metadata": {},
     "source": [
      "1.1.2. Getting the size of a group"
     ]
    },
    {
     "cell_type": "markdown",
     "metadata": {},
     "source": [
      "Call the <b>.size()</b> method to get the size of each element in a groupby."
     ]
    },
    {
     "cell_type": "code",
     "collapsed": false,
     "input": [
      "df.groupby('month').size()"
     ],
     "language": "python",
     "metadata": {},
     "outputs": [
      {
       "metadata": {},
       "output_type": "pyout",
       "prompt_number": 50,
       "text": [
        "month\n",
        "1        1922\n",
        "2        1751\n",
        "3        1922\n",
        "4        1860\n",
        "5        1922\n",
        "6        1860\n",
        "7        1922\n",
        "8        1922\n",
        "9        1860\n",
        "10       1922\n",
        "11       1860\n",
        "12       1922\n",
        "dtype: int64"
       ]
      }
     ],
     "prompt_number": 50
    },
    {
     "cell_type": "code",
     "collapsed": false,
     "input": [
      "df.groupby('year').size().head()"
     ],
     "language": "python",
     "metadata": {},
     "outputs": [
      {
       "metadata": {},
       "output_type": "pyout",
       "prompt_number": 52,
       "text": [
        "year\n",
        "1949    365\n",
        "1950    365\n",
        "1951    365\n",
        "1952    366\n",
        "1953    365\n",
        "dtype: int64"
       ]
      }
     ],
     "prompt_number": 52
    },
    {
     "cell_type": "heading",
     "level": 1,
     "metadata": {},
     "source": [
      "2. Grouping on multiple fields"
     ]
    },
    {
     "cell_type": "markdown",
     "metadata": {},
     "source": [
      "We can also call groupby on a list of fields to get a hierarchical index.\n",
      "\n",
      "Let's say we want the average temperature for each <b>day</b> of the year, instead of just the average temperature for each month.\n",
      "\n",
      "However, if we groupby the field 'day', we end up with average temperature values for each day of the month (1-31)."
     ]
    },
    {
     "cell_type": "code",
     "collapsed": false,
     "input": [
      "len(df.groupby('day').mean())"
     ],
     "language": "python",
     "metadata": {},
     "outputs": [
      {
       "metadata": {},
       "output_type": "pyout",
       "prompt_number": 41,
       "text": [
        "31"
       ]
      }
     ],
     "prompt_number": 41
    },
    {
     "cell_type": "markdown",
     "metadata": {},
     "source": [
      "Thus, to get the average temperature for each day of the year (1-366), we need to group by <b>month</b> AND <b>day</b>"
     ]
    },
    {
     "cell_type": "code",
     "collapsed": false,
     "input": [
      "daily_mean = df.groupby(['month', 'day']).mean()\n",
      "\n",
      "print len(daily_mean)\n",
      "daily_mean.head()"
     ],
     "language": "python",
     "metadata": {},
     "outputs": [
      {
       "output_type": "stream",
       "stream": "stdout",
       "text": [
        "366\n"
       ]
      },
      {
       "html": [
        "<div style=\"max-height:1000px;max-width:1500px;overflow:auto;\">\n",
        "<table border=\"1\" class=\"dataframe\">\n",
        "  <thead>\n",
        "    <tr style=\"text-align: right;\">\n",
        "      <th></th>\n",
        "      <th></th>\n",
        "      <th>year</th>\n",
        "      <th>precipitation</th>\n",
        "      <th>tmax</th>\n",
        "      <th>tmin</th>\n",
        "      <th>wind_speed</th>\n",
        "    </tr>\n",
        "    <tr>\n",
        "      <th>month</th>\n",
        "      <th>day</th>\n",
        "      <th></th>\n",
        "      <th></th>\n",
        "      <th></th>\n",
        "      <th></th>\n",
        "      <th></th>\n",
        "    </tr>\n",
        "  </thead>\n",
        "  <tbody>\n",
        "    <tr>\n",
        "      <th rowspan=\"5\" valign=\"top\">1</th>\n",
        "      <th>1</th>\n",
        "      <td> 1979.5</td>\n",
        "      <td> 1.752903</td>\n",
        "      <td> 11.524677</td>\n",
        "      <td> 1.477258</td>\n",
        "      <td> 2.887903</td>\n",
        "    </tr>\n",
        "    <tr>\n",
        "      <th>2</th>\n",
        "      <td> 1979.5</td>\n",
        "      <td> 1.558871</td>\n",
        "      <td> 11.044355</td>\n",
        "      <td> 1.453065</td>\n",
        "      <td> 3.341774</td>\n",
        "    </tr>\n",
        "    <tr>\n",
        "      <th>3</th>\n",
        "      <td> 1979.5</td>\n",
        "      <td> 1.069839</td>\n",
        "      <td> 10.998226</td>\n",
        "      <td> 1.356935</td>\n",
        "      <td> 3.063065</td>\n",
        "    </tr>\n",
        "    <tr>\n",
        "      <th>4</th>\n",
        "      <td> 1979.5</td>\n",
        "      <td> 1.735968</td>\n",
        "      <td> 11.080323</td>\n",
        "      <td> 1.259032</td>\n",
        "      <td> 2.923387</td>\n",
        "    </tr>\n",
        "    <tr>\n",
        "      <th>5</th>\n",
        "      <td> 1979.5</td>\n",
        "      <td> 0.914194</td>\n",
        "      <td> 11.097581</td>\n",
        "      <td> 1.864355</td>\n",
        "      <td> 3.118065</td>\n",
        "    </tr>\n",
        "  </tbody>\n",
        "</table>\n",
        "</div>"
       ],
       "metadata": {},
       "output_type": "pyout",
       "prompt_number": 45,
       "text": [
        "             year  precipitation       tmax      tmin  wind_speed\n",
        "month day                                                        \n",
        "1     1    1979.5       1.752903  11.524677  1.477258    2.887903\n",
        "      2    1979.5       1.558871  11.044355  1.453065    3.341774\n",
        "      3    1979.5       1.069839  10.998226  1.356935    3.063065\n",
        "      4    1979.5       1.735968  11.080323  1.259032    2.923387\n",
        "      5    1979.5       0.914194  11.097581  1.864355    3.118065"
       ]
      }
     ],
     "prompt_number": 45
    },
    {
     "cell_type": "code",
     "collapsed": false,
     "input": [],
     "language": "python",
     "metadata": {},
     "outputs": [],
     "prompt_number": 41
    },
    {
     "cell_type": "code",
     "collapsed": false,
     "input": [
      "plot(daily_mean.reset_index().index, daily_mean_temps['tmax'], label='tmax')\n",
      "plot(daily_mean.reset_index().index, daily_mean_temps['tmin'], label='tmin')\n",
      "\n",
      "xlim(0,366)\n",
      "xlabel('Day of year')\n",
      "ylabel('Average temperature (C)')\n",
      "title('Average max/min temperatures by day of year')\n",
      "legend()"
     ],
     "language": "python",
     "metadata": {},
     "outputs": [
      {
       "metadata": {},
       "output_type": "pyout",
       "prompt_number": 46,
       "text": [
        "<matplotlib.legend.Legend at 0x7f74c5069e50>"
       ]
      },
      {
       "metadata": {},
       "output_type": "display_data",
       "png": "[encoded data removed]",
       "text": [
        "<matplotlib.figure.Figure at 0x7f74c51dfdd0>"
       ]
      }
     ],
     "prompt_number": 46
    },
    {
     "cell_type": "code",
     "collapsed": false,
     "input": [],
     "language": "python",
     "metadata": {},
     "outputs": []
    }
   ],
   "metadata": {}
  }
 ]
}