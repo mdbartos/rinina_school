{
 "metadata": {
  "name": "",
  "signature": "sha256:5759011b7a29eb499d288ecadcee12f304b52ffea8db8382dacc8eaea6bf4081"
 },
 "nbformat": 3,
 "nbformat_minor": 0,
 "worksheets": [
  {
   "cells": [
    {
     "cell_type": "heading",
     "level": 1,
     "metadata": {},
     "source": [
      "Lesson 5 | Joining datasets with concat"
     ]
    },
    {
     "cell_type": "markdown",
     "metadata": {},
     "source": [
      ".................................................................................................................................\n",
      "Topics\n",
      "-----------------------------------------\n",
      "\n",
      "\n",
      "1. Setting and resetting the index\n",
      "\n",
      "2. Concatenating DataFrames\n",
      "\n",
      "3. Choosing the concatenation axis\n",
      "\n",
      "4. Inner and outer joins\n",
      "\n",
      "................................................................................................................................."
     ]
    },
    {
     "cell_type": "markdown",
     "metadata": {},
     "source": [
      "Greetings. Welcome to your fourth day in pandas school.\n",
      "\n",
      "Today we will show you how to join datasets together using the <b>concat()</b> method."
     ]
    },
    {
     "cell_type": "markdown",
     "metadata": {},
     "source": [
      "Concatenation allows you to join Series or DataFrames togther based on a <b>shared index</b>.\n",
      "\n",
      "Let's start by creating two dataframes. We can use the from_dict method to create DataFrames from a dictionary:"
     ]
    },
    {
     "cell_type": "code",
     "collapsed": false,
     "input": [
      "import numpy as np\n",
      "import pandas as pd\n",
      "\n",
      "d1 = {\n",
      "    'NAME' : ['dog', 'cat', 'bat', 'goldfish', 'owl'],\n",
      "    'CLASS' : ['mammal', 'mammal', 'mammal', 'fish', 'bird']\n",
      "    }\n",
      "\n",
      "d2 = {\n",
      "    'NAME' : ['bat', 'goldfish', 'dog', 'owl', 'cat'],\n",
      "    'WEIGHT_LBS' : [0.5, 0.2, 50, 4, 8],\n",
      "    'COLOR' : ['black', 'gold', 'brown', 'brown', 'gray'],\n",
      "    'LENGTH_IN' : [6, 3, 36, 10, 14]\n",
      "    }\n",
      "\n",
      "df_1 = pd.DataFrame.from_dict(d1)\n",
      "\n",
      "df_2 = pd.DataFrame.from_dict(d2)"
     ],
     "language": "python",
     "metadata": {},
     "outputs": [],
     "prompt_number": 24
    },
    {
     "cell_type": "markdown",
     "metadata": {},
     "source": [
      "Let's call these dataframes to see what they look like."
     ]
    },
    {
     "cell_type": "code",
     "collapsed": false,
     "input": [
      "df_1"
     ],
     "language": "python",
     "metadata": {},
     "outputs": [
      {
       "html": [
        "<div style=\"max-height:1000px;max-width:1500px;overflow:auto;\">\n",
        "<table border=\"1\" class=\"dataframe\">\n",
        "  <thead>\n",
        "    <tr style=\"text-align: right;\">\n",
        "      <th></th>\n",
        "      <th>CLASS</th>\n",
        "      <th>NAME</th>\n",
        "    </tr>\n",
        "  </thead>\n",
        "  <tbody>\n",
        "    <tr>\n",
        "      <th>0</th>\n",
        "      <td> mammal</td>\n",
        "      <td>      dog</td>\n",
        "    </tr>\n",
        "    <tr>\n",
        "      <th>1</th>\n",
        "      <td> mammal</td>\n",
        "      <td>      cat</td>\n",
        "    </tr>\n",
        "    <tr>\n",
        "      <th>2</th>\n",
        "      <td> mammal</td>\n",
        "      <td>      bat</td>\n",
        "    </tr>\n",
        "    <tr>\n",
        "      <th>3</th>\n",
        "      <td>   fish</td>\n",
        "      <td> goldfish</td>\n",
        "    </tr>\n",
        "    <tr>\n",
        "      <th>4</th>\n",
        "      <td>   bird</td>\n",
        "      <td>      owl</td>\n",
        "    </tr>\n",
        "  </tbody>\n",
        "</table>\n",
        "</div>"
       ],
       "metadata": {},
       "output_type": "pyout",
       "prompt_number": 25,
       "text": [
        "    CLASS      NAME\n",
        "0  mammal       dog\n",
        "1  mammal       cat\n",
        "2  mammal       bat\n",
        "3    fish  goldfish\n",
        "4    bird       owl"
       ]
      }
     ],
     "prompt_number": 25
    },
    {
     "cell_type": "code",
     "collapsed": false,
     "input": [
      "df_2"
     ],
     "language": "python",
     "metadata": {},
     "outputs": [
      {
       "html": [
        "<div style=\"max-height:1000px;max-width:1500px;overflow:auto;\">\n",
        "<table border=\"1\" class=\"dataframe\">\n",
        "  <thead>\n",
        "    <tr style=\"text-align: right;\">\n",
        "      <th></th>\n",
        "      <th>COLOR</th>\n",
        "      <th>LENGTH_IN</th>\n",
        "      <th>NAME</th>\n",
        "      <th>WEIGHT_LBS</th>\n",
        "    </tr>\n",
        "  </thead>\n",
        "  <tbody>\n",
        "    <tr>\n",
        "      <th>0</th>\n",
        "      <td> black</td>\n",
        "      <td>  6</td>\n",
        "      <td>      bat</td>\n",
        "      <td>  0.5</td>\n",
        "    </tr>\n",
        "    <tr>\n",
        "      <th>1</th>\n",
        "      <td>  gold</td>\n",
        "      <td>  3</td>\n",
        "      <td> goldfish</td>\n",
        "      <td>  0.2</td>\n",
        "    </tr>\n",
        "    <tr>\n",
        "      <th>2</th>\n",
        "      <td> brown</td>\n",
        "      <td> 36</td>\n",
        "      <td>      dog</td>\n",
        "      <td> 50.0</td>\n",
        "    </tr>\n",
        "    <tr>\n",
        "      <th>3</th>\n",
        "      <td> brown</td>\n",
        "      <td> 10</td>\n",
        "      <td>      owl</td>\n",
        "      <td>  4.0</td>\n",
        "    </tr>\n",
        "    <tr>\n",
        "      <th>4</th>\n",
        "      <td>  gray</td>\n",
        "      <td> 14</td>\n",
        "      <td>      cat</td>\n",
        "      <td>  8.0</td>\n",
        "    </tr>\n",
        "  </tbody>\n",
        "</table>\n",
        "</div>"
       ],
       "metadata": {},
       "output_type": "pyout",
       "prompt_number": 26,
       "text": [
        "   COLOR  LENGTH_IN      NAME  WEIGHT_LBS\n",
        "0  black          6       bat         0.5\n",
        "1   gold          3  goldfish         0.2\n",
        "2  brown         36       dog        50.0\n",
        "3  brown         10       owl         4.0\n",
        "4   gray         14       cat         8.0"
       ]
      }
     ],
     "prompt_number": 26
    },
    {
     "cell_type": "heading",
     "level": 2,
     "metadata": {},
     "source": [
      "1. Setting and resetting the index"
     ]
    },
    {
     "cell_type": "heading",
     "level": 3,
     "metadata": {},
     "source": [
      "1.1. Setting the index"
     ]
    },
    {
     "cell_type": "markdown",
     "metadata": {},
     "source": [
      "These two dataframes have a common <b>'NAME'</b> field.\n",
      "\n",
      "We want to identify each row by the 'name', so let's <b>set the index</b> to be the 'NAME' column using the <b>.set_index()</b> method. "
     ]
    },
    {
     "cell_type": "code",
     "collapsed": false,
     "input": [
      "df_1 = df_1.set_index('NAME')\n",
      "df_2 = df_2.set_index('NAME')"
     ],
     "language": "python",
     "metadata": {},
     "outputs": [],
     "prompt_number": 27
    },
    {
     "cell_type": "markdown",
     "metadata": {},
     "source": [
      "Now let's call the dataframes again. You can see that the 'NAME' label is slightly below the column labels. This means that the index of the dataframe is now 'NAME'."
     ]
    },
    {
     "cell_type": "code",
     "collapsed": false,
     "input": [
      "df_1"
     ],
     "language": "python",
     "metadata": {},
     "outputs": [
      {
       "html": [
        "<div style=\"max-height:1000px;max-width:1500px;overflow:auto;\">\n",
        "<table border=\"1\" class=\"dataframe\">\n",
        "  <thead>\n",
        "    <tr style=\"text-align: right;\">\n",
        "      <th></th>\n",
        "      <th>CLASS</th>\n",
        "    </tr>\n",
        "    <tr>\n",
        "      <th>NAME</th>\n",
        "      <th></th>\n",
        "    </tr>\n",
        "  </thead>\n",
        "  <tbody>\n",
        "    <tr>\n",
        "      <th>dog</th>\n",
        "      <td> mammal</td>\n",
        "    </tr>\n",
        "    <tr>\n",
        "      <th>cat</th>\n",
        "      <td> mammal</td>\n",
        "    </tr>\n",
        "    <tr>\n",
        "      <th>bat</th>\n",
        "      <td> mammal</td>\n",
        "    </tr>\n",
        "    <tr>\n",
        "      <th>goldfish</th>\n",
        "      <td>   fish</td>\n",
        "    </tr>\n",
        "    <tr>\n",
        "      <th>owl</th>\n",
        "      <td>   bird</td>\n",
        "    </tr>\n",
        "  </tbody>\n",
        "</table>\n",
        "</div>"
       ],
       "metadata": {},
       "output_type": "pyout",
       "prompt_number": 28,
       "text": [
        "           CLASS\n",
        "NAME            \n",
        "dog       mammal\n",
        "cat       mammal\n",
        "bat       mammal\n",
        "goldfish    fish\n",
        "owl         bird"
       ]
      }
     ],
     "prompt_number": 28
    },
    {
     "cell_type": "code",
     "collapsed": false,
     "input": [
      "df_2"
     ],
     "language": "python",
     "metadata": {},
     "outputs": [
      {
       "html": [
        "<div style=\"max-height:1000px;max-width:1500px;overflow:auto;\">\n",
        "<table border=\"1\" class=\"dataframe\">\n",
        "  <thead>\n",
        "    <tr style=\"text-align: right;\">\n",
        "      <th></th>\n",
        "      <th>COLOR</th>\n",
        "      <th>LENGTH_IN</th>\n",
        "      <th>WEIGHT_LBS</th>\n",
        "    </tr>\n",
        "    <tr>\n",
        "      <th>NAME</th>\n",
        "      <th></th>\n",
        "      <th></th>\n",
        "      <th></th>\n",
        "    </tr>\n",
        "  </thead>\n",
        "  <tbody>\n",
        "    <tr>\n",
        "      <th>bat</th>\n",
        "      <td> black</td>\n",
        "      <td>  6</td>\n",
        "      <td>  0.5</td>\n",
        "    </tr>\n",
        "    <tr>\n",
        "      <th>goldfish</th>\n",
        "      <td>  gold</td>\n",
        "      <td>  3</td>\n",
        "      <td>  0.2</td>\n",
        "    </tr>\n",
        "    <tr>\n",
        "      <th>dog</th>\n",
        "      <td> brown</td>\n",
        "      <td> 36</td>\n",
        "      <td> 50.0</td>\n",
        "    </tr>\n",
        "    <tr>\n",
        "      <th>owl</th>\n",
        "      <td> brown</td>\n",
        "      <td> 10</td>\n",
        "      <td>  4.0</td>\n",
        "    </tr>\n",
        "    <tr>\n",
        "      <th>cat</th>\n",
        "      <td>  gray</td>\n",
        "      <td> 14</td>\n",
        "      <td>  8.0</td>\n",
        "    </tr>\n",
        "  </tbody>\n",
        "</table>\n",
        "</div>"
       ],
       "metadata": {},
       "output_type": "pyout",
       "prompt_number": 29,
       "text": [
        "          COLOR  LENGTH_IN  WEIGHT_LBS\n",
        "NAME                                  \n",
        "bat       black          6         0.5\n",
        "goldfish   gold          3         0.2\n",
        "dog       brown         36        50.0\n",
        "owl       brown         10         4.0\n",
        "cat        gray         14         8.0"
       ]
      }
     ],
     "prompt_number": 29
    },
    {
     "cell_type": "heading",
     "level": 3,
     "metadata": {},
     "source": [
      "1.2. Resetting the index"
     ]
    },
    {
     "cell_type": "markdown",
     "metadata": {},
     "source": [
      "If you want to reset the index to an integer index, call the reset_index method:"
     ]
    },
    {
     "cell_type": "code",
     "collapsed": false,
     "input": [
      "df_1.reset_index()\n",
      "\n",
      "#Note that in this case, it didn't save the change because I didn't reassign the variable df_1."
     ],
     "language": "python",
     "metadata": {},
     "outputs": [
      {
       "html": [
        "<div style=\"max-height:1000px;max-width:1500px;overflow:auto;\">\n",
        "<table border=\"1\" class=\"dataframe\">\n",
        "  <thead>\n",
        "    <tr style=\"text-align: right;\">\n",
        "      <th></th>\n",
        "      <th>NAME</th>\n",
        "      <th>CLASS</th>\n",
        "    </tr>\n",
        "  </thead>\n",
        "  <tbody>\n",
        "    <tr>\n",
        "      <th>0</th>\n",
        "      <td>      dog</td>\n",
        "      <td> mammal</td>\n",
        "    </tr>\n",
        "    <tr>\n",
        "      <th>1</th>\n",
        "      <td>      cat</td>\n",
        "      <td> mammal</td>\n",
        "    </tr>\n",
        "    <tr>\n",
        "      <th>2</th>\n",
        "      <td>      bat</td>\n",
        "      <td> mammal</td>\n",
        "    </tr>\n",
        "    <tr>\n",
        "      <th>3</th>\n",
        "      <td> goldfish</td>\n",
        "      <td>   fish</td>\n",
        "    </tr>\n",
        "    <tr>\n",
        "      <th>4</th>\n",
        "      <td>      owl</td>\n",
        "      <td>   bird</td>\n",
        "    </tr>\n",
        "  </tbody>\n",
        "</table>\n",
        "</div>"
       ],
       "metadata": {},
       "output_type": "pyout",
       "prompt_number": 30,
       "text": [
        "       NAME   CLASS\n",
        "0       dog  mammal\n",
        "1       cat  mammal\n",
        "2       bat  mammal\n",
        "3  goldfish    fish\n",
        "4       owl    bird"
       ]
      }
     ],
     "prompt_number": 30
    },
    {
     "cell_type": "heading",
     "level": 2,
     "metadata": {},
     "source": [
      "2. Concatenating DataFrames"
     ]
    },
    {
     "cell_type": "markdown",
     "metadata": {},
     "source": [
      "Okay, now we have two dataframes, <b>df_1</b> and <b>df_2</b>. But wait a second, the rows are in a different order!\n",
      "\n",
      "No problem. The <b>.concat()</b> function will match the rows based on a shared index:"
     ]
    },
    {
     "cell_type": "code",
     "collapsed": false,
     "input": [
      "concat_df = pd.concat([df_1, df_2], axis=1)\n",
      "\n",
      "#                   ^ The first argument is a list of DataFrames or Series to concatenate.\n",
      "\n",
      "#                               ^ The second argument (axis=...) tells the function to concatenate using the row labels.\n",
      "#                                 More on this in a second..."
     ],
     "language": "python",
     "metadata": {},
     "outputs": [],
     "prompt_number": 37
    },
    {
     "cell_type": "markdown",
     "metadata": {},
     "source": [
      "The two DataFrames have now been joined into a single DataFrame."
     ]
    },
    {
     "cell_type": "code",
     "collapsed": false,
     "input": [
      "concat_df"
     ],
     "language": "python",
     "metadata": {},
     "outputs": [
      {
       "html": [
        "<div style=\"max-height:1000px;max-width:1500px;overflow:auto;\">\n",
        "<table border=\"1\" class=\"dataframe\">\n",
        "  <thead>\n",
        "    <tr style=\"text-align: right;\">\n",
        "      <th></th>\n",
        "      <th>CLASS</th>\n",
        "      <th>COLOR</th>\n",
        "      <th>LENGTH_IN</th>\n",
        "      <th>WEIGHT_LBS</th>\n",
        "    </tr>\n",
        "  </thead>\n",
        "  <tbody>\n",
        "    <tr>\n",
        "      <th>bat</th>\n",
        "      <td> mammal</td>\n",
        "      <td> black</td>\n",
        "      <td>  6</td>\n",
        "      <td>  0.5</td>\n",
        "    </tr>\n",
        "    <tr>\n",
        "      <th>cat</th>\n",
        "      <td> mammal</td>\n",
        "      <td>  gray</td>\n",
        "      <td> 14</td>\n",
        "      <td>  8.0</td>\n",
        "    </tr>\n",
        "    <tr>\n",
        "      <th>dog</th>\n",
        "      <td> mammal</td>\n",
        "      <td> brown</td>\n",
        "      <td> 36</td>\n",
        "      <td> 50.0</td>\n",
        "    </tr>\n",
        "    <tr>\n",
        "      <th>goldfish</th>\n",
        "      <td>   fish</td>\n",
        "      <td>  gold</td>\n",
        "      <td>  3</td>\n",
        "      <td>  0.2</td>\n",
        "    </tr>\n",
        "    <tr>\n",
        "      <th>owl</th>\n",
        "      <td>   bird</td>\n",
        "      <td> brown</td>\n",
        "      <td> 10</td>\n",
        "      <td>  4.0</td>\n",
        "    </tr>\n",
        "  </tbody>\n",
        "</table>\n",
        "</div>"
       ],
       "metadata": {},
       "output_type": "pyout",
       "prompt_number": 38,
       "text": [
        "           CLASS  COLOR  LENGTH_IN  WEIGHT_LBS\n",
        "bat       mammal  black          6         0.5\n",
        "cat       mammal   gray         14         8.0\n",
        "dog       mammal  brown         36        50.0\n",
        "goldfish    fish   gold          3         0.2\n",
        "owl         bird  brown         10         4.0"
       ]
      }
     ],
     "prompt_number": 38
    },
    {
     "cell_type": "heading",
     "level": 2,
     "metadata": {},
     "source": [
      "3. Choosing the concatenation axis"
     ]
    },
    {
     "cell_type": "markdown",
     "metadata": {},
     "source": [
      "When using <b>pd.concat()</b>, you need to specify the axis you want to concatenate along.\n",
      "\n",
      "- <b>axis=0</b> will concatenate based on the column labels; i.e. it will add new rows based on shared column labels.\n",
      "\n",
      "- <b>axis=1</b> will concatenate based on row labels; i.e. it will add new columns based on shared row labels.\n",
      "\n",
      "In other words...\n",
      "\n",
      "- WHEN YOU WANT TO ADD NEW COLUMNS, USE <b>axis=1</b>\n",
      "\n",
      "- WHEN YOU WANT TO ADD ROWS, USE <b>axis=0</b>\n",
      "\n",
      "In the previous case, the DataFrames shared a set of row labels, but had different column labels.\n",
      "\n",
      "We wanted to add the extra columns and match up the row labels. Thus, we used <b>axis=1</b>.\n",
      "\n",
      "Let's add some new rows to our DataFrame using <b>axis=0</b>:"
     ]
    },
    {
     "cell_type": "code",
     "collapsed": false,
     "input": [
      "d3 = {\n",
      "        'NAME' : ['cockatiel', 'turtle', 'eagle', 'python'],\n",
      "        'CLASS' : ['bird', 'reptile', 'bird', 'reptile'],\n",
      "        'LENGTH_IN' : [8, 20, 40, 80],\n",
      "        'COLOR' : ['white', 'green', 'brown', 'green']\n",
      "        }\n",
      "\n",
      "df_3 = pd.DataFrame.from_dict(d3).set_index('NAME') #Creates a dataframe from dict and sets the index to 'NAME'"
     ],
     "language": "python",
     "metadata": {},
     "outputs": [],
     "prompt_number": 33
    },
    {
     "cell_type": "code",
     "collapsed": false,
     "input": [
      "df_3"
     ],
     "language": "python",
     "metadata": {},
     "outputs": [
      {
       "html": [
        "<div style=\"max-height:1000px;max-width:1500px;overflow:auto;\">\n",
        "<table border=\"1\" class=\"dataframe\">\n",
        "  <thead>\n",
        "    <tr style=\"text-align: right;\">\n",
        "      <th></th>\n",
        "      <th>CLASS</th>\n",
        "      <th>COLOR</th>\n",
        "      <th>LENGTH_IN</th>\n",
        "    </tr>\n",
        "    <tr>\n",
        "      <th>NAME</th>\n",
        "      <th></th>\n",
        "      <th></th>\n",
        "      <th></th>\n",
        "    </tr>\n",
        "  </thead>\n",
        "  <tbody>\n",
        "    <tr>\n",
        "      <th>cockatiel</th>\n",
        "      <td>    bird</td>\n",
        "      <td> white</td>\n",
        "      <td>  8</td>\n",
        "    </tr>\n",
        "    <tr>\n",
        "      <th>turtle</th>\n",
        "      <td> reptile</td>\n",
        "      <td> green</td>\n",
        "      <td> 20</td>\n",
        "    </tr>\n",
        "    <tr>\n",
        "      <th>eagle</th>\n",
        "      <td>    bird</td>\n",
        "      <td> brown</td>\n",
        "      <td> 40</td>\n",
        "    </tr>\n",
        "    <tr>\n",
        "      <th>python</th>\n",
        "      <td> reptile</td>\n",
        "      <td> green</td>\n",
        "      <td> 80</td>\n",
        "    </tr>\n",
        "  </tbody>\n",
        "</table>\n",
        "</div>"
       ],
       "metadata": {},
       "output_type": "pyout",
       "prompt_number": 34,
       "text": [
        "             CLASS  COLOR  LENGTH_IN\n",
        "NAME                                \n",
        "cockatiel     bird  white          8\n",
        "turtle     reptile  green         20\n",
        "eagle         bird  brown         40\n",
        "python     reptile  green         80"
       ]
      }
     ],
     "prompt_number": 34
    },
    {
     "cell_type": "markdown",
     "metadata": {},
     "source": [
      "Now let's add these new rows by using <b>pd.concat()</b> to concatenate based on the column labels."
     ]
    },
    {
     "cell_type": "code",
     "collapsed": false,
     "input": [
      "concat_df_2 = pd.concat([newdf, df_3], axis=0) #Side note: if the axis isn't specified, it defaults to axis=0"
     ],
     "language": "python",
     "metadata": {},
     "outputs": [],
     "prompt_number": 39
    },
    {
     "cell_type": "code",
     "collapsed": false,
     "input": [
      "concat_df_2"
     ],
     "language": "python",
     "metadata": {},
     "outputs": [
      {
       "html": [
        "<div style=\"max-height:1000px;max-width:1500px;overflow:auto;\">\n",
        "<table border=\"1\" class=\"dataframe\">\n",
        "  <thead>\n",
        "    <tr style=\"text-align: right;\">\n",
        "      <th></th>\n",
        "      <th>CLASS</th>\n",
        "      <th>COLOR</th>\n",
        "      <th>LENGTH_IN</th>\n",
        "      <th>WEIGHT_LBS</th>\n",
        "    </tr>\n",
        "  </thead>\n",
        "  <tbody>\n",
        "    <tr>\n",
        "      <th>bat</th>\n",
        "      <td>  mammal</td>\n",
        "      <td> black</td>\n",
        "      <td>  6</td>\n",
        "      <td>  0.5</td>\n",
        "    </tr>\n",
        "    <tr>\n",
        "      <th>cat</th>\n",
        "      <td>  mammal</td>\n",
        "      <td>  gray</td>\n",
        "      <td> 14</td>\n",
        "      <td>  8.0</td>\n",
        "    </tr>\n",
        "    <tr>\n",
        "      <th>dog</th>\n",
        "      <td>  mammal</td>\n",
        "      <td> brown</td>\n",
        "      <td> 36</td>\n",
        "      <td> 50.0</td>\n",
        "    </tr>\n",
        "    <tr>\n",
        "      <th>goldfish</th>\n",
        "      <td>    fish</td>\n",
        "      <td>  gold</td>\n",
        "      <td>  3</td>\n",
        "      <td>  0.2</td>\n",
        "    </tr>\n",
        "    <tr>\n",
        "      <th>owl</th>\n",
        "      <td>    bird</td>\n",
        "      <td> brown</td>\n",
        "      <td> 10</td>\n",
        "      <td>  4.0</td>\n",
        "    </tr>\n",
        "    <tr>\n",
        "      <th>cockatiel</th>\n",
        "      <td>    bird</td>\n",
        "      <td> white</td>\n",
        "      <td>  8</td>\n",
        "      <td>  NaN</td>\n",
        "    </tr>\n",
        "    <tr>\n",
        "      <th>turtle</th>\n",
        "      <td> reptile</td>\n",
        "      <td> green</td>\n",
        "      <td> 20</td>\n",
        "      <td>  NaN</td>\n",
        "    </tr>\n",
        "    <tr>\n",
        "      <th>eagle</th>\n",
        "      <td>    bird</td>\n",
        "      <td> brown</td>\n",
        "      <td> 40</td>\n",
        "      <td>  NaN</td>\n",
        "    </tr>\n",
        "    <tr>\n",
        "      <th>python</th>\n",
        "      <td> reptile</td>\n",
        "      <td> green</td>\n",
        "      <td> 80</td>\n",
        "      <td>  NaN</td>\n",
        "    </tr>\n",
        "  </tbody>\n",
        "</table>\n",
        "</div>"
       ],
       "metadata": {},
       "output_type": "pyout",
       "prompt_number": 40,
       "text": [
        "             CLASS  COLOR  LENGTH_IN  WEIGHT_LBS\n",
        "bat         mammal  black          6         0.5\n",
        "cat         mammal   gray         14         8.0\n",
        "dog         mammal  brown         36        50.0\n",
        "goldfish      fish   gold          3         0.2\n",
        "owl           bird  brown         10         4.0\n",
        "cockatiel     bird  white          8         NaN\n",
        "turtle     reptile  green         20         NaN\n",
        "eagle         bird  brown         40         NaN\n",
        "python     reptile  green         80         NaN"
       ]
      }
     ],
     "prompt_number": 40
    },
    {
     "cell_type": "heading",
     "level": 3,
     "metadata": {},
     "source": [
      "3.1. Incomplete concatenation produces nulls when matches are not found"
     ]
    },
    {
     "cell_type": "markdown",
     "metadata": {},
     "source": [
      "All right! But wait, what are these NaNs? These are nulls <b>(np.nan)</b>, created because we were missing the <b>'WEIGHT_LBS'</b> column in <b>df_3</b>. \n",
      "Uh oh!\n",
      "\n",
      "We can ignore these NaNs because, unlike 0's, they will not be included in any aggregation operations (like count, mean, median, or std).\n",
      "\n",
      "However, if you really want to get rid of them, you can use <b>dropna()</b> or <b>fillna()</b>.\n",
      "\n",
      "For more information on dealing with nulls, see <b>Lesson 6 : Duplicates and nulls</b>."
     ]
    },
    {
     "cell_type": "heading",
     "level": 2,
     "metadata": {},
     "source": [
      "4. Inner and outer joins"
     ]
    },
    {
     "cell_type": "markdown",
     "metadata": {},
     "source": [
      "When concatenating datasets, we can choose to produce an inner join (intersection) or an outer join (union).\n",
      "\n",
      "Let's concatenate some new columns onto our original <b>concat_df</b>."
     ]
    },
    {
     "cell_type": "code",
     "collapsed": false,
     "input": [
      "concat_df"
     ],
     "language": "python",
     "metadata": {},
     "outputs": [
      {
       "html": [
        "<div style=\"max-height:1000px;max-width:1500px;overflow:auto;\">\n",
        "<table border=\"1\" class=\"dataframe\">\n",
        "  <thead>\n",
        "    <tr style=\"text-align: right;\">\n",
        "      <th></th>\n",
        "      <th>CLASS</th>\n",
        "      <th>COLOR</th>\n",
        "      <th>LENGTH_IN</th>\n",
        "      <th>WEIGHT_LBS</th>\n",
        "    </tr>\n",
        "  </thead>\n",
        "  <tbody>\n",
        "    <tr>\n",
        "      <th>bat</th>\n",
        "      <td> mammal</td>\n",
        "      <td> black</td>\n",
        "      <td>  6</td>\n",
        "      <td>  0.5</td>\n",
        "    </tr>\n",
        "    <tr>\n",
        "      <th>cat</th>\n",
        "      <td> mammal</td>\n",
        "      <td>  gray</td>\n",
        "      <td> 14</td>\n",
        "      <td>  8.0</td>\n",
        "    </tr>\n",
        "    <tr>\n",
        "      <th>dog</th>\n",
        "      <td> mammal</td>\n",
        "      <td> brown</td>\n",
        "      <td> 36</td>\n",
        "      <td> 50.0</td>\n",
        "    </tr>\n",
        "    <tr>\n",
        "      <th>goldfish</th>\n",
        "      <td>   fish</td>\n",
        "      <td>  gold</td>\n",
        "      <td>  3</td>\n",
        "      <td>  0.2</td>\n",
        "    </tr>\n",
        "    <tr>\n",
        "      <th>owl</th>\n",
        "      <td>   bird</td>\n",
        "      <td> brown</td>\n",
        "      <td> 10</td>\n",
        "      <td>  4.0</td>\n",
        "    </tr>\n",
        "  </tbody>\n",
        "</table>\n",
        "</div>"
       ],
       "metadata": {},
       "output_type": "pyout",
       "prompt_number": 41,
       "text": [
        "           CLASS  COLOR  LENGTH_IN  WEIGHT_LBS\n",
        "bat       mammal  black          6         0.5\n",
        "cat       mammal   gray         14         8.0\n",
        "dog       mammal  brown         36        50.0\n",
        "goldfish    fish   gold          3         0.2\n",
        "owl         bird  brown         10         4.0"
       ]
      }
     ],
     "prompt_number": 41
    },
    {
     "cell_type": "markdown",
     "metadata": {},
     "source": [
      "Let's make a new column showing the danger rating of each animal."
     ]
    },
    {
     "cell_type": "code",
     "collapsed": false,
     "input": [
      "d4 = {\n",
      "        'NAME' : ['bat', 'dog', 'goldfish', 'crocodile', 'hippo'],\n",
      "        'DANGER_RATING' : ['MED', 'LOW', 'LOW', 'HIGH', 'HIGH'],\n",
      "        }\n",
      "\n",
      "df_4 = pd.DataFrame.from_dict(d4).set_index('NAME') #Creates a dataframe from dict and sets the index to 'NAME'"
     ],
     "language": "python",
     "metadata": {},
     "outputs": [],
     "prompt_number": 48
    },
    {
     "cell_type": "code",
     "collapsed": false,
     "input": [
      "df_4"
     ],
     "language": "python",
     "metadata": {},
     "outputs": [
      {
       "html": [
        "<div style=\"max-height:1000px;max-width:1500px;overflow:auto;\">\n",
        "<table border=\"1\" class=\"dataframe\">\n",
        "  <thead>\n",
        "    <tr style=\"text-align: right;\">\n",
        "      <th></th>\n",
        "      <th>DANGER_RATING</th>\n",
        "    </tr>\n",
        "    <tr>\n",
        "      <th>NAME</th>\n",
        "      <th></th>\n",
        "    </tr>\n",
        "  </thead>\n",
        "  <tbody>\n",
        "    <tr>\n",
        "      <th>bat</th>\n",
        "      <td>  MED</td>\n",
        "    </tr>\n",
        "    <tr>\n",
        "      <th>dog</th>\n",
        "      <td>  LOW</td>\n",
        "    </tr>\n",
        "    <tr>\n",
        "      <th>goldfish</th>\n",
        "      <td>  LOW</td>\n",
        "    </tr>\n",
        "    <tr>\n",
        "      <th>crocodile</th>\n",
        "      <td> HIGH</td>\n",
        "    </tr>\n",
        "    <tr>\n",
        "      <th>hippo</th>\n",
        "      <td> HIGH</td>\n",
        "    </tr>\n",
        "  </tbody>\n",
        "</table>\n",
        "</div>"
       ],
       "metadata": {},
       "output_type": "pyout",
       "prompt_number": 49,
       "text": [
        "          DANGER_RATING\n",
        "NAME                   \n",
        "bat                 MED\n",
        "dog                 LOW\n",
        "goldfish            LOW\n",
        "crocodile          HIGH\n",
        "hippo              HIGH"
       ]
      }
     ],
     "prompt_number": 49
    },
    {
     "cell_type": "markdown",
     "metadata": {},
     "source": [
      "I've added two new animals that are not in the index of <b>concat_df</b>.\n",
      "\n",
      "Let's see what happens to these entries when we perform (1) an inner join, and (2) an outer join."
     ]
    },
    {
     "cell_type": "heading",
     "level": 3,
     "metadata": {},
     "source": [
      "4.1. Inner join"
     ]
    },
    {
     "cell_type": "markdown",
     "metadata": {},
     "source": [
      "An inner join keeps only the index labels that are in <b>all</b> of the passed DataFrames."
     ]
    },
    {
     "cell_type": "code",
     "collapsed": false,
     "input": [
      "pd.concat([concat_df, df_4], axis=1, join='inner')"
     ],
     "language": "python",
     "metadata": {},
     "outputs": [
      {
       "html": [
        "<div style=\"max-height:1000px;max-width:1500px;overflow:auto;\">\n",
        "<table border=\"1\" class=\"dataframe\">\n",
        "  <thead>\n",
        "    <tr style=\"text-align: right;\">\n",
        "      <th></th>\n",
        "      <th>CLASS</th>\n",
        "      <th>COLOR</th>\n",
        "      <th>LENGTH_IN</th>\n",
        "      <th>WEIGHT_LBS</th>\n",
        "      <th>DANGER_RATING</th>\n",
        "    </tr>\n",
        "  </thead>\n",
        "  <tbody>\n",
        "    <tr>\n",
        "      <th>bat</th>\n",
        "      <td> mammal</td>\n",
        "      <td> black</td>\n",
        "      <td>  6</td>\n",
        "      <td>  0.5</td>\n",
        "      <td> MED</td>\n",
        "    </tr>\n",
        "    <tr>\n",
        "      <th>dog</th>\n",
        "      <td> mammal</td>\n",
        "      <td> brown</td>\n",
        "      <td> 36</td>\n",
        "      <td> 50.0</td>\n",
        "      <td> LOW</td>\n",
        "    </tr>\n",
        "    <tr>\n",
        "      <th>goldfish</th>\n",
        "      <td>   fish</td>\n",
        "      <td>  gold</td>\n",
        "      <td>  3</td>\n",
        "      <td>  0.2</td>\n",
        "      <td> LOW</td>\n",
        "    </tr>\n",
        "  </tbody>\n",
        "</table>\n",
        "</div>"
       ],
       "metadata": {},
       "output_type": "pyout",
       "prompt_number": 50,
       "text": [
        "           CLASS  COLOR  LENGTH_IN  WEIGHT_LBS DANGER_RATING\n",
        "bat       mammal  black          6         0.5           MED\n",
        "dog       mammal  brown         36        50.0           LOW\n",
        "goldfish    fish   gold          3         0.2           LOW"
       ]
      }
     ],
     "prompt_number": 50
    },
    {
     "cell_type": "heading",
     "level": 3,
     "metadata": {},
     "source": [
      "4.2. Outer join"
     ]
    },
    {
     "cell_type": "markdown",
     "metadata": {},
     "source": [
      "An outer join keeps all of the index labels from <b>any</b> of the passed DataFrames.\n",
      "\n",
      "Missing values are populated with nulls."
     ]
    },
    {
     "cell_type": "code",
     "collapsed": false,
     "input": [
      "pd.concat([concat_df, df_4], axis=1, join='outer')"
     ],
     "language": "python",
     "metadata": {},
     "outputs": [
      {
       "html": [
        "<div style=\"max-height:1000px;max-width:1500px;overflow:auto;\">\n",
        "<table border=\"1\" class=\"dataframe\">\n",
        "  <thead>\n",
        "    <tr style=\"text-align: right;\">\n",
        "      <th></th>\n",
        "      <th>CLASS</th>\n",
        "      <th>COLOR</th>\n",
        "      <th>LENGTH_IN</th>\n",
        "      <th>WEIGHT_LBS</th>\n",
        "      <th>DANGER_RATING</th>\n",
        "    </tr>\n",
        "  </thead>\n",
        "  <tbody>\n",
        "    <tr>\n",
        "      <th>bat</th>\n",
        "      <td> mammal</td>\n",
        "      <td> black</td>\n",
        "      <td>  6</td>\n",
        "      <td>  0.5</td>\n",
        "      <td>  MED</td>\n",
        "    </tr>\n",
        "    <tr>\n",
        "      <th>cat</th>\n",
        "      <td> mammal</td>\n",
        "      <td>  gray</td>\n",
        "      <td> 14</td>\n",
        "      <td>  8.0</td>\n",
        "      <td>  NaN</td>\n",
        "    </tr>\n",
        "    <tr>\n",
        "      <th>crocodile</th>\n",
        "      <td>    NaN</td>\n",
        "      <td>   NaN</td>\n",
        "      <td>NaN</td>\n",
        "      <td>  NaN</td>\n",
        "      <td> HIGH</td>\n",
        "    </tr>\n",
        "    <tr>\n",
        "      <th>dog</th>\n",
        "      <td> mammal</td>\n",
        "      <td> brown</td>\n",
        "      <td> 36</td>\n",
        "      <td> 50.0</td>\n",
        "      <td>  LOW</td>\n",
        "    </tr>\n",
        "    <tr>\n",
        "      <th>goldfish</th>\n",
        "      <td>   fish</td>\n",
        "      <td>  gold</td>\n",
        "      <td>  3</td>\n",
        "      <td>  0.2</td>\n",
        "      <td>  LOW</td>\n",
        "    </tr>\n",
        "    <tr>\n",
        "      <th>hippo</th>\n",
        "      <td>    NaN</td>\n",
        "      <td>   NaN</td>\n",
        "      <td>NaN</td>\n",
        "      <td>  NaN</td>\n",
        "      <td> HIGH</td>\n",
        "    </tr>\n",
        "    <tr>\n",
        "      <th>owl</th>\n",
        "      <td>   bird</td>\n",
        "      <td> brown</td>\n",
        "      <td> 10</td>\n",
        "      <td>  4.0</td>\n",
        "      <td>  NaN</td>\n",
        "    </tr>\n",
        "  </tbody>\n",
        "</table>\n",
        "</div>"
       ],
       "metadata": {},
       "output_type": "pyout",
       "prompt_number": 51,
       "text": [
        "            CLASS  COLOR  LENGTH_IN  WEIGHT_LBS DANGER_RATING\n",
        "bat        mammal  black          6         0.5           MED\n",
        "cat        mammal   gray         14         8.0           NaN\n",
        "crocodile     NaN    NaN        NaN         NaN          HIGH\n",
        "dog        mammal  brown         36        50.0           LOW\n",
        "goldfish     fish   gold          3         0.2           LOW\n",
        "hippo         NaN    NaN        NaN         NaN          HIGH\n",
        "owl          bird  brown         10         4.0           NaN"
       ]
      }
     ],
     "prompt_number": 51
    },
    {
     "cell_type": "code",
     "collapsed": false,
     "input": [],
     "language": "python",
     "metadata": {},
     "outputs": []
    }
   ],
   "metadata": {}
  }
 ]
}