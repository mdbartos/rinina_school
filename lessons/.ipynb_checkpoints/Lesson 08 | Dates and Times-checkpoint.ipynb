{
 "metadata": {
  "name": "",
  "signature": "sha256:24e7abcddf7572969f34c6a04570c3b1934af1a60e2aa2d5942ace1db29baa85"
 },
 "nbformat": 3,
 "nbformat_minor": 0,
 "worksheets": [
  {
   "cells": [
    {
     "cell_type": "heading",
     "level": 1,
     "metadata": {},
     "source": [
      "Lesson 8: Dates and times"
     ]
    },
    {
     "cell_type": "markdown",
     "metadata": {},
     "source": [
      ".................................................................................................................................\n",
      "Topics\n",
      "-----------------------------------------\n",
      "\n",
      "\n",
      "1. Making dates\n",
      "2. Formatted time strings\n",
      "3. Parsing time strings\n",
      "4. Sub-daily time data\n",
      "5. Working with date and time together\n",
      "6. Timedeltas\n",
      "7. Relative timedeltas\n",
      "8. Date ranges\n",
      "9. Importing dates\n",
      "\n",
      "................................................................................................................................."
     ]
    },
    {
     "cell_type": "markdown",
     "metadata": {},
     "source": [
      "Dealing with time can be tricky\n",
      "\n",
      "(See Tom Scott's rant on timezones here: https://www.youtube.com/watch?v=-5wpm-gesOY).\n",
      "\n",
      "Fortunately, python has built-in libraries that can save you a lot of trouble.\n",
      "\n",
      "The central library for dealing with dates and times is called \"datetime\". Other important libraries include \"time\", \"dateutils\" and \"pytz\" (python time zones). Right now, let's concentrate on datetime."
     ]
    },
    {
     "cell_type": "code",
     "collapsed": false,
     "input": [
      "import datetime"
     ],
     "language": "python",
     "metadata": {},
     "outputs": [],
     "prompt_number": 2
    },
    {
     "cell_type": "markdown",
     "metadata": {},
     "source": [
      "We will be dealing with four submodules of the datetime package. If you get tired of typing datetime.date or datetime.timedelta all the time, you can just import the specific packages you need:"
     ]
    },
    {
     "cell_type": "code",
     "collapsed": false,
     "input": [
      "from datetime import date\n",
      "from datetime import time\n",
      "from datetime import datetime\n",
      "from datetime import timedelta"
     ],
     "language": "python",
     "metadata": {},
     "outputs": [],
     "prompt_number": 68
    },
    {
     "cell_type": "markdown",
     "metadata": {},
     "source": [
      "Thus, datetime.date() can now simply be called as date() and datetime.time() can simply be called as time(), etc.\n",
      "\n",
      "For this lesson, I'm going to assume that you just used <b>import datetime</b>. Thus, all references to datetime methods will take the form of datetime.method() instead of just method().\n"
     ]
    },
    {
     "cell_type": "heading",
     "level": 1,
     "metadata": {},
     "source": [
      "1. Making dates"
     ]
    },
    {
     "cell_type": "markdown",
     "metadata": {},
     "source": [
      "Let's start with dates.\n",
      "\n",
      "Dates have both a linear and a periodic dimension. The year increases as time moves forward. However, months and days repeat in cycles.\n",
      "\n",
      "Date objects are specified using the datetime.date() method in (year, month, day) format.\n",
      "\n",
      "Let's make rini's birthday!"
     ]
    },
    {
     "cell_type": "code",
     "collapsed": false,
     "input": [
      "rini_birthday = datetime.date(1990, 7, 27)"
     ],
     "language": "python",
     "metadata": {},
     "outputs": [],
     "prompt_number": 3
    },
    {
     "cell_type": "code",
     "collapsed": false,
     "input": [
      "rini_birthday"
     ],
     "language": "python",
     "metadata": {},
     "outputs": [
      {
       "metadata": {},
       "output_type": "pyout",
       "prompt_number": 4,
       "text": [
        "datetime.date(1990, 7, 27)"
       ]
      }
     ],
     "prompt_number": 4
    },
    {
     "cell_type": "code",
     "collapsed": false,
     "input": [
      "print rini_birthday.year\n",
      "print rini_birthday.month\n",
      "print rini_birthday.day\n",
      "print rini_birthday.weekday() #Note that this one is a method, not an attribute"
     ],
     "language": "python",
     "metadata": {},
     "outputs": [
      {
       "output_type": "stream",
       "stream": "stdout",
       "text": [
        "1990\n",
        "7\n",
        "27\n",
        "4\n"
       ]
      }
     ],
     "prompt_number": 5
    },
    {
     "cell_type": "heading",
     "level": 1,
     "metadata": {},
     "source": [
      "2. Formatted time strings"
     ]
    },
    {
     "cell_type": "markdown",
     "metadata": {},
     "source": [
      "You can use the strftime() (string format time) method to return information about a datetime object as a string. This is useful if you need the day of the week or the name of the month:"
     ]
    },
    {
     "cell_type": "code",
     "collapsed": false,
     "input": [
      "rini_birthday.strftime('%A')    #Will return the day of the week that rini was born (Friday!)"
     ],
     "language": "python",
     "metadata": {},
     "outputs": [
      {
       "metadata": {},
       "output_type": "pyout",
       "prompt_number": 6,
       "text": [
        "'Friday'"
       ]
      }
     ],
     "prompt_number": 6
    },
    {
     "cell_type": "code",
     "collapsed": false,
     "input": [
      "datetime.date.strftime(rini_birthday, '%A')    #Is a more verbose way of doing the same thing."
     ],
     "language": "python",
     "metadata": {},
     "outputs": [
      {
       "metadata": {},
       "output_type": "pyout",
       "prompt_number": 7,
       "text": [
        "'Friday'"
       ]
      }
     ],
     "prompt_number": 7
    },
    {
     "cell_type": "code",
     "collapsed": false,
     "input": [
      "rini_birthday.strftime('%A %B %d %Y')    #The time of the rini"
     ],
     "language": "python",
     "metadata": {},
     "outputs": [
      {
       "metadata": {},
       "output_type": "pyout",
       "prompt_number": 8,
       "text": [
        "'Friday July 27 1990'"
       ]
      }
     ],
     "prompt_number": 8
    },
    {
     "cell_type": "markdown",
     "metadata": {},
     "source": [
      "For all the strftime() formatting choices, see: https://docs.python.org/2/library/datetime.html#strftime-and-strptime-behavior"
     ]
    },
    {
     "cell_type": "heading",
     "level": 1,
     "metadata": {},
     "source": [
      "3. Parsing time strings"
     ]
    },
    {
     "cell_type": "markdown",
     "metadata": {},
     "source": [
      "The strptime() class is the inverse of strftime(). It allows you to parse strings into datetime objects"
     ]
    },
    {
     "cell_type": "code",
     "collapsed": false,
     "input": [
      "ex_string = '02/08/02'\n",
      "datetime.datetime.strptime(ex_string, \"%m/%d/%y\")"
     ],
     "language": "python",
     "metadata": {},
     "outputs": [
      {
       "metadata": {},
       "output_type": "pyout",
       "prompt_number": 9,
       "text": [
        "datetime.datetime(2002, 2, 8, 0, 0)"
       ]
      }
     ],
     "prompt_number": 9
    },
    {
     "cell_type": "code",
     "collapsed": false,
     "input": [
      "ex_string2 = '2 October 2005'\n",
      "datetime.datetime.strptime(ex_string2, \"%d %B %Y\")"
     ],
     "language": "python",
     "metadata": {},
     "outputs": [
      {
       "metadata": {},
       "output_type": "pyout",
       "prompt_number": 10,
       "text": [
        "datetime.datetime(2005, 10, 2, 0, 0)"
       ]
      }
     ],
     "prompt_number": 10
    },
    {
     "cell_type": "markdown",
     "metadata": {},
     "source": [
      "See the above link for strptime formatting guidelines\n",
      "\n",
      "The strptime method can be really useful for dealing with raw excel output."
     ]
    },
    {
     "cell_type": "heading",
     "level": 1,
     "metadata": {},
     "source": [
      "4. Sub-daily time data"
     ]
    },
    {
     "cell_type": "markdown",
     "metadata": {},
     "source": [
      "The datetime.time method allows you to specify information about time (sub-daily) without specifying any information about the date\n",
      "\n",
      "This may be useful for capturing a recurring event\n",
      "\n",
      "The format for specifying a datetime.time object is as follows:"
     ]
    },
    {
     "cell_type": "code",
     "collapsed": false,
     "input": [
      "datetime.time(hour, minute, second, microsecond, timezone info)"
     ],
     "language": "python",
     "metadata": {},
     "outputs": [],
     "prompt_number": 77
    },
    {
     "cell_type": "markdown",
     "metadata": {},
     "source": [
      "All arguments are optional, meaning that entering datetime.time() will create an object corresponding to (0, 0, 0, 0) hours, minutes, seconds, microseconds."
     ]
    },
    {
     "cell_type": "code",
     "collapsed": false,
     "input": [
      "happy_hour = datetime.time(16, 30)\n",
      "print happy_hour\n",
      "\n",
      "#Note that I didn't enter a value for second or microsecond--these values will default to zero."
     ],
     "language": "python",
     "metadata": {},
     "outputs": [
      {
       "output_type": "stream",
       "stream": "stdout",
       "text": [
        "16:30:00\n"
       ]
      }
     ],
     "prompt_number": 11
    },
    {
     "cell_type": "heading",
     "level": 1,
     "metadata": {},
     "source": [
      "5. Working with date and time together"
     ]
    },
    {
     "cell_type": "markdown",
     "metadata": {},
     "source": [
      "Date and time information can be combined together using datetime.datetime()\n",
      "\n",
      "The format for specifying a datetime.datetime object is as follows:"
     ]
    },
    {
     "cell_type": "code",
     "collapsed": false,
     "input": [
      "datetime.datetime(year, month, day, hour, minute, second, microsecond, [timezone info])"
     ],
     "language": "python",
     "metadata": {},
     "outputs": [],
     "prompt_number": 12
    },
    {
     "cell_type": "markdown",
     "metadata": {},
     "source": [
      "For a datetime.datetime object, the year, month and day are required, but the rest of the arguments are optional and will default to zero."
     ]
    },
    {
     "cell_type": "code",
     "collapsed": false,
     "input": [
      "ball_drop = datetime.datetime(2014, 12, 31, 12, 59, 59, 59)\n",
      "print ball_drop"
     ],
     "language": "python",
     "metadata": {},
     "outputs": [
      {
       "output_type": "stream",
       "stream": "stdout",
       "text": [
        "2014-12-31 12:59:59.000059\n"
       ]
      }
     ],
     "prompt_number": 13
    },
    {
     "cell_type": "heading",
     "level": 1,
     "metadata": {},
     "source": [
      "6. Timedeltas"
     ]
    },
    {
     "cell_type": "markdown",
     "metadata": {},
     "source": [
      "Differences between dates can be captured using a timedelta object.\n",
      "\n",
      "You cannot add or subtract raw integers from dates as this causes a TypeError.\n",
      "\n",
      "The computer doesn't know whether you're trying to add days, months, years, etc..\n",
      "\n",
      "Instead, to increment a date you must add and subtract timedelta objects."
     ]
    },
    {
     "cell_type": "code",
     "collapsed": false,
     "input": [
      "#First, let's make rini's birthday.\n",
      "\n",
      "rini_birthday = datetime.date(1990, 7, 27)\n",
      "\n",
      "#You can get the date 69 days from rini's birthday using the timedelta method\n",
      "\n",
      "rini_birthday + datetime.timedelta(69)"
     ],
     "language": "python",
     "metadata": {},
     "outputs": [
      {
       "metadata": {},
       "output_type": "pyout",
       "prompt_number": 14,
       "text": [
        "datetime.date(1990, 10, 4)"
       ]
      }
     ],
     "prompt_number": 14
    },
    {
     "cell_type": "markdown",
     "metadata": {},
     "source": [
      "Dates can also be subtracted from each other to create timedelta objects"
     ]
    },
    {
     "cell_type": "code",
     "collapsed": false,
     "input": [
      "matt_birthday = datetime.date(1989, 9, 15)\n",
      "\n",
      "rini_birthday - matt_birthday    #Should show that matt is about 315 days older than rini."
     ],
     "language": "python",
     "metadata": {},
     "outputs": [
      {
       "metadata": {},
       "output_type": "pyout",
       "prompt_number": 15,
       "text": [
        "datetime.timedelta(315)"
       ]
      }
     ],
     "prompt_number": 15
    },
    {
     "cell_type": "markdown",
     "metadata": {},
     "source": [
      "Timedelta defaults to days, but you can also enter keyword arguments to add different time values:"
     ]
    },
    {
     "cell_type": "code",
     "collapsed": false,
     "input": [
      "rini_birthday + datetime.timedelta(weeks=7, days=69, hours=420, minutes=12, seconds=9)"
     ],
     "language": "python",
     "metadata": {},
     "outputs": [
      {
       "metadata": {},
       "output_type": "pyout",
       "prompt_number": 16,
       "text": [
        "datetime.date(1990, 12, 9)"
       ]
      }
     ],
     "prompt_number": 16
    },
    {
     "cell_type": "heading",
     "level": 1,
     "metadata": {},
     "source": [
      "7. Relative timedelta"
     ]
    },
    {
     "cell_type": "markdown",
     "metadata": {},
     "source": [
      "Timedelta can only go up to weeks. If you want to add months or years, you must use the relativedelta module.\n",
      "\n",
      "This is because the number of months from a particular day changes depending on the day of year.\n",
      "\n",
      "Let's import the relativedelta module:"
     ]
    },
    {
     "cell_type": "code",
     "collapsed": false,
     "input": [
      "from dateutil.relativedelta import relativedelta\n",
      "\n",
      "relativedelta(rini_birthday, matt_birthday)    #Returns the number of months and days as a relativetime object"
     ],
     "language": "python",
     "metadata": {},
     "outputs": [
      {
       "metadata": {},
       "output_type": "pyout",
       "prompt_number": 17,
       "text": [
        "relativedelta(months=+10, days=+12)"
       ]
      }
     ],
     "prompt_number": 17
    },
    {
     "cell_type": "code",
     "collapsed": false,
     "input": [
      "relativedelta(rini_birthday, matt_birthday).months    #Gives you the number of months as an integer"
     ],
     "language": "python",
     "metadata": {},
     "outputs": [
      {
       "metadata": {},
       "output_type": "pyout",
       "prompt_number": 18,
       "text": [
        "10"
       ]
      }
     ],
     "prompt_number": 18
    },
    {
     "cell_type": "markdown",
     "metadata": {},
     "source": [
      "You can also specify the years/months/days that you want to jump:"
     ]
    },
    {
     "cell_type": "code",
     "collapsed": false,
     "input": [
      "relativedelta(months=10, days=2)\t#Should return the same result as before"
     ],
     "language": "python",
     "metadata": {},
     "outputs": [
      {
       "metadata": {},
       "output_type": "pyout",
       "prompt_number": 19,
       "text": [
        "relativedelta(months=+10, days=+2)"
       ]
      }
     ],
     "prompt_number": 19
    },
    {
     "cell_type": "markdown",
     "metadata": {},
     "source": [
      "You can add relativedelta to a datetime object, just like a timedelta"
     ]
    },
    {
     "cell_type": "code",
     "collapsed": false,
     "input": [
      "print matt_birthday + relativedelta(rini_birthday, matt_birthday)\n",
      "print matt_birthday + relativedelta(months=10, days=12)"
     ],
     "language": "python",
     "metadata": {},
     "outputs": [
      {
       "output_type": "stream",
       "stream": "stdout",
       "text": [
        "1990-07-27\n",
        "1990-07-27\n"
       ]
      }
     ],
     "prompt_number": 20
    },
    {
     "cell_type": "heading",
     "level": 1,
     "metadata": {},
     "source": [
      "8. Date ranges"
     ]
    },
    {
     "cell_type": "heading",
     "level": 2,
     "metadata": {},
     "source": [
      "8.1. Creating a range of dates (the hard way)"
     ]
    },
    {
     "cell_type": "markdown",
     "metadata": {},
     "source": [
      "Timedelta and relativedelta can also be used to create ranges of dates."
     ]
    },
    {
     "cell_type": "markdown",
     "metadata": {},
     "source": [
      "Let's get a list of all of the days between matt_birthday and rini_birthday.\n",
      "\n",
      "You can do this in native python using a list comprehension:"
     ]
    },
    {
     "cell_type": "code",
     "collapsed": false,
     "input": [
      "matt_range = [(matt_birthday + datetime.timedelta(i)) for i in range(1+(rini_birthday - matt_birthday).days)]\n",
      "#              ^The output                                      ^The list to generate from; equivalent to range(316)"
     ],
     "language": "python",
     "metadata": {},
     "outputs": [],
     "prompt_number": 21
    },
    {
     "cell_type": "heading",
     "level": 2,
     "metadata": {},
     "source": [
      "8.2. Creating a range of dates (the easy way)"
     ]
    },
    {
     "cell_type": "markdown",
     "metadata": {},
     "source": [
      "This is a little bit much\n",
      "\n",
      "Fortunately, pandas has a built-in functionality that makes this a lot easier:\n",
      "\n",
      "The function is called pd.date_range() and takes the following form:"
     ]
    },
    {
     "cell_type": "code",
     "collapsed": false,
     "input": [
      "pd.date_range(start, end, periods, freq, tz, ... (more optional arguments follow))"
     ],
     "language": "python",
     "metadata": {},
     "outputs": [],
     "prompt_number": 89
    },
    {
     "cell_type": "markdown",
     "metadata": {},
     "source": [
      "The \"freq\" parameter specifies the time step (days, months, years, etc.)\n",
      "\n",
      "To get the date range from matt's birthday to rini's birthday, you can do this:"
     ]
    },
    {
     "cell_type": "code",
     "collapsed": false,
     "input": [
      "import pandas as pd\n",
      "\n",
      "matt_range = pd.date_range(start=matt_birthday, end=rini_birthday)"
     ],
     "language": "python",
     "metadata": {},
     "outputs": [],
     "prompt_number": 22
    },
    {
     "cell_type": "markdown",
     "metadata": {},
     "source": [
      "or"
     ]
    },
    {
     "cell_type": "code",
     "collapsed": false,
     "input": [
      "matt_range = pd.date_range(matt_birthday, rini_birthday)"
     ],
     "language": "python",
     "metadata": {},
     "outputs": [],
     "prompt_number": 23
    },
    {
     "cell_type": "code",
     "collapsed": false,
     "input": [
      "matt_range"
     ],
     "language": "python",
     "metadata": {},
     "outputs": [
      {
       "metadata": {},
       "output_type": "pyout",
       "prompt_number": 24,
       "text": [
        "<class 'pandas.tseries.index.DatetimeIndex'>\n",
        "[1989-09-15, ..., 1990-07-27]\n",
        "Length: 316, Freq: D, Timezone: None"
       ]
      }
     ],
     "prompt_number": 24
    },
    {
     "cell_type": "markdown",
     "metadata": {},
     "source": [
      "You can also use periods if you don't know the end date:"
     ]
    },
    {
     "cell_type": "code",
     "collapsed": false,
     "input": [
      "matt_range = pd.date_range(start=matt_birthday, periods=316, freq='D')\n",
      "\n",
      "#Where freq='D' means that the frequency of the period is in days."
     ],
     "language": "python",
     "metadata": {},
     "outputs": [],
     "prompt_number": 25
    },
    {
     "cell_type": "markdown",
     "metadata": {},
     "source": [
      "By default, pd.date_range creates an index object. However, you can convert it to a Series fairly easily:"
     ]
    },
    {
     "cell_type": "code",
     "collapsed": false,
     "input": [
      "matt_range = pd.Series(pd.date_range(matt_birthday, rini_birthday))"
     ],
     "language": "python",
     "metadata": {},
     "outputs": [],
     "prompt_number": 26
    },
    {
     "cell_type": "markdown",
     "metadata": {},
     "source": [
      "Let's put this date range into a pandas dataframe."
     ]
    },
    {
     "cell_type": "code",
     "collapsed": false,
     "input": [
      "df = pd.DataFrame()"
     ],
     "language": "python",
     "metadata": {},
     "outputs": [],
     "prompt_number": 27
    },
    {
     "cell_type": "code",
     "collapsed": false,
     "input": [
      "df['date'] = matt_range"
     ],
     "language": "python",
     "metadata": {},
     "outputs": [],
     "prompt_number": 28
    },
    {
     "cell_type": "markdown",
     "metadata": {},
     "source": [
      "Now let's make columns corresponding to year, month and day"
     ]
    },
    {
     "cell_type": "code",
     "collapsed": false,
     "input": [
      "df['year'] = [i.year for i in df['date']]\n",
      "df['month'] = [i.month for i in df['date']]\n",
      "df['day'] = [i.day for i in df['date']]"
     ],
     "language": "python",
     "metadata": {},
     "outputs": [],
     "prompt_number": 29
    },
    {
     "cell_type": "markdown",
     "metadata": {},
     "source": [
      "We can even make a weekday column"
     ]
    },
    {
     "cell_type": "code",
     "collapsed": false,
     "input": [
      "df['weekday'] = [i.strftime('%A') for i in df['date']]"
     ],
     "language": "python",
     "metadata": {},
     "outputs": [],
     "prompt_number": 30
    },
    {
     "cell_type": "markdown",
     "metadata": {},
     "source": [
      "Now let's see what it looks like:"
     ]
    },
    {
     "cell_type": "code",
     "collapsed": false,
     "input": [
      "df.head()"
     ],
     "language": "python",
     "metadata": {},
     "outputs": [
      {
       "html": [
        "<div style=\"max-height:1000px;max-width:1500px;overflow:auto;\">\n",
        "<table border=\"1\" class=\"dataframe\">\n",
        "  <thead>\n",
        "    <tr style=\"text-align: right;\">\n",
        "      <th></th>\n",
        "      <th>date</th>\n",
        "      <th>year</th>\n",
        "      <th>month</th>\n",
        "      <th>day</th>\n",
        "      <th>weekday</th>\n",
        "    </tr>\n",
        "  </thead>\n",
        "  <tbody>\n",
        "    <tr>\n",
        "      <th>0</th>\n",
        "      <td>1989-09-15</td>\n",
        "      <td> 1989</td>\n",
        "      <td> 9</td>\n",
        "      <td> 15</td>\n",
        "      <td>   Friday</td>\n",
        "    </tr>\n",
        "    <tr>\n",
        "      <th>1</th>\n",
        "      <td>1989-09-16</td>\n",
        "      <td> 1989</td>\n",
        "      <td> 9</td>\n",
        "      <td> 16</td>\n",
        "      <td> Saturday</td>\n",
        "    </tr>\n",
        "    <tr>\n",
        "      <th>2</th>\n",
        "      <td>1989-09-17</td>\n",
        "      <td> 1989</td>\n",
        "      <td> 9</td>\n",
        "      <td> 17</td>\n",
        "      <td>   Sunday</td>\n",
        "    </tr>\n",
        "    <tr>\n",
        "      <th>3</th>\n",
        "      <td>1989-09-18</td>\n",
        "      <td> 1989</td>\n",
        "      <td> 9</td>\n",
        "      <td> 18</td>\n",
        "      <td>   Monday</td>\n",
        "    </tr>\n",
        "    <tr>\n",
        "      <th>4</th>\n",
        "      <td>1989-09-19</td>\n",
        "      <td> 1989</td>\n",
        "      <td> 9</td>\n",
        "      <td> 19</td>\n",
        "      <td>  Tuesday</td>\n",
        "    </tr>\n",
        "  </tbody>\n",
        "</table>\n",
        "</div>"
       ],
       "metadata": {},
       "output_type": "pyout",
       "prompt_number": 32,
       "text": [
        "        date  year  month  day   weekday\n",
        "0 1989-09-15  1989      9   15    Friday\n",
        "1 1989-09-16  1989      9   16  Saturday\n",
        "2 1989-09-17  1989      9   17    Sunday\n",
        "3 1989-09-18  1989      9   18    Monday\n",
        "4 1989-09-19  1989      9   19   Tuesday"
       ]
      }
     ],
     "prompt_number": 32
    },
    {
     "cell_type": "markdown",
     "metadata": {},
     "source": [
      "Now let's do some fun stuff.\n",
      "\n",
      "We can select only the summer months like so:"
     ]
    },
    {
     "cell_type": "code",
     "collapsed": false,
     "input": [
      "summer_months = df.loc[df['month'].isin([6,7,8])]\n",
      "\n",
      "summer_months.head()"
     ],
     "language": "python",
     "metadata": {},
     "outputs": [
      {
       "html": [
        "<div style=\"max-height:1000px;max-width:1500px;overflow:auto;\">\n",
        "<table border=\"1\" class=\"dataframe\">\n",
        "  <thead>\n",
        "    <tr style=\"text-align: right;\">\n",
        "      <th></th>\n",
        "      <th>date</th>\n",
        "      <th>year</th>\n",
        "      <th>month</th>\n",
        "      <th>day</th>\n",
        "      <th>weekday</th>\n",
        "    </tr>\n",
        "  </thead>\n",
        "  <tbody>\n",
        "    <tr>\n",
        "      <th>259</th>\n",
        "      <td>1990-06-01</td>\n",
        "      <td> 1990</td>\n",
        "      <td> 6</td>\n",
        "      <td> 1</td>\n",
        "      <td>   Friday</td>\n",
        "    </tr>\n",
        "    <tr>\n",
        "      <th>260</th>\n",
        "      <td>1990-06-02</td>\n",
        "      <td> 1990</td>\n",
        "      <td> 6</td>\n",
        "      <td> 2</td>\n",
        "      <td> Saturday</td>\n",
        "    </tr>\n",
        "    <tr>\n",
        "      <th>261</th>\n",
        "      <td>1990-06-03</td>\n",
        "      <td> 1990</td>\n",
        "      <td> 6</td>\n",
        "      <td> 3</td>\n",
        "      <td>   Sunday</td>\n",
        "    </tr>\n",
        "    <tr>\n",
        "      <th>262</th>\n",
        "      <td>1990-06-04</td>\n",
        "      <td> 1990</td>\n",
        "      <td> 6</td>\n",
        "      <td> 4</td>\n",
        "      <td>   Monday</td>\n",
        "    </tr>\n",
        "    <tr>\n",
        "      <th>263</th>\n",
        "      <td>1990-06-05</td>\n",
        "      <td> 1990</td>\n",
        "      <td> 6</td>\n",
        "      <td> 5</td>\n",
        "      <td>  Tuesday</td>\n",
        "    </tr>\n",
        "  </tbody>\n",
        "</table>\n",
        "</div>"
       ],
       "metadata": {},
       "output_type": "pyout",
       "prompt_number": 33,
       "text": [
        "          date  year  month  day   weekday\n",
        "259 1990-06-01  1990      6    1    Friday\n",
        "260 1990-06-02  1990      6    2  Saturday\n",
        "261 1990-06-03  1990      6    3    Sunday\n",
        "262 1990-06-04  1990      6    4    Monday\n",
        "263 1990-06-05  1990      6    5   Tuesday"
       ]
      }
     ],
     "prompt_number": 33
    },
    {
     "cell_type": "markdown",
     "metadata": {},
     "source": [
      "Or only the weekends like so:"
     ]
    },
    {
     "cell_type": "code",
     "collapsed": false,
     "input": [
      "weekends = df.loc[df['weekday'].isin(['Saturday', 'Sunday'])]\n",
      "\n",
      "weekends.head()"
     ],
     "language": "python",
     "metadata": {},
     "outputs": [
      {
       "html": [
        "<div style=\"max-height:1000px;max-width:1500px;overflow:auto;\">\n",
        "<table border=\"1\" class=\"dataframe\">\n",
        "  <thead>\n",
        "    <tr style=\"text-align: right;\">\n",
        "      <th></th>\n",
        "      <th>date</th>\n",
        "      <th>year</th>\n",
        "      <th>month</th>\n",
        "      <th>day</th>\n",
        "      <th>weekday</th>\n",
        "    </tr>\n",
        "  </thead>\n",
        "  <tbody>\n",
        "    <tr>\n",
        "      <th>1 </th>\n",
        "      <td>1989-09-16</td>\n",
        "      <td> 1989</td>\n",
        "      <td> 9</td>\n",
        "      <td> 16</td>\n",
        "      <td> Saturday</td>\n",
        "    </tr>\n",
        "    <tr>\n",
        "      <th>2 </th>\n",
        "      <td>1989-09-17</td>\n",
        "      <td> 1989</td>\n",
        "      <td> 9</td>\n",
        "      <td> 17</td>\n",
        "      <td>   Sunday</td>\n",
        "    </tr>\n",
        "    <tr>\n",
        "      <th>8 </th>\n",
        "      <td>1989-09-23</td>\n",
        "      <td> 1989</td>\n",
        "      <td> 9</td>\n",
        "      <td> 23</td>\n",
        "      <td> Saturday</td>\n",
        "    </tr>\n",
        "    <tr>\n",
        "      <th>9 </th>\n",
        "      <td>1989-09-24</td>\n",
        "      <td> 1989</td>\n",
        "      <td> 9</td>\n",
        "      <td> 24</td>\n",
        "      <td>   Sunday</td>\n",
        "    </tr>\n",
        "    <tr>\n",
        "      <th>15</th>\n",
        "      <td>1989-09-30</td>\n",
        "      <td> 1989</td>\n",
        "      <td> 9</td>\n",
        "      <td> 30</td>\n",
        "      <td> Saturday</td>\n",
        "    </tr>\n",
        "  </tbody>\n",
        "</table>\n",
        "</div>"
       ],
       "metadata": {},
       "output_type": "pyout",
       "prompt_number": 35,
       "text": [
        "         date  year  month  day   weekday\n",
        "1  1989-09-16  1989      9   16  Saturday\n",
        "2  1989-09-17  1989      9   17    Sunday\n",
        "8  1989-09-23  1989      9   23  Saturday\n",
        "9  1989-09-24  1989      9   24    Sunday\n",
        "15 1989-09-30  1989      9   30  Saturday"
       ]
      }
     ],
     "prompt_number": 35
    },
    {
     "cell_type": "markdown",
     "metadata": {},
     "source": [
      "We can also use our groupby skills to group by month--this is really useful if you need monthly averages of something:"
     ]
    },
    {
     "cell_type": "code",
     "collapsed": false,
     "input": [
      "df.groupby('month').size()"
     ],
     "language": "python",
     "metadata": {},
     "outputs": [
      {
       "metadata": {},
       "output_type": "pyout",
       "prompt_number": 102,
       "text": [
        "month\n",
        "1        31\n",
        "2        28\n",
        "3        31\n",
        "4        30\n",
        "5        31\n",
        "6        30\n",
        "7        27\n",
        "9        16\n",
        "10       31\n",
        "11       30\n",
        "12       31\n",
        "dtype: int64"
       ]
      }
     ],
     "prompt_number": 102
    },
    {
     "cell_type": "code",
     "collapsed": false,
     "input": [
      "df.groupby('month').mean()"
     ],
     "language": "python",
     "metadata": {},
     "outputs": [
      {
       "html": [
        "<div style=\"max-height:1000px;max-width:1500px;overflow:auto;\">\n",
        "<table border=\"1\" class=\"dataframe\">\n",
        "  <thead>\n",
        "    <tr style=\"text-align: right;\">\n",
        "      <th></th>\n",
        "      <th>year</th>\n",
        "      <th>day</th>\n",
        "    </tr>\n",
        "    <tr>\n",
        "      <th>month</th>\n",
        "      <th></th>\n",
        "      <th></th>\n",
        "    </tr>\n",
        "  </thead>\n",
        "  <tbody>\n",
        "    <tr>\n",
        "      <th>1 </th>\n",
        "      <td> 1990</td>\n",
        "      <td> 16.0</td>\n",
        "    </tr>\n",
        "    <tr>\n",
        "      <th>2 </th>\n",
        "      <td> 1990</td>\n",
        "      <td> 14.5</td>\n",
        "    </tr>\n",
        "    <tr>\n",
        "      <th>3 </th>\n",
        "      <td> 1990</td>\n",
        "      <td> 16.0</td>\n",
        "    </tr>\n",
        "    <tr>\n",
        "      <th>4 </th>\n",
        "      <td> 1990</td>\n",
        "      <td> 15.5</td>\n",
        "    </tr>\n",
        "    <tr>\n",
        "      <th>5 </th>\n",
        "      <td> 1990</td>\n",
        "      <td> 16.0</td>\n",
        "    </tr>\n",
        "    <tr>\n",
        "      <th>6 </th>\n",
        "      <td> 1990</td>\n",
        "      <td> 15.5</td>\n",
        "    </tr>\n",
        "    <tr>\n",
        "      <th>7 </th>\n",
        "      <td> 1990</td>\n",
        "      <td> 14.0</td>\n",
        "    </tr>\n",
        "    <tr>\n",
        "      <th>9 </th>\n",
        "      <td> 1989</td>\n",
        "      <td> 22.5</td>\n",
        "    </tr>\n",
        "    <tr>\n",
        "      <th>10</th>\n",
        "      <td> 1989</td>\n",
        "      <td> 16.0</td>\n",
        "    </tr>\n",
        "    <tr>\n",
        "      <th>11</th>\n",
        "      <td> 1989</td>\n",
        "      <td> 15.5</td>\n",
        "    </tr>\n",
        "    <tr>\n",
        "      <th>12</th>\n",
        "      <td> 1989</td>\n",
        "      <td> 16.0</td>\n",
        "    </tr>\n",
        "  </tbody>\n",
        "</table>\n",
        "</div>"
       ],
       "metadata": {},
       "output_type": "pyout",
       "prompt_number": 103,
       "text": [
        "       year   day\n",
        "month            \n",
        "1      1990  16.0\n",
        "2      1990  14.5\n",
        "3      1990  16.0\n",
        "4      1990  15.5\n",
        "5      1990  16.0\n",
        "6      1990  15.5\n",
        "7      1990  14.0\n",
        "9      1989  22.5\n",
        "10     1989  16.0\n",
        "11     1989  15.5\n",
        "12     1989  16.0"
       ]
      }
     ],
     "prompt_number": 103
    },
    {
     "cell_type": "heading",
     "level": 1,
     "metadata": {},
     "source": [
      "9. Importing dates correctly"
     ]
    },
    {
     "cell_type": "markdown",
     "metadata": {},
     "source": [
      "Ok, one more random note. Sometimes when you read a raw csv (using read_csv), pandas will import datetime columns in string format. You can automatically convert the column to datetime using the to_datetime method:"
     ]
    },
    {
     "cell_type": "code",
     "collapsed": false,
     "input": [
      "df = pd.read_csv()\n",
      "\n",
      "#Let's assume there is a date column called 'date' that was parsed as a string\n",
      "#We can convert it automatically like this:\n",
      "\n",
      "df['date'] = pd.to_datetime(df['date'])"
     ],
     "language": "python",
     "metadata": {},
     "outputs": [],
     "prompt_number": 66
    },
    {
     "cell_type": "markdown",
     "metadata": {},
     "source": [
      "That's it for today's lesson. Next time we'll have your first assignment. For reals!"
     ]
    },
    {
     "cell_type": "code",
     "collapsed": false,
     "input": [],
     "language": "python",
     "metadata": {},
     "outputs": []
    }
   ],
   "metadata": {}
  }
 ]
}