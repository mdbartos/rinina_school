{
 "metadata": {
  "name": "",
  "signature": "sha256:a61618db2ae978344392c04984e9c433e3003b3035d4f5aaad7be54f7d2ef463"
 },
 "nbformat": 3,
 "nbformat_minor": 0,
 "worksheets": [
  {
   "cells": [
    {
     "cell_type": "heading",
     "level": 1,
     "metadata": {},
     "source": [
      "LESSON 3: BASIC DATABASE FUNCTIONS"
     ]
    },
    {
     "cell_type": "markdown",
     "metadata": {},
     "source": [
      "Greetings. Welcome to your third day in rinina school. Today we will show you how to perform some very basic database operations, like joining tables and performing \"group by\" operations:"
     ]
    },
    {
     "cell_type": "heading",
     "level": 1,
     "metadata": {},
     "source": [
      "Joining data based on a common index"
     ]
    },
    {
     "cell_type": "markdown",
     "metadata": {},
     "source": [
      "Concatenation allows you to join Series or DataFrames togther based on a <b>shared index</b>.\n",
      "\n",
      "Let's start by creating two dataframes. We can use the from_dict method to create DataFrames from a dictionary:"
     ]
    },
    {
     "cell_type": "code",
     "collapsed": false,
     "input": [
      "import numpy as np\n",
      "import pandas as pd\n",
      "\n",
      "d1 = {\n",
      "    'NAME' : ['rini', 'matt', 'doge', 'cat'],\n",
      "    'CLASS' : ['goth girl', 'treasure hunter', 'mammal', 'mammal']\n",
      "    }\n",
      "\n",
      "d2 = {\n",
      "    'NAME' : ['doge', 'cat', 'rini', 'matt'],\n",
      "    'HP' : [30, 20, 69, 420],\n",
      "    'ATTACK 1' : ['growl', 'scratch', 'scratch', 'growl'],\n",
      "    'ATTACK 2' : ['bite', 'bite', 'avada kedavara', 'dragon breath']\t\t\n",
      "    }\n",
      "\n",
      "df_1 = pd.DataFrame.from_dict(d1)\n",
      "\n",
      "df_2 = pd.DataFrame.from_dict(d2)"
     ],
     "language": "python",
     "metadata": {},
     "outputs": [],
     "prompt_number": 47
    },
    {
     "cell_type": "markdown",
     "metadata": {},
     "source": [
      "Let's call these dataframes to see what they look like."
     ]
    },
    {
     "cell_type": "code",
     "collapsed": false,
     "input": [
      "df_1"
     ],
     "language": "python",
     "metadata": {},
     "outputs": [
      {
       "html": [
        "<div style=\"max-height:1000px;max-width:1500px;overflow:auto;\">\n",
        "<table border=\"1\" class=\"dataframe\">\n",
        "  <thead>\n",
        "    <tr style=\"text-align: right;\">\n",
        "      <th></th>\n",
        "      <th>CLASS</th>\n",
        "      <th>NAME</th>\n",
        "    </tr>\n",
        "  </thead>\n",
        "  <tbody>\n",
        "    <tr>\n",
        "      <th>0</th>\n",
        "      <td>       goth girl</td>\n",
        "      <td> rini</td>\n",
        "    </tr>\n",
        "    <tr>\n",
        "      <th>1</th>\n",
        "      <td> treasure hunter</td>\n",
        "      <td> matt</td>\n",
        "    </tr>\n",
        "    <tr>\n",
        "      <th>2</th>\n",
        "      <td>          mammal</td>\n",
        "      <td> doge</td>\n",
        "    </tr>\n",
        "    <tr>\n",
        "      <th>3</th>\n",
        "      <td>          mammal</td>\n",
        "      <td>  cat</td>\n",
        "    </tr>\n",
        "  </tbody>\n",
        "</table>\n",
        "</div>"
       ],
       "metadata": {},
       "output_type": "pyout",
       "prompt_number": 48,
       "text": [
        "             CLASS  NAME\n",
        "0        goth girl  rini\n",
        "1  treasure hunter  matt\n",
        "2           mammal  doge\n",
        "3           mammal   cat"
       ]
      }
     ],
     "prompt_number": 48
    },
    {
     "cell_type": "code",
     "collapsed": false,
     "input": [
      "df_2"
     ],
     "language": "python",
     "metadata": {},
     "outputs": [
      {
       "html": [
        "<div style=\"max-height:1000px;max-width:1500px;overflow:auto;\">\n",
        "<table border=\"1\" class=\"dataframe\">\n",
        "  <thead>\n",
        "    <tr style=\"text-align: right;\">\n",
        "      <th></th>\n",
        "      <th>ATTACK 1</th>\n",
        "      <th>ATTACK 2</th>\n",
        "      <th>HP</th>\n",
        "      <th>NAME</th>\n",
        "    </tr>\n",
        "  </thead>\n",
        "  <tbody>\n",
        "    <tr>\n",
        "      <th>0</th>\n",
        "      <td>   growl</td>\n",
        "      <td>           bite</td>\n",
        "      <td>  30</td>\n",
        "      <td> doge</td>\n",
        "    </tr>\n",
        "    <tr>\n",
        "      <th>1</th>\n",
        "      <td> scratch</td>\n",
        "      <td>           bite</td>\n",
        "      <td>  20</td>\n",
        "      <td>  cat</td>\n",
        "    </tr>\n",
        "    <tr>\n",
        "      <th>2</th>\n",
        "      <td> scratch</td>\n",
        "      <td> avada kedavara</td>\n",
        "      <td>  69</td>\n",
        "      <td> rini</td>\n",
        "    </tr>\n",
        "    <tr>\n",
        "      <th>3</th>\n",
        "      <td>   growl</td>\n",
        "      <td>  dragon breath</td>\n",
        "      <td> 420</td>\n",
        "      <td> matt</td>\n",
        "    </tr>\n",
        "  </tbody>\n",
        "</table>\n",
        "</div>"
       ],
       "metadata": {},
       "output_type": "pyout",
       "prompt_number": 49,
       "text": [
        "  ATTACK 1        ATTACK 2   HP  NAME\n",
        "0    growl            bite   30  doge\n",
        "1  scratch            bite   20   cat\n",
        "2  scratch  avada kedavara   69  rini\n",
        "3    growl   dragon breath  420  matt"
       ]
      }
     ],
     "prompt_number": 49
    },
    {
     "cell_type": "heading",
     "level": 2,
     "metadata": {},
     "source": [
      "Setting the index"
     ]
    },
    {
     "cell_type": "markdown",
     "metadata": {},
     "source": [
      "These two dataframes have a common 'NAME' field.\n",
      "\n",
      "We want to identify each row by the 'name', so let's <b>set the index</b> to be the 'NAME' column. "
     ]
    },
    {
     "cell_type": "code",
     "collapsed": false,
     "input": [
      "df_1 = df_1.set_index('NAME')\n",
      "df_2 = df_2.set_index('NAME')"
     ],
     "language": "python",
     "metadata": {},
     "outputs": [],
     "prompt_number": 50
    },
    {
     "cell_type": "markdown",
     "metadata": {},
     "source": [
      "Now let's call the dataframes again. You can see that the 'NAME' label is slightly below the column labels. This means that the index of the dataframe is now 'NAME'."
     ]
    },
    {
     "cell_type": "code",
     "collapsed": false,
     "input": [
      "df_1"
     ],
     "language": "python",
     "metadata": {},
     "outputs": [
      {
       "html": [
        "<div style=\"max-height:1000px;max-width:1500px;overflow:auto;\">\n",
        "<table border=\"1\" class=\"dataframe\">\n",
        "  <thead>\n",
        "    <tr style=\"text-align: right;\">\n",
        "      <th></th>\n",
        "      <th>CLASS</th>\n",
        "    </tr>\n",
        "    <tr>\n",
        "      <th>NAME</th>\n",
        "      <th></th>\n",
        "    </tr>\n",
        "  </thead>\n",
        "  <tbody>\n",
        "    <tr>\n",
        "      <th>rini</th>\n",
        "      <td>       goth girl</td>\n",
        "    </tr>\n",
        "    <tr>\n",
        "      <th>matt</th>\n",
        "      <td> treasure hunter</td>\n",
        "    </tr>\n",
        "    <tr>\n",
        "      <th>doge</th>\n",
        "      <td>          mammal</td>\n",
        "    </tr>\n",
        "    <tr>\n",
        "      <th>cat</th>\n",
        "      <td>          mammal</td>\n",
        "    </tr>\n",
        "  </tbody>\n",
        "</table>\n",
        "</div>"
       ],
       "metadata": {},
       "output_type": "pyout",
       "prompt_number": 51,
       "text": [
        "                CLASS\n",
        "NAME                 \n",
        "rini        goth girl\n",
        "matt  treasure hunter\n",
        "doge           mammal\n",
        "cat            mammal"
       ]
      }
     ],
     "prompt_number": 51
    },
    {
     "cell_type": "code",
     "collapsed": false,
     "input": [
      "df_2"
     ],
     "language": "python",
     "metadata": {},
     "outputs": [
      {
       "html": [
        "<div style=\"max-height:1000px;max-width:1500px;overflow:auto;\">\n",
        "<table border=\"1\" class=\"dataframe\">\n",
        "  <thead>\n",
        "    <tr style=\"text-align: right;\">\n",
        "      <th></th>\n",
        "      <th>ATTACK 1</th>\n",
        "      <th>ATTACK 2</th>\n",
        "      <th>HP</th>\n",
        "    </tr>\n",
        "    <tr>\n",
        "      <th>NAME</th>\n",
        "      <th></th>\n",
        "      <th></th>\n",
        "      <th></th>\n",
        "    </tr>\n",
        "  </thead>\n",
        "  <tbody>\n",
        "    <tr>\n",
        "      <th>doge</th>\n",
        "      <td>   growl</td>\n",
        "      <td>           bite</td>\n",
        "      <td>  30</td>\n",
        "    </tr>\n",
        "    <tr>\n",
        "      <th>cat</th>\n",
        "      <td> scratch</td>\n",
        "      <td>           bite</td>\n",
        "      <td>  20</td>\n",
        "    </tr>\n",
        "    <tr>\n",
        "      <th>rini</th>\n",
        "      <td> scratch</td>\n",
        "      <td> avada kedavara</td>\n",
        "      <td>  69</td>\n",
        "    </tr>\n",
        "    <tr>\n",
        "      <th>matt</th>\n",
        "      <td>   growl</td>\n",
        "      <td>  dragon breath</td>\n",
        "      <td> 420</td>\n",
        "    </tr>\n",
        "  </tbody>\n",
        "</table>\n",
        "</div>"
       ],
       "metadata": {},
       "output_type": "pyout",
       "prompt_number": 52,
       "text": [
        "     ATTACK 1        ATTACK 2   HP\n",
        "NAME                              \n",
        "doge    growl            bite   30\n",
        "cat   scratch            bite   20\n",
        "rini  scratch  avada kedavara   69\n",
        "matt    growl   dragon breath  420"
       ]
      }
     ],
     "prompt_number": 52
    },
    {
     "cell_type": "heading",
     "level": 2,
     "metadata": {},
     "source": [
      "Resetting the index"
     ]
    },
    {
     "cell_type": "markdown",
     "metadata": {},
     "source": [
      "If you want to reset the index to an integer index, call the reset_index method:"
     ]
    },
    {
     "cell_type": "code",
     "collapsed": false,
     "input": [
      "df_1.reset_index()\n",
      "\n",
      "#Note that in this case, it didn't save the change because I didn't reassign the variable df_1."
     ],
     "language": "python",
     "metadata": {},
     "outputs": [
      {
       "html": [
        "<div style=\"max-height:1000px;max-width:1500px;overflow:auto;\">\n",
        "<table border=\"1\" class=\"dataframe\">\n",
        "  <thead>\n",
        "    <tr style=\"text-align: right;\">\n",
        "      <th></th>\n",
        "      <th>NAME</th>\n",
        "      <th>CLASS</th>\n",
        "    </tr>\n",
        "  </thead>\n",
        "  <tbody>\n",
        "    <tr>\n",
        "      <th>0</th>\n",
        "      <td> rini</td>\n",
        "      <td>       goth girl</td>\n",
        "    </tr>\n",
        "    <tr>\n",
        "      <th>1</th>\n",
        "      <td> matt</td>\n",
        "      <td> treasure hunter</td>\n",
        "    </tr>\n",
        "    <tr>\n",
        "      <th>2</th>\n",
        "      <td> doge</td>\n",
        "      <td>          mammal</td>\n",
        "    </tr>\n",
        "    <tr>\n",
        "      <th>3</th>\n",
        "      <td>  cat</td>\n",
        "      <td>          mammal</td>\n",
        "    </tr>\n",
        "  </tbody>\n",
        "</table>\n",
        "</div>"
       ],
       "metadata": {},
       "output_type": "pyout",
       "prompt_number": 53,
       "text": [
        "   NAME            CLASS\n",
        "0  rini        goth girl\n",
        "1  matt  treasure hunter\n",
        "2  doge           mammal\n",
        "3   cat           mammal"
       ]
      }
     ],
     "prompt_number": 53
    },
    {
     "cell_type": "heading",
     "level": 2,
     "metadata": {},
     "source": [
      "Concatenate"
     ]
    },
    {
     "cell_type": "markdown",
     "metadata": {},
     "source": [
      "Okays, now we have two dataframes, df_1 and df_2. But wait a second, the rows are in a different order! No problem. The concatenate function will match the rows based on a shared index:"
     ]
    },
    {
     "cell_type": "code",
     "collapsed": false,
     "input": [
      "newdf = pd.concat([df_1, df_2], axis=1)\n",
      "\n",
      "#                   ^ The first argument is a list of DataFrames or Series to concatenate.\n",
      "\n",
      "#                               ^ The second argument (axis=...) tells the function to concatenate using the row labels.\n",
      "#                                 More on this in a second..."
     ],
     "language": "python",
     "metadata": {},
     "outputs": [],
     "prompt_number": 54
    },
    {
     "cell_type": "heading",
     "level": 2,
     "metadata": {},
     "source": [
      "Choosing the concatenation axis"
     ]
    },
    {
     "cell_type": "markdown",
     "metadata": {},
     "source": [
      "When using pd.concat, you need to specify the axis you want to concatenate along.\n",
      "\n",
      "- axis=0 will concatenate based on the column labels; i.e. it will add new rows based on shared column labels.\n",
      "\n",
      "- axis=1 will concatenate based on row labels; i.e. it will add new columns based on shared row labels.\n",
      "\n",
      "WHEN YOU WANT TO ADD NEW COLUMNS, USE axis=1; WHEN YOU WANT TO ADD ROWS, USE axis=0.\n",
      "\n",
      "In the previous case, the DataFrames share a set of row labels, but have different column labels. We wanted to add the extra columns and match up the row labels. Thus, we used axis=1. Let's create a new dataframe and try out axis=0:"
     ]
    },
    {
     "cell_type": "code",
     "collapsed": false,
     "input": [
      "d3 = {\n",
      "        'NAME' : ['cockatiel', 'turtle', 'eagle'],\n",
      "        'CLASS' : ['aves', 'reptile', 'aves'],\n",
      "        'ATTACK 1' : ['scratch', 'bite', 'scratch'],\n",
      "        'HP' : [10, 800, 200]\n",
      "        }\n",
      "\n",
      "df_3 = pd.DataFrame.from_dict(d3).set_index('NAME') #Creates a dataframe from dict and sets the index to 'NAME'"
     ],
     "language": "python",
     "metadata": {},
     "outputs": [],
     "prompt_number": 39
    },
    {
     "cell_type": "code",
     "collapsed": false,
     "input": [
      "df_3"
     ],
     "language": "python",
     "metadata": {},
     "outputs": [
      {
       "html": [
        "<div style=\"max-height:1000px;max-width:1500px;overflow:auto;\">\n",
        "<table border=\"1\" class=\"dataframe\">\n",
        "  <thead>\n",
        "    <tr style=\"text-align: right;\">\n",
        "      <th></th>\n",
        "      <th>ATTACK 1</th>\n",
        "      <th>CLASS</th>\n",
        "      <th>HP</th>\n",
        "    </tr>\n",
        "    <tr>\n",
        "      <th>NAME</th>\n",
        "      <th></th>\n",
        "      <th></th>\n",
        "      <th></th>\n",
        "    </tr>\n",
        "  </thead>\n",
        "  <tbody>\n",
        "    <tr>\n",
        "      <th>cockatiel</th>\n",
        "      <td> scratch</td>\n",
        "      <td>    aves</td>\n",
        "      <td>  10</td>\n",
        "    </tr>\n",
        "    <tr>\n",
        "      <th>turtle</th>\n",
        "      <td>    bite</td>\n",
        "      <td> reptile</td>\n",
        "      <td> 800</td>\n",
        "    </tr>\n",
        "    <tr>\n",
        "      <th>eagle</th>\n",
        "      <td> scratch</td>\n",
        "      <td>    aves</td>\n",
        "      <td> 200</td>\n",
        "    </tr>\n",
        "  </tbody>\n",
        "</table>\n",
        "</div>"
       ],
       "metadata": {},
       "output_type": "pyout",
       "prompt_number": 40,
       "text": [
        "          ATTACK 1    CLASS   HP\n",
        "NAME                            \n",
        "cockatiel  scratch     aves   10\n",
        "turtle        bite  reptile  800\n",
        "eagle      scratch     aves  200"
       ]
      }
     ],
     "prompt_number": 40
    },
    {
     "cell_type": "markdown",
     "metadata": {},
     "source": [
      "Now let's add these new rows by using pd.concat to concatenate based on the column labels."
     ]
    },
    {
     "cell_type": "code",
     "collapsed": false,
     "input": [
      "newdf_2 = pd.concat([newdf, df_3], axis=0) #Side note: if the axis isn't specified, it defaults to axis=0"
     ],
     "language": "python",
     "metadata": {},
     "outputs": [],
     "prompt_number": 30
    },
    {
     "cell_type": "code",
     "collapsed": false,
     "input": [
      "newdf_2"
     ],
     "language": "python",
     "metadata": {},
     "outputs": [
      {
       "html": [
        "<div style=\"max-height:1000px;max-width:1500px;overflow:auto;\">\n",
        "<table border=\"1\" class=\"dataframe\">\n",
        "  <thead>\n",
        "    <tr style=\"text-align: right;\">\n",
        "      <th></th>\n",
        "      <th>ATTACK 1</th>\n",
        "      <th>ATTACK 2</th>\n",
        "      <th>CLASS</th>\n",
        "      <th>HP</th>\n",
        "    </tr>\n",
        "  </thead>\n",
        "  <tbody>\n",
        "    <tr>\n",
        "      <th>cat</th>\n",
        "      <td> scratch</td>\n",
        "      <td>           bite</td>\n",
        "      <td>          mammal</td>\n",
        "      <td>  20</td>\n",
        "    </tr>\n",
        "    <tr>\n",
        "      <th>doge</th>\n",
        "      <td>   growl</td>\n",
        "      <td>           bite</td>\n",
        "      <td>          mammal</td>\n",
        "      <td>  30</td>\n",
        "    </tr>\n",
        "    <tr>\n",
        "      <th>matt</th>\n",
        "      <td>   growl</td>\n",
        "      <td>  dragon breath</td>\n",
        "      <td> treasure hunter</td>\n",
        "      <td> 420</td>\n",
        "    </tr>\n",
        "    <tr>\n",
        "      <th>rini</th>\n",
        "      <td> scratch</td>\n",
        "      <td> avada kedavara</td>\n",
        "      <td>       goth girl</td>\n",
        "      <td>  69</td>\n",
        "    </tr>\n",
        "    <tr>\n",
        "      <th>cockatiel</th>\n",
        "      <td> scratch</td>\n",
        "      <td>            NaN</td>\n",
        "      <td>            aves</td>\n",
        "      <td>  10</td>\n",
        "    </tr>\n",
        "    <tr>\n",
        "      <th>turtle</th>\n",
        "      <td>    bite</td>\n",
        "      <td>            NaN</td>\n",
        "      <td>         reptile</td>\n",
        "      <td> 800</td>\n",
        "    </tr>\n",
        "    <tr>\n",
        "      <th>eagle</th>\n",
        "      <td> scratch</td>\n",
        "      <td>            NaN</td>\n",
        "      <td>            aves</td>\n",
        "      <td> 200</td>\n",
        "    </tr>\n",
        "  </tbody>\n",
        "</table>\n",
        "</div>"
       ],
       "metadata": {},
       "output_type": "pyout",
       "prompt_number": 34,
       "text": [
        "          ATTACK 1        ATTACK 2            CLASS   HP\n",
        "cat        scratch            bite           mammal   20\n",
        "doge         growl            bite           mammal   30\n",
        "matt         growl   dragon breath  treasure hunter  420\n",
        "rini       scratch  avada kedavara        goth girl   69\n",
        "cockatiel  scratch             NaN             aves   10\n",
        "turtle        bite             NaN          reptile  800\n",
        "eagle      scratch             NaN             aves  200"
       ]
      }
     ],
     "prompt_number": 34
    },
    {
     "cell_type": "heading",
     "level": 2,
     "metadata": {},
     "source": [
      "Dealing with nulls"
     ]
    },
    {
     "cell_type": "markdown",
     "metadata": {},
     "source": [
      "All right! But wait, what are these NaNs? These are nulls (np.nan), created because we were missing the 'ATTACK 2' column in df_3. \n",
      "Uh oh!\n",
      "\n",
      "We can ignore these NaNs because, unlike 0's, they will not be included in any aggregation operations (like count, mean, median, or std).\n",
      "\n",
      "However, if you really want to get rid of them, you can use dropna() or fillna()"
     ]
    },
    {
     "cell_type": "heading",
     "level": 3,
     "metadata": {},
     "source": [
      "Dropping nulls"
     ]
    },
    {
     "cell_type": "code",
     "collapsed": false,
     "input": [
      "newdf_2.dropna() #drops any row containing a NaN"
     ],
     "language": "python",
     "metadata": {},
     "outputs": [
      {
       "html": [
        "<div style=\"max-height:1000px;max-width:1500px;overflow:auto;\">\n",
        "<table border=\"1\" class=\"dataframe\">\n",
        "  <thead>\n",
        "    <tr style=\"text-align: right;\">\n",
        "      <th></th>\n",
        "      <th>ATTACK 1</th>\n",
        "      <th>ATTACK 2</th>\n",
        "      <th>CLASS</th>\n",
        "      <th>HP</th>\n",
        "    </tr>\n",
        "  </thead>\n",
        "  <tbody>\n",
        "    <tr>\n",
        "      <th>cat</th>\n",
        "      <td> scratch</td>\n",
        "      <td>           bite</td>\n",
        "      <td>          mammal</td>\n",
        "      <td>  20</td>\n",
        "    </tr>\n",
        "    <tr>\n",
        "      <th>doge</th>\n",
        "      <td>   growl</td>\n",
        "      <td>           bite</td>\n",
        "      <td>          mammal</td>\n",
        "      <td>  30</td>\n",
        "    </tr>\n",
        "    <tr>\n",
        "      <th>matt</th>\n",
        "      <td>   growl</td>\n",
        "      <td>  dragon breath</td>\n",
        "      <td> treasure hunter</td>\n",
        "      <td> 420</td>\n",
        "    </tr>\n",
        "    <tr>\n",
        "      <th>rini</th>\n",
        "      <td> scratch</td>\n",
        "      <td> avada kedavara</td>\n",
        "      <td>       goth girl</td>\n",
        "      <td>  69</td>\n",
        "    </tr>\n",
        "  </tbody>\n",
        "</table>\n",
        "</div>"
       ],
       "metadata": {},
       "output_type": "pyout",
       "prompt_number": 32,
       "text": [
        "     ATTACK 1        ATTACK 2            CLASS   HP\n",
        "cat   scratch            bite           mammal   20\n",
        "doge    growl            bite           mammal   30\n",
        "matt    growl   dragon breath  treasure hunter  420\n",
        "rini  scratch  avada kedavara        goth girl   69"
       ]
      }
     ],
     "prompt_number": 32
    },
    {
     "cell_type": "code",
     "collapsed": false,
     "input": [
      "newdf_2.dropna(subset=['ATTACK 2']) #drop rows with NaNs occurring in column 'ATTACK 2'"
     ],
     "language": "python",
     "metadata": {},
     "outputs": [
      {
       "html": [
        "<div style=\"max-height:1000px;max-width:1500px;overflow:auto;\">\n",
        "<table border=\"1\" class=\"dataframe\">\n",
        "  <thead>\n",
        "    <tr style=\"text-align: right;\">\n",
        "      <th></th>\n",
        "      <th>ATTACK 1</th>\n",
        "      <th>ATTACK 2</th>\n",
        "      <th>CLASS</th>\n",
        "      <th>HP</th>\n",
        "    </tr>\n",
        "  </thead>\n",
        "  <tbody>\n",
        "    <tr>\n",
        "      <th>cat</th>\n",
        "      <td> scratch</td>\n",
        "      <td>           bite</td>\n",
        "      <td>          mammal</td>\n",
        "      <td>  20</td>\n",
        "    </tr>\n",
        "    <tr>\n",
        "      <th>doge</th>\n",
        "      <td>   growl</td>\n",
        "      <td>           bite</td>\n",
        "      <td>          mammal</td>\n",
        "      <td>  30</td>\n",
        "    </tr>\n",
        "    <tr>\n",
        "      <th>matt</th>\n",
        "      <td>   growl</td>\n",
        "      <td>  dragon breath</td>\n",
        "      <td> treasure hunter</td>\n",
        "      <td> 420</td>\n",
        "    </tr>\n",
        "    <tr>\n",
        "      <th>rini</th>\n",
        "      <td> scratch</td>\n",
        "      <td> avada kedavara</td>\n",
        "      <td>       goth girl</td>\n",
        "      <td>  69</td>\n",
        "    </tr>\n",
        "  </tbody>\n",
        "</table>\n",
        "</div>"
       ],
       "metadata": {},
       "output_type": "pyout",
       "prompt_number": 33,
       "text": [
        "     ATTACK 1        ATTACK 2            CLASS   HP\n",
        "cat   scratch            bite           mammal   20\n",
        "doge    growl            bite           mammal   30\n",
        "matt    growl   dragon breath  treasure hunter  420\n",
        "rini  scratch  avada kedavara        goth girl   69"
       ]
      }
     ],
     "prompt_number": 33
    },
    {
     "cell_type": "heading",
     "level": 3,
     "metadata": {},
     "source": [
      "Filling nulls"
     ]
    },
    {
     "cell_type": "markdown",
     "metadata": {},
     "source": [
      "You can also use fillna() to replace missing data"
     ]
    },
    {
     "cell_type": "code",
     "collapsed": false,
     "input": [
      "newdf_2.fillna('tackle') #replaces NaNs with another value, in this case 'tackle'. You can enter additional arguments for more complex criteria."
     ],
     "language": "python",
     "metadata": {},
     "outputs": [
      {
       "html": [
        "<div style=\"max-height:1000px;max-width:1500px;overflow:auto;\">\n",
        "<table border=\"1\" class=\"dataframe\">\n",
        "  <thead>\n",
        "    <tr style=\"text-align: right;\">\n",
        "      <th></th>\n",
        "      <th>ATTACK 1</th>\n",
        "      <th>ATTACK 2</th>\n",
        "      <th>CLASS</th>\n",
        "      <th>HP</th>\n",
        "    </tr>\n",
        "  </thead>\n",
        "  <tbody>\n",
        "    <tr>\n",
        "      <th>cat</th>\n",
        "      <td> scratch</td>\n",
        "      <td>           bite</td>\n",
        "      <td>          mammal</td>\n",
        "      <td>  20</td>\n",
        "    </tr>\n",
        "    <tr>\n",
        "      <th>doge</th>\n",
        "      <td>   growl</td>\n",
        "      <td>           bite</td>\n",
        "      <td>          mammal</td>\n",
        "      <td>  30</td>\n",
        "    </tr>\n",
        "    <tr>\n",
        "      <th>matt</th>\n",
        "      <td>   growl</td>\n",
        "      <td>  dragon breath</td>\n",
        "      <td> treasure hunter</td>\n",
        "      <td> 420</td>\n",
        "    </tr>\n",
        "    <tr>\n",
        "      <th>rini</th>\n",
        "      <td> scratch</td>\n",
        "      <td> avada kedavara</td>\n",
        "      <td>       goth girl</td>\n",
        "      <td>  69</td>\n",
        "    </tr>\n",
        "    <tr>\n",
        "      <th>cockatiel</th>\n",
        "      <td> scratch</td>\n",
        "      <td>         tackle</td>\n",
        "      <td>            aves</td>\n",
        "      <td>  10</td>\n",
        "    </tr>\n",
        "    <tr>\n",
        "      <th>turtle</th>\n",
        "      <td>    bite</td>\n",
        "      <td>         tackle</td>\n",
        "      <td>         reptile</td>\n",
        "      <td> 800</td>\n",
        "    </tr>\n",
        "    <tr>\n",
        "      <th>eagle</th>\n",
        "      <td> scratch</td>\n",
        "      <td>         tackle</td>\n",
        "      <td>            aves</td>\n",
        "      <td> 200</td>\n",
        "    </tr>\n",
        "  </tbody>\n",
        "</table>\n",
        "</div>"
       ],
       "metadata": {},
       "output_type": "pyout",
       "prompt_number": 35,
       "text": [
        "          ATTACK 1        ATTACK 2            CLASS   HP\n",
        "cat        scratch            bite           mammal   20\n",
        "doge         growl            bite           mammal   30\n",
        "matt         growl   dragon breath  treasure hunter  420\n",
        "rini       scratch  avada kedavara        goth girl   69\n",
        "cockatiel  scratch          tackle             aves   10\n",
        "turtle        bite          tackle          reptile  800\n",
        "eagle      scratch          tackle             aves  200"
       ]
      }
     ],
     "prompt_number": 35
    },
    {
     "cell_type": "markdown",
     "metadata": {},
     "source": [
      "Let's use fillna in this case"
     ]
    },
    {
     "cell_type": "code",
     "collapsed": false,
     "input": [
      "newdf_2 = newdf_2.fillna('tackle')"
     ],
     "language": "python",
     "metadata": {},
     "outputs": [],
     "prompt_number": 37
    },
    {
     "cell_type": "code",
     "collapsed": false,
     "input": [
      "newdf_2"
     ],
     "language": "python",
     "metadata": {},
     "outputs": [
      {
       "html": [
        "<div style=\"max-height:1000px;max-width:1500px;overflow:auto;\">\n",
        "<table border=\"1\" class=\"dataframe\">\n",
        "  <thead>\n",
        "    <tr style=\"text-align: right;\">\n",
        "      <th></th>\n",
        "      <th>ATTACK 1</th>\n",
        "      <th>ATTACK 2</th>\n",
        "      <th>CLASS</th>\n",
        "      <th>HP</th>\n",
        "    </tr>\n",
        "  </thead>\n",
        "  <tbody>\n",
        "    <tr>\n",
        "      <th>cat</th>\n",
        "      <td> scratch</td>\n",
        "      <td>           bite</td>\n",
        "      <td>          mammal</td>\n",
        "      <td>  20</td>\n",
        "    </tr>\n",
        "    <tr>\n",
        "      <th>doge</th>\n",
        "      <td>   growl</td>\n",
        "      <td>           bite</td>\n",
        "      <td>          mammal</td>\n",
        "      <td>  30</td>\n",
        "    </tr>\n",
        "    <tr>\n",
        "      <th>matt</th>\n",
        "      <td>   growl</td>\n",
        "      <td>  dragon breath</td>\n",
        "      <td> treasure hunter</td>\n",
        "      <td> 420</td>\n",
        "    </tr>\n",
        "    <tr>\n",
        "      <th>rini</th>\n",
        "      <td> scratch</td>\n",
        "      <td> avada kedavara</td>\n",
        "      <td>       goth girl</td>\n",
        "      <td>  69</td>\n",
        "    </tr>\n",
        "    <tr>\n",
        "      <th>cockatiel</th>\n",
        "      <td> scratch</td>\n",
        "      <td>         tackle</td>\n",
        "      <td>            aves</td>\n",
        "      <td>  10</td>\n",
        "    </tr>\n",
        "    <tr>\n",
        "      <th>turtle</th>\n",
        "      <td>    bite</td>\n",
        "      <td>         tackle</td>\n",
        "      <td>         reptile</td>\n",
        "      <td> 800</td>\n",
        "    </tr>\n",
        "    <tr>\n",
        "      <th>eagle</th>\n",
        "      <td> scratch</td>\n",
        "      <td>         tackle</td>\n",
        "      <td>            aves</td>\n",
        "      <td> 200</td>\n",
        "    </tr>\n",
        "  </tbody>\n",
        "</table>\n",
        "</div>"
       ],
       "metadata": {},
       "output_type": "pyout",
       "prompt_number": 38,
       "text": [
        "          ATTACK 1        ATTACK 2            CLASS   HP\n",
        "cat        scratch            bite           mammal   20\n",
        "doge         growl            bite           mammal   30\n",
        "matt         growl   dragon breath  treasure hunter  420\n",
        "rini       scratch  avada kedavara        goth girl   69\n",
        "cockatiel  scratch          tackle             aves   10\n",
        "turtle        bite          tackle          reptile  800\n",
        "eagle      scratch          tackle             aves  200"
       ]
      }
     ],
     "prompt_number": 38
    },
    {
     "cell_type": "heading",
     "level": 2,
     "metadata": {},
     "source": [
      "A note on null types"
     ]
    },
    {
     "cell_type": "markdown",
     "metadata": {},
     "source": [
      "In regular python, nulls are usually represented by the \"None\" object. Try typing \"None\" into the shell (without the quotes) and hitting ENTER. Instead of throwing an undefined variable error, the interpreter should return \"None\".\n",
      "\n",
      "For numeric values, pandas generally represents nulls as \"np.nan\". From the name, you can see that this object is taken from the numpy library (remember, we imported numpy as np). The \"nan\" in \"np.nan\" means \"not a number\". It is similar to the native python \"None\" object, except that it is typed as a 64-bit float. This seems kind of weird, but it confers a few advantages:\n",
      "\n",
      "- you can use it with other numbers (i.e. 3*np.nan is a valid expression, and will return np.nan)\n",
      "\n",
      "- it allows your Series to be singly-typed (i.e. everything in a Series has the same type, like float, int, string, etc.). \n",
      "\n",
      "Having a singly-typed array speeds up calculations by several orders of magnitude. It's one of the reasons we use pandas and numpy in the first place.\n",
      "\n",
      "(btw, I don't think I mentioned it before, but every column in a DataFrame is a pandas Series. This is an important fact to remember when performing join operations).\n",
      "\n",
      "For strings, null values can be represented as an empty string: \"\" or ''."
     ]
    },
    {
     "cell_type": "heading",
     "level": 1,
     "metadata": {},
     "source": [
      "\"Group by\" operations"
     ]
    },
    {
     "cell_type": "markdown",
     "metadata": {},
     "source": [
      "Ok, now let's try some aggregation operations. These are just like the GROUP BY operations in MS ACCESS (tm)."
     ]
    },
    {
     "cell_type": "markdown",
     "metadata": {},
     "source": [
      "Let's GROUP BY the 'CLASS' column."
     ]
    },
    {
     "cell_type": "code",
     "collapsed": false,
     "input": [
      "newdf_2.groupby('CLASS')"
     ],
     "language": "python",
     "metadata": {},
     "outputs": [
      {
       "metadata": {},
       "output_type": "pyout",
       "prompt_number": 55,
       "text": [
        "<pandas.core.groupby.DataFrameGroupBy object at 0x7f205a221ad0>"
       ]
      }
     ],
     "prompt_number": 55
    },
    {
     "cell_type": "markdown",
     "metadata": {},
     "source": [
      "Note that it just returns a memory object. To create meaningful output, we have to call an aggregator function (like sum, count, mean, etc.), just like in MS ACCESS (tm)."
     ]
    },
    {
     "cell_type": "code",
     "collapsed": false,
     "input": [
      "newdf_2.groupby('CLASS').size() #Shows that there are two mammals, two aves, 1 reptile, 1 goth girl, and 1 treasure hunter."
     ],
     "language": "python",
     "metadata": {},
     "outputs": [
      {
       "metadata": {},
       "output_type": "pyout",
       "prompt_number": 57,
       "text": [
        "CLASS\n",
        "aves               2\n",
        "goth girl          1\n",
        "mammal             2\n",
        "reptile            1\n",
        "treasure hunter    1\n",
        "dtype: int64"
       ]
      }
     ],
     "prompt_number": 57
    },
    {
     "cell_type": "code",
     "collapsed": false,
     "input": [
      "newdf_2.groupby('CLASS').mean() #Shows that reptiles have the most HP on average, followed by treasure hunters"
     ],
     "language": "python",
     "metadata": {},
     "outputs": [
      {
       "html": [
        "<div style=\"max-height:1000px;max-width:1500px;overflow:auto;\">\n",
        "<table border=\"1\" class=\"dataframe\">\n",
        "  <thead>\n",
        "    <tr style=\"text-align: right;\">\n",
        "      <th></th>\n",
        "      <th>HP</th>\n",
        "    </tr>\n",
        "    <tr>\n",
        "      <th>CLASS</th>\n",
        "      <th></th>\n",
        "    </tr>\n",
        "  </thead>\n",
        "  <tbody>\n",
        "    <tr>\n",
        "      <th>aves</th>\n",
        "      <td> 105</td>\n",
        "    </tr>\n",
        "    <tr>\n",
        "      <th>goth girl</th>\n",
        "      <td>  69</td>\n",
        "    </tr>\n",
        "    <tr>\n",
        "      <th>mammal</th>\n",
        "      <td>  25</td>\n",
        "    </tr>\n",
        "    <tr>\n",
        "      <th>reptile</th>\n",
        "      <td> 800</td>\n",
        "    </tr>\n",
        "    <tr>\n",
        "      <th>treasure hunter</th>\n",
        "      <td> 420</td>\n",
        "    </tr>\n",
        "  </tbody>\n",
        "</table>\n",
        "</div>"
       ],
       "metadata": {},
       "output_type": "pyout",
       "prompt_number": 58,
       "text": [
        "                  HP\n",
        "CLASS               \n",
        "aves             105\n",
        "goth girl         69\n",
        "mammal            25\n",
        "reptile          800\n",
        "treasure hunter  420"
       ]
      }
     ],
     "prompt_number": 58
    },
    {
     "cell_type": "code",
     "collapsed": false,
     "input": [
      "#Let's group by the 'ATTACK 1' field:"
     ],
     "language": "python",
     "metadata": {},
     "outputs": [],
     "prompt_number": 60
    },
    {
     "cell_type": "code",
     "collapsed": false,
     "input": [
      "newdf_2.groupby('ATTACK 1').mean() #shows that bite and growl are most strongly correlated with high HP"
     ],
     "language": "python",
     "metadata": {},
     "outputs": [
      {
       "html": [
        "<div style=\"max-height:1000px;max-width:1500px;overflow:auto;\">\n",
        "<table border=\"1\" class=\"dataframe\">\n",
        "  <thead>\n",
        "    <tr style=\"text-align: right;\">\n",
        "      <th></th>\n",
        "      <th>HP</th>\n",
        "    </tr>\n",
        "    <tr>\n",
        "      <th>ATTACK 1</th>\n",
        "      <th></th>\n",
        "    </tr>\n",
        "  </thead>\n",
        "  <tbody>\n",
        "    <tr>\n",
        "      <th>bite</th>\n",
        "      <td> 800.00</td>\n",
        "    </tr>\n",
        "    <tr>\n",
        "      <th>growl</th>\n",
        "      <td> 225.00</td>\n",
        "    </tr>\n",
        "    <tr>\n",
        "      <th>scratch</th>\n",
        "      <td>  74.75</td>\n",
        "    </tr>\n",
        "  </tbody>\n",
        "</table>\n",
        "</div>"
       ],
       "metadata": {},
       "output_type": "pyout",
       "prompt_number": 59,
       "text": [
        "              HP\n",
        "ATTACK 1        \n",
        "bite      800.00\n",
        "growl     225.00\n",
        "scratch    74.75"
       ]
      }
     ],
     "prompt_number": 59
    },
    {
     "cell_type": "code",
     "collapsed": false,
     "input": [
      "#We can also call groupby on a list of fields to get a hierarchical index:"
     ],
     "language": "python",
     "metadata": {},
     "outputs": [],
     "prompt_number": 61
    },
    {
     "cell_type": "code",
     "collapsed": false,
     "input": [
      "newdf_2.groupby(['CLASS', 'ATTACK 1']).count() #Groups by 'class' first, then 'attack 1'."
     ],
     "language": "python",
     "metadata": {},
     "outputs": [
      {
       "html": [
        "<div style=\"max-height:1000px;max-width:1500px;overflow:auto;\">\n",
        "<table border=\"1\" class=\"dataframe\">\n",
        "  <thead>\n",
        "    <tr style=\"text-align: right;\">\n",
        "      <th></th>\n",
        "      <th></th>\n",
        "      <th>ATTACK 2</th>\n",
        "      <th>HP</th>\n",
        "    </tr>\n",
        "    <tr>\n",
        "      <th>CLASS</th>\n",
        "      <th>ATTACK 1</th>\n",
        "      <th></th>\n",
        "      <th></th>\n",
        "    </tr>\n",
        "  </thead>\n",
        "  <tbody>\n",
        "    <tr>\n",
        "      <th>aves</th>\n",
        "      <th>scratch</th>\n",
        "      <td> 2</td>\n",
        "      <td> 2</td>\n",
        "    </tr>\n",
        "    <tr>\n",
        "      <th>goth girl</th>\n",
        "      <th>scratch</th>\n",
        "      <td> 1</td>\n",
        "      <td> 1</td>\n",
        "    </tr>\n",
        "    <tr>\n",
        "      <th rowspan=\"2\" valign=\"top\">mammal</th>\n",
        "      <th>growl</th>\n",
        "      <td> 1</td>\n",
        "      <td> 1</td>\n",
        "    </tr>\n",
        "    <tr>\n",
        "      <th>scratch</th>\n",
        "      <td> 1</td>\n",
        "      <td> 1</td>\n",
        "    </tr>\n",
        "    <tr>\n",
        "      <th>reptile</th>\n",
        "      <th>bite</th>\n",
        "      <td> 1</td>\n",
        "      <td> 1</td>\n",
        "    </tr>\n",
        "    <tr>\n",
        "      <th>treasure hunter</th>\n",
        "      <th>growl</th>\n",
        "      <td> 1</td>\n",
        "      <td> 1</td>\n",
        "    </tr>\n",
        "  </tbody>\n",
        "</table>\n",
        "</div>"
       ],
       "metadata": {},
       "output_type": "pyout",
       "prompt_number": 64,
       "text": [
        "                          ATTACK 2  HP\n",
        "CLASS           ATTACK 1              \n",
        "aves            scratch          2   2\n",
        "goth girl       scratch          1   1\n",
        "mammal          growl            1   1\n",
        "                scratch          1   1\n",
        "reptile         bite             1   1\n",
        "treasure hunter growl            1   1"
       ]
      }
     ],
     "prompt_number": 64
    },
    {
     "cell_type": "markdown",
     "metadata": {},
     "source": [
      "That's it for today's rinina school."
     ]
    }
   ],
   "metadata": {}
  }
 ]
}