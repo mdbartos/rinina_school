{
 "metadata": {
  "name": "",
  "signature": "sha256:e079e66d46e349164b180e98bd270e7235aea86636dd796f070522bbd2f11556"
 },
 "nbformat": 3,
 "nbformat_minor": 0,
 "worksheets": [
  {
   "cells": [
    {
     "cell_type": "heading",
     "level": 1,
     "metadata": {},
     "source": [
      "Apply and map"
     ]
    },
    {
     "cell_type": "markdown",
     "metadata": {},
     "source": [
      "The apply() and map() methods are used to perform element-wise transformations in a DataFrame or Series:\n",
      "\n",
      "- The apply() method can apply a function to each entry in a DataFrame or Series simultaneously. This is especially useful if you are trying to perform a complicated operation, like integration.\n",
      "\n",
      "\n",
      "- The map() method looks for \"keys\" in a Series and converts them to associated \"values\"."
     ]
    },
    {
     "cell_type": "heading",
     "level": 2,
     "metadata": {},
     "source": [
      "1. Using apply"
     ]
    },
    {
     "cell_type": "markdown",
     "metadata": {},
     "source": [
      "In the following example, we will be working with meteorological data taken at a daily time step.\n",
      "\n",
      "The following dataset lists the year, month and day of the entry in separate columns."
     ]
    },
    {
     "cell_type": "code",
     "collapsed": false,
     "input": [
      "import pandas as pd\n",
      "import numpy as np"
     ],
     "language": "python",
     "metadata": {},
     "outputs": [],
     "prompt_number": 2
    },
    {
     "cell_type": "code",
     "collapsed": false,
     "input": [
      "df = pd.read_csv('https://dl.dropboxusercontent.com/u/14284692/met_data.csv', index_col=0)\n",
      "\n",
      "df.head()"
     ],
     "language": "python",
     "metadata": {},
     "outputs": [
      {
       "html": [
        "<div style=\"max-height:1000px;max-width:1500px;overflow:auto;\">\n",
        "<table border=\"1\" class=\"dataframe\">\n",
        "  <thead>\n",
        "    <tr style=\"text-align: right;\">\n",
        "      <th></th>\n",
        "      <th>year</th>\n",
        "      <th>month</th>\n",
        "      <th>day</th>\n",
        "      <th>precipitation</th>\n",
        "      <th>tmax</th>\n",
        "      <th>tmin</th>\n",
        "      <th>wind_speed</th>\n",
        "    </tr>\n",
        "  </thead>\n",
        "  <tbody>\n",
        "    <tr>\n",
        "      <th>0</th>\n",
        "      <td> 1949</td>\n",
        "      <td> 1</td>\n",
        "      <td> 1</td>\n",
        "      <td> 1.73</td>\n",
        "      <td> 12.07</td>\n",
        "      <td> 3.19</td>\n",
        "      <td> 2.55</td>\n",
        "    </tr>\n",
        "    <tr>\n",
        "      <th>1</th>\n",
        "      <td> 1949</td>\n",
        "      <td> 1</td>\n",
        "      <td> 2</td>\n",
        "      <td> 0.00</td>\n",
        "      <td>  8.26</td>\n",
        "      <td> 1.71</td>\n",
        "      <td> 6.90</td>\n",
        "    </tr>\n",
        "    <tr>\n",
        "      <th>2</th>\n",
        "      <td> 1949</td>\n",
        "      <td> 1</td>\n",
        "      <td> 3</td>\n",
        "      <td> 0.00</td>\n",
        "      <td>  5.99</td>\n",
        "      <td>-4.09</td>\n",
        "      <td> 4.85</td>\n",
        "    </tr>\n",
        "    <tr>\n",
        "      <th>3</th>\n",
        "      <td> 1949</td>\n",
        "      <td> 1</td>\n",
        "      <td> 4</td>\n",
        "      <td> 0.00</td>\n",
        "      <td>  6.55</td>\n",
        "      <td>-4.49</td>\n",
        "      <td> 4.09</td>\n",
        "    </tr>\n",
        "    <tr>\n",
        "      <th>4</th>\n",
        "      <td> 1949</td>\n",
        "      <td> 1</td>\n",
        "      <td> 5</td>\n",
        "      <td> 0.00</td>\n",
        "      <td>  7.23</td>\n",
        "      <td>-6.05</td>\n",
        "      <td> 3.11</td>\n",
        "    </tr>\n",
        "  </tbody>\n",
        "</table>\n",
        "</div>"
       ],
       "metadata": {},
       "output_type": "pyout",
       "prompt_number": 52,
       "text": [
        "   year  month  day  precipitation   tmax  tmin  wind_speed\n",
        "0  1949      1    1           1.73  12.07  3.19        2.55\n",
        "1  1949      1    2           0.00   8.26  1.71        6.90\n",
        "2  1949      1    3           0.00   5.99 -4.09        4.85\n",
        "3  1949      1    4           0.00   6.55 -4.49        4.09\n",
        "4  1949      1    5           0.00   7.23 -6.05        3.11"
       ]
      }
     ],
     "prompt_number": 52
    },
    {
     "cell_type": "markdown",
     "metadata": {},
     "source": [
      "Now let's say we want to convert the 'year', 'month' and 'day' columns into a single date column.\n",
      "\n",
      "How would we do this?\n",
      "\n",
      "Your first guess might be to pass each column to the datetime.date() function, like so:"
     ]
    },
    {
     "cell_type": "heading",
     "level": 3,
     "metadata": {},
     "source": [
      "1.1. Calling a function on a series incurs an error!"
     ]
    },
    {
     "cell_type": "code",
     "collapsed": false,
     "input": [
      "import datetime\n",
      "\n",
      "df['date'] = datetime.date(df['year'], df['month'], df['day'])"
     ],
     "language": "python",
     "metadata": {},
     "outputs": [
      {
       "ename": "TypeError",
       "evalue": "cannot convert the series to <type 'int'>",
       "output_type": "pyerr",
       "traceback": [
        "\u001b[1;31m---------------------------------------------------------------------------\u001b[0m\n\u001b[1;31mTypeError\u001b[0m                                 Traceback (most recent call last)",
        "\u001b[1;32m<ipython-input-14-3b5d91528960>\u001b[0m in \u001b[0;36m<module>\u001b[1;34m()\u001b[0m\n\u001b[0;32m      1\u001b[0m \u001b[1;32mimport\u001b[0m \u001b[0mdatetime\u001b[0m\u001b[1;33m\u001b[0m\u001b[0m\n\u001b[0;32m      2\u001b[0m \u001b[1;33m\u001b[0m\u001b[0m\n\u001b[1;32m----> 3\u001b[1;33m \u001b[0mdf\u001b[0m\u001b[1;33m[\u001b[0m\u001b[1;34m'date'\u001b[0m\u001b[1;33m]\u001b[0m \u001b[1;33m=\u001b[0m \u001b[0mdatetime\u001b[0m\u001b[1;33m.\u001b[0m\u001b[0mdate\u001b[0m\u001b[1;33m(\u001b[0m\u001b[0mdf\u001b[0m\u001b[1;33m[\u001b[0m\u001b[1;34m'year'\u001b[0m\u001b[1;33m]\u001b[0m\u001b[1;33m,\u001b[0m \u001b[0mdf\u001b[0m\u001b[1;33m[\u001b[0m\u001b[1;34m'month'\u001b[0m\u001b[1;33m]\u001b[0m\u001b[1;33m,\u001b[0m \u001b[0mdf\u001b[0m\u001b[1;33m[\u001b[0m\u001b[1;34m'day'\u001b[0m\u001b[1;33m]\u001b[0m\u001b[1;33m)\u001b[0m\u001b[1;33m\u001b[0m\u001b[0m\n\u001b[0m",
        "\u001b[1;32m/usr/local/lib/python2.7/dist-packages/pandas/core/series.pyc\u001b[0m in \u001b[0;36mwrapper\u001b[1;34m(self)\u001b[0m\n\u001b[0;32m     71\u001b[0m             \u001b[1;32mreturn\u001b[0m \u001b[0mconverter\u001b[0m\u001b[1;33m(\u001b[0m\u001b[0mself\u001b[0m\u001b[1;33m.\u001b[0m\u001b[0miloc\u001b[0m\u001b[1;33m[\u001b[0m\u001b[1;36m0\u001b[0m\u001b[1;33m]\u001b[0m\u001b[1;33m)\u001b[0m\u001b[1;33m\u001b[0m\u001b[0m\n\u001b[0;32m     72\u001b[0m         raise TypeError(\n\u001b[1;32m---> 73\u001b[1;33m             \"cannot convert the series to {0}\".format(str(converter)))\n\u001b[0m\u001b[0;32m     74\u001b[0m     \u001b[1;32mreturn\u001b[0m \u001b[0mwrapper\u001b[0m\u001b[1;33m\u001b[0m\u001b[0m\n\u001b[0;32m     75\u001b[0m \u001b[1;33m\u001b[0m\u001b[0m\n",
        "\u001b[1;31mTypeError\u001b[0m: cannot convert the series to <type 'int'>"
       ]
      }
     ],
     "prompt_number": 14
    },
    {
     "cell_type": "heading",
     "level": 3,
     "metadata": {},
     "source": [
      "1.2. What happened?"
     ]
    },
    {
     "cell_type": "markdown",
     "metadata": {},
     "source": [
      "The datetime.date() method requires integer arguments. However, instead of passing integers, we passed Series!\n",
      "\n",
      "In other words, we need a way to apply the datetime.date() function to <b>each element</b> in the Series, rather than to the Series itself.\n",
      "\n",
      "We can accomplish this using the apply() method."
     ]
    },
    {
     "cell_type": "heading",
     "level": 3,
     "metadata": {},
     "source": [
      "1.3. Using \"apply\" on a DataFrame"
     ]
    },
    {
     "cell_type": "code",
     "collapsed": false,
     "input": [
      "df['date'] = df.apply(lambda x: datetime.date(x['year'].astype(int), x['month'].astype(int), x['day'].astype(int)), axis=1)\n",
      "\n",
      "df.head()"
     ],
     "language": "python",
     "metadata": {},
     "outputs": [
      {
       "html": [
        "<div style=\"max-height:1000px;max-width:1500px;overflow:auto;\">\n",
        "<table border=\"1\" class=\"dataframe\">\n",
        "  <thead>\n",
        "    <tr style=\"text-align: right;\">\n",
        "      <th></th>\n",
        "      <th>year</th>\n",
        "      <th>month</th>\n",
        "      <th>day</th>\n",
        "      <th>precipitation</th>\n",
        "      <th>tmax</th>\n",
        "      <th>tmin</th>\n",
        "      <th>wind_speed</th>\n",
        "      <th>date</th>\n",
        "    </tr>\n",
        "  </thead>\n",
        "  <tbody>\n",
        "    <tr>\n",
        "      <th>0</th>\n",
        "      <td> 1949</td>\n",
        "      <td> 1</td>\n",
        "      <td> 1</td>\n",
        "      <td> 1.73</td>\n",
        "      <td> 12.07</td>\n",
        "      <td> 3.19</td>\n",
        "      <td> 2.55</td>\n",
        "      <td> 1949-01-01</td>\n",
        "    </tr>\n",
        "    <tr>\n",
        "      <th>1</th>\n",
        "      <td> 1949</td>\n",
        "      <td> 1</td>\n",
        "      <td> 2</td>\n",
        "      <td> 0.00</td>\n",
        "      <td>  8.26</td>\n",
        "      <td> 1.71</td>\n",
        "      <td> 6.90</td>\n",
        "      <td> 1949-01-02</td>\n",
        "    </tr>\n",
        "    <tr>\n",
        "      <th>2</th>\n",
        "      <td> 1949</td>\n",
        "      <td> 1</td>\n",
        "      <td> 3</td>\n",
        "      <td> 0.00</td>\n",
        "      <td>  5.99</td>\n",
        "      <td>-4.09</td>\n",
        "      <td> 4.85</td>\n",
        "      <td> 1949-01-03</td>\n",
        "    </tr>\n",
        "    <tr>\n",
        "      <th>3</th>\n",
        "      <td> 1949</td>\n",
        "      <td> 1</td>\n",
        "      <td> 4</td>\n",
        "      <td> 0.00</td>\n",
        "      <td>  6.55</td>\n",
        "      <td>-4.49</td>\n",
        "      <td> 4.09</td>\n",
        "      <td> 1949-01-04</td>\n",
        "    </tr>\n",
        "    <tr>\n",
        "      <th>4</th>\n",
        "      <td> 1949</td>\n",
        "      <td> 1</td>\n",
        "      <td> 5</td>\n",
        "      <td> 0.00</td>\n",
        "      <td>  7.23</td>\n",
        "      <td>-6.05</td>\n",
        "      <td> 3.11</td>\n",
        "      <td> 1949-01-05</td>\n",
        "    </tr>\n",
        "  </tbody>\n",
        "</table>\n",
        "</div>"
       ],
       "metadata": {},
       "output_type": "pyout",
       "prompt_number": 53,
       "text": [
        "   year  month  day  precipitation   tmax  tmin  wind_speed        date\n",
        "0  1949      1    1           1.73  12.07  3.19        2.55  1949-01-01\n",
        "1  1949      1    2           0.00   8.26  1.71        6.90  1949-01-02\n",
        "2  1949      1    3           0.00   5.99 -4.09        4.85  1949-01-03\n",
        "3  1949      1    4           0.00   6.55 -4.49        4.09  1949-01-04\n",
        "4  1949      1    5           0.00   7.23 -6.05        3.11  1949-01-05"
       ]
      }
     ],
     "prompt_number": 53
    },
    {
     "cell_type": "heading",
     "level": 3,
     "metadata": {},
     "source": [
      "1.4. Understanding the lambda"
     ]
    },
    {
     "cell_type": "markdown",
     "metadata": {},
     "source": [
      "The lambda notation can be kind of confusing.\n",
      "\n",
      "- When using apply() on a Series, the \"x\" refers to the Series.\n",
      "\n",
      "\n",
      "- When using apply() on a DataFrame, the \"x\" refers to the DataFrame. To refer to a specific column, use the notation x['column']."
     ]
    },
    {
     "cell_type": "heading",
     "level": 3,
     "metadata": {},
     "source": [
      "1.5. Using a def instead of a lambda"
     ]
    },
    {
     "cell_type": "markdown",
     "metadata": {},
     "source": [
      "Mind you, apply() doesn't require you to input a lambda function.\n",
      "\n",
      "Lambdas are often just used out of convenience, because they can be written in a single line.\n",
      "\n",
      "The apply() method can be used with any function.\n",
      "\n",
      "Let's apply the fizzbuzz function to a Series!"
     ]
    },
    {
     "cell_type": "code",
     "collapsed": false,
     "input": [
      "def fizzbuzz(n):\n",
      "    if (n%3 == 0) and (n%5 == 0):\n",
      "        return 'fizzbuzz'\n",
      "    elif n%3 == 0:\n",
      "        return 'fizz'\n",
      "    elif n%5 == 0:\n",
      "        return 'buzz'\n",
      "    else:\n",
      "        return n"
     ],
     "language": "python",
     "metadata": {},
     "outputs": [],
     "prompt_number": 25
    },
    {
     "cell_type": "heading",
     "level": 3,
     "metadata": {},
     "source": [
      "1.5. Applying a pre-defined function to a Series"
     ]
    },
    {
     "cell_type": "code",
     "collapsed": false,
     "input": [
      "s = pd.Series(range(1,31), index=range(1,31))\n",
      "\n",
      "s.apply(fizzbuzz)"
     ],
     "language": "python",
     "metadata": {},
     "outputs": [
      {
       "metadata": {},
       "output_type": "pyout",
       "prompt_number": 26,
       "text": [
        "1            1\n",
        "2            2\n",
        "3         fizz\n",
        "4            4\n",
        "5         buzz\n",
        "6         fizz\n",
        "7            7\n",
        "8            8\n",
        "9         fizz\n",
        "10        buzz\n",
        "11          11\n",
        "12        fizz\n",
        "13          13\n",
        "14          14\n",
        "15    fizzbuzz\n",
        "16          16\n",
        "17          17\n",
        "18        fizz\n",
        "19          19\n",
        "20        buzz\n",
        "21        fizz\n",
        "22          22\n",
        "23          23\n",
        "24        fizz\n",
        "25        buzz\n",
        "26          26\n",
        "27        fizz\n",
        "28          28\n",
        "29          29\n",
        "30    fizzbuzz\n",
        "dtype: object"
       ]
      }
     ],
     "prompt_number": 26
    },
    {
     "cell_type": "heading",
     "level": 3,
     "metadata": {},
     "source": [
      "1.6. Vectorizing can save you time!"
     ]
    },
    {
     "cell_type": "markdown",
     "metadata": {},
     "source": [
      "Now, you might be wondering: why bother using apply() when you can just use a list comprehension to get the same result?\n",
      "\n",
      "The answer is speed!\n",
      "\n",
      "- The apply() method is vectorized, meaning that it applies the operation to every element in the array <b>simultaneously</b>.\n",
      "\n",
      "- A list comprehension (a cousin of the \"for\" loop) applies the operation to every element <b>sequentially</b>.\n",
      "\n",
      "In some applications, vectorization can increase performance by several orders of magnitude.\n",
      "\n",
      "Let's test out how our original apply() function compares to a list comprehension."
     ]
    },
    {
     "cell_type": "code",
     "collapsed": false,
     "input": [
      "df = pd.read_csv('https://dl.dropboxusercontent.com/u/14284692/met_data.csv', index_col=0)"
     ],
     "language": "python",
     "metadata": {},
     "outputs": [],
     "prompt_number": 48
    },
    {
     "cell_type": "heading",
     "level": 4,
     "metadata": {},
     "source": [
      "Vectorized apply()"
     ]
    },
    {
     "cell_type": "code",
     "collapsed": false,
     "input": [
      "%%timeit\n",
      "\n",
      "df.apply(lambda x: datetime.date(x['year'].astype(int), x['month'].astype(int), x['day'].astype(int)), axis=1)"
     ],
     "language": "python",
     "metadata": {},
     "outputs": [
      {
       "output_type": "stream",
       "stream": "stdout",
       "text": [
        "1 loops, best of 3: 440 ms per loop\n"
       ]
      }
     ],
     "prompt_number": 21
    },
    {
     "cell_type": "heading",
     "level": 4,
     "metadata": {},
     "source": [
      "List comprehension"
     ]
    },
    {
     "cell_type": "code",
     "collapsed": false,
     "input": [
      "%%timeit\n",
      "\n",
      "[datetime.date(int(df.loc[i,'year']), int(df.loc[i,'month']), int(df.loc[i,'day'])) for i in df.index]"
     ],
     "language": "python",
     "metadata": {},
     "outputs": [
      {
       "output_type": "stream",
       "stream": "stdout",
       "text": [
        "1 loops, best of 3: 8.35 s per loop\n"
       ]
      }
     ],
     "prompt_number": 22
    },
    {
     "cell_type": "heading",
     "level": 4,
     "metadata": {},
     "source": [
      "For this application, apply() is almost 20x faster!"
     ]
    },
    {
     "cell_type": "code",
     "collapsed": false,
     "input": [
      "(8.35*1000)/440"
     ],
     "language": "python",
     "metadata": {},
     "outputs": [
      {
       "metadata": {},
       "output_type": "pyout",
       "prompt_number": 23,
       "text": [
        "18.977272727272727"
       ]
      }
     ],
     "prompt_number": 23
    },
    {
     "cell_type": "markdown",
     "metadata": {},
     "source": [
      "The apply() method will often give you better performance when dealing with large datasets and complicated transformations (for instance, taking the integral of a Series).\n",
      "\n",
      "However, for small datasets and trivial transformations, the benefits of vectorization will be diminished. In some cases a list comprehension will give you better performance.\n",
      "\n",
      "Use your best judgement when deciding how to transform data."
     ]
    },
    {
     "cell_type": "heading",
     "level": 2,
     "metadata": {},
     "source": [
      "2. \"Map\" converts keys to values"
     ]
    },
    {
     "cell_type": "markdown",
     "metadata": {},
     "source": [
      "The map() method is similar to apply().\n",
      "\n",
      "Where apply() applies an arbitrary function to a Series or DataFrame, map() looks for specific values in a Series and converts them into a different set of values.\n",
      "\n",
      "In other words, map() looks for a set of \"keys\" and converts them to the \"values\" associated with those keys."
     ]
    },
    {
     "cell_type": "heading",
     "level": 3,
     "metadata": {},
     "source": [
      "2.1. Using \"map\" to convert months from numeric to abbreviated form"
     ]
    },
    {
     "cell_type": "markdown",
     "metadata": {},
     "source": [
      "Let's say we want the abbreviated form of each month from January to December.\n",
      "\n",
      "However, all we have is the numeric form from 1 to 12."
     ]
    },
    {
     "cell_type": "code",
     "collapsed": false,
     "input": [
      "df.head()"
     ],
     "language": "python",
     "metadata": {},
     "outputs": [
      {
       "html": [
        "<div style=\"max-height:1000px;max-width:1500px;overflow:auto;\">\n",
        "<table border=\"1\" class=\"dataframe\">\n",
        "  <thead>\n",
        "    <tr style=\"text-align: right;\">\n",
        "      <th></th>\n",
        "      <th>year</th>\n",
        "      <th>month</th>\n",
        "      <th>day</th>\n",
        "      <th>precipitation</th>\n",
        "      <th>tmax</th>\n",
        "      <th>tmin</th>\n",
        "      <th>wind_speed</th>\n",
        "    </tr>\n",
        "  </thead>\n",
        "  <tbody>\n",
        "    <tr>\n",
        "      <th>0</th>\n",
        "      <td> 1949</td>\n",
        "      <td> 1</td>\n",
        "      <td> 1</td>\n",
        "      <td> 1.73</td>\n",
        "      <td> 12.07</td>\n",
        "      <td> 3.19</td>\n",
        "      <td> 2.55</td>\n",
        "    </tr>\n",
        "    <tr>\n",
        "      <th>1</th>\n",
        "      <td> 1949</td>\n",
        "      <td> 1</td>\n",
        "      <td> 2</td>\n",
        "      <td> 0.00</td>\n",
        "      <td>  8.26</td>\n",
        "      <td> 1.71</td>\n",
        "      <td> 6.90</td>\n",
        "    </tr>\n",
        "    <tr>\n",
        "      <th>2</th>\n",
        "      <td> 1949</td>\n",
        "      <td> 1</td>\n",
        "      <td> 3</td>\n",
        "      <td> 0.00</td>\n",
        "      <td>  5.99</td>\n",
        "      <td>-4.09</td>\n",
        "      <td> 4.85</td>\n",
        "    </tr>\n",
        "    <tr>\n",
        "      <th>3</th>\n",
        "      <td> 1949</td>\n",
        "      <td> 1</td>\n",
        "      <td> 4</td>\n",
        "      <td> 0.00</td>\n",
        "      <td>  6.55</td>\n",
        "      <td>-4.49</td>\n",
        "      <td> 4.09</td>\n",
        "    </tr>\n",
        "    <tr>\n",
        "      <th>4</th>\n",
        "      <td> 1949</td>\n",
        "      <td> 1</td>\n",
        "      <td> 5</td>\n",
        "      <td> 0.00</td>\n",
        "      <td>  7.23</td>\n",
        "      <td>-6.05</td>\n",
        "      <td> 3.11</td>\n",
        "    </tr>\n",
        "  </tbody>\n",
        "</table>\n",
        "</div>"
       ],
       "metadata": {},
       "output_type": "pyout",
       "prompt_number": 49,
       "text": [
        "   year  month  day  precipitation   tmax  tmin  wind_speed\n",
        "0  1949      1    1           1.73  12.07  3.19        2.55\n",
        "1  1949      1    2           0.00   8.26  1.71        6.90\n",
        "2  1949      1    3           0.00   5.99 -4.09        4.85\n",
        "3  1949      1    4           0.00   6.55 -4.49        4.09\n",
        "4  1949      1    5           0.00   7.23 -6.05        3.11"
       ]
      }
     ],
     "prompt_number": 49
    },
    {
     "cell_type": "markdown",
     "metadata": {},
     "source": [
      "We can use the map() function to \"map\" a series of abbreviations onto the numeric 'month' column.\n",
      "\n",
      "First, let's create a series of abbreviated month names with the numeric month as the index."
     ]
    },
    {
     "cell_type": "code",
     "collapsed": false,
     "input": [
      "month_names = pd.Series(['Jan', 'Feb', 'Mar', 'Apr', 'May', 'Jun', 'Jul', 'Aug', 'Sep', 'Oct', 'Nov', 'Dec'], index=range(1,13))\n",
      "\n",
      "month_names"
     ],
     "language": "python",
     "metadata": {},
     "outputs": [
      {
       "metadata": {},
       "output_type": "pyout",
       "prompt_number": 31,
       "text": [
        "1     Jan\n",
        "2     Feb\n",
        "3     Mar\n",
        "4     Apr\n",
        "5     May\n",
        "6     Jun\n",
        "7     Jul\n",
        "8     Aug\n",
        "9     Sep\n",
        "10    Oct\n",
        "11    Nov\n",
        "12    Dec\n",
        "dtype: object"
       ]
      }
     ],
     "prompt_number": 31
    },
    {
     "cell_type": "markdown",
     "metadata": {},
     "source": [
      "Now we can \"map\" this series to the original 'month' column to create a column of month abbreviations."
     ]
    },
    {
     "cell_type": "code",
     "collapsed": false,
     "input": [
      "df['month_name'] = df['month'].map(month_names)\n",
      "\n",
      "print df.head()\n",
      "print '\\n'\n",
      "print df.tail()"
     ],
     "language": "python",
     "metadata": {},
     "outputs": [
      {
       "output_type": "stream",
       "stream": "stdout",
       "text": [
        "   year  month  day  precipitation   tmax  tmin  wind_speed month_name\n",
        "0  1949      1    1           1.73  12.07  3.19        2.55        Jan\n",
        "1  1949      1    2           0.00   8.26  1.71        6.90        Jan\n",
        "2  1949      1    3           0.00   5.99 -4.09        4.85        Jan\n",
        "3  1949      1    4           0.00   6.55 -4.49        4.09        Jan\n",
        "4  1949      1    5           0.00   7.23 -6.05        3.11        Jan\n",
        "\n",
        "\n",
        "       year  month  day  precipitation   tmax  tmin  wind_speed month_name\n",
        "22640  2010     12   27           7.12  12.90  2.85        3.85        Dec\n",
        "22641  2010     12   28           7.15  11.93  4.16        2.07        Dec\n",
        "22642  2010     12   29           3.55  13.10  5.71        4.87        Dec\n",
        "22643  2010     12   30           0.00   9.45  0.81        7.61        Dec\n",
        "22644  2010     12   31           0.00   9.34 -1.39        2.16        Dec\n"
       ]
      }
     ],
     "prompt_number": 41
    },
    {
     "cell_type": "heading",
     "level": 3,
     "metadata": {},
     "source": [
      "2.2. You can also use \"map\" with a dict of key-value pairs"
     ]
    },
    {
     "cell_type": "code",
     "collapsed": false,
     "input": [
      "d = month_names.to_dict()\n",
      "\n",
      "d"
     ],
     "language": "python",
     "metadata": {},
     "outputs": [
      {
       "metadata": {},
       "output_type": "pyout",
       "prompt_number": 44,
       "text": [
        "{1: 'Jan',\n",
        " 2: 'Feb',\n",
        " 3: 'Mar',\n",
        " 4: 'Apr',\n",
        " 5: 'May',\n",
        " 6: 'Jun',\n",
        " 7: 'Jul',\n",
        " 8: 'Aug',\n",
        " 9: 'Sep',\n",
        " 10: 'Oct',\n",
        " 11: 'Nov',\n",
        " 12: 'Dec'}"
       ]
      }
     ],
     "prompt_number": 44
    },
    {
     "cell_type": "code",
     "collapsed": false,
     "input": [
      "df['month_name'] = df['month'].map(d)\n",
      "\n",
      "print df.head()\n",
      "print '\\n'\n",
      "print df.tail()"
     ],
     "language": "python",
     "metadata": {},
     "outputs": [
      {
       "output_type": "stream",
       "stream": "stdout",
       "text": [
        "   year  month  day  precipitation   tmax  tmin  wind_speed month_name\n",
        "0  1949      1    1           1.73  12.07  3.19        2.55        Jan\n",
        "1  1949      1    2           0.00   8.26  1.71        6.90        Jan\n",
        "2  1949      1    3           0.00   5.99 -4.09        4.85        Jan\n",
        "3  1949      1    4           0.00   6.55 -4.49        4.09        Jan\n",
        "4  1949      1    5           0.00   7.23 -6.05        3.11        Jan\n",
        "\n",
        "\n",
        "       year  month  day  precipitation   tmax  tmin  wind_speed month_name\n",
        "22640  2010     12   27           7.12  12.90  2.85        3.85        Dec\n",
        "22641  2010     12   28           7.15  11.93  4.16        2.07        Dec\n",
        "22642  2010     12   29           3.55  13.10  5.71        4.87        Dec\n",
        "22643  2010     12   30           0.00   9.45  0.81        7.61        Dec\n",
        "22644  2010     12   31           0.00   9.34 -1.39        2.16        Dec\n"
       ]
      }
     ],
     "prompt_number": 46
    },
    {
     "cell_type": "code",
     "collapsed": false,
     "input": [],
     "language": "python",
     "metadata": {},
     "outputs": []
    }
   ],
   "metadata": {}
  }
 ]
}