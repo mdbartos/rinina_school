{
 "metadata": {
  "name": "",
  "signature": "sha256:c9f2d752bfeb3dadfd1ef6e3822803b0ab040ba3b72238200b6ec8307d804f99"
 },
 "nbformat": 3,
 "nbformat_minor": 0,
 "worksheets": [
  {
   "cells": [
    {
     "cell_type": "markdown",
     "metadata": {},
     "source": [
      "Dropping unwanted values (like duplicates)"
     ]
    },
    {
     "cell_type": "code",
     "collapsed": false,
     "input": [
      "Oh no! Now we have too many 69's. We can call the drop_duplicates method to get rid of the extra 69's:"
     ],
     "language": "python",
     "metadata": {},
     "outputs": []
    },
    {
     "cell_type": "code",
     "collapsed": false,
     "input": [
      "df.drop_duplicates(subset=['col_1']) #Drops rows containing values that appear more than once in 'col_1'. This can be very useful for columns containing id codes."
     ],
     "language": "python",
     "metadata": {},
     "outputs": [
      {
       "ename": "NameError",
       "evalue": "name 'df' is not defined",
       "output_type": "pyerr",
       "traceback": [
        "\u001b[1;31m---------------------------------------------------------------------------\u001b[0m\n\u001b[1;31mNameError\u001b[0m                                 Traceback (most recent call last)",
        "\u001b[1;32m<ipython-input-1-dbb7d1419b4c>\u001b[0m in \u001b[0;36m<module>\u001b[1;34m()\u001b[0m\n\u001b[1;32m----> 1\u001b[1;33m \u001b[0mdf\u001b[0m\u001b[1;33m.\u001b[0m\u001b[0mdrop_duplicates\u001b[0m\u001b[1;33m(\u001b[0m\u001b[0msubset\u001b[0m\u001b[1;33m=\u001b[0m\u001b[1;33m[\u001b[0m\u001b[1;34m'col_1'\u001b[0m\u001b[1;33m]\u001b[0m\u001b[1;33m)\u001b[0m \u001b[1;31m#Drops rows containing values that appear more than once in 'col_1'. This can be very useful for columns containing id codes.\u001b[0m\u001b[1;33m\u001b[0m\u001b[0m\n\u001b[0m",
        "\u001b[1;31mNameError\u001b[0m: name 'df' is not defined"
       ]
      }
     ],
     "prompt_number": 1
    },
    {
     "cell_type": "code",
     "collapsed": false,
     "input": [
      "Notice that this leaves the first 69 intact. Set the \"take_last\" keyword argument to keep the last 69 instead."
     ],
     "language": "python",
     "metadata": {},
     "outputs": []
    },
    {
     "cell_type": "code",
     "collapsed": false,
     "input": [
      "df.drop_duplicates(subset=['col_1'], take_last=True)"
     ],
     "language": "python",
     "metadata": {},
     "outputs": [
      {
       "ename": "NameError",
       "evalue": "name 'df' is not defined",
       "output_type": "pyerr",
       "traceback": [
        "\u001b[1;31m---------------------------------------------------------------------------\u001b[0m\n\u001b[1;31mNameError\u001b[0m                                 Traceback (most recent call last)",
        "\u001b[1;32m<ipython-input-2-c62eb916ab97>\u001b[0m in \u001b[0;36m<module>\u001b[1;34m()\u001b[0m\n\u001b[1;32m----> 1\u001b[1;33m \u001b[0mdf\u001b[0m\u001b[1;33m.\u001b[0m\u001b[0mdrop_duplicates\u001b[0m\u001b[1;33m(\u001b[0m\u001b[0msubset\u001b[0m\u001b[1;33m=\u001b[0m\u001b[1;33m[\u001b[0m\u001b[1;34m'col_1'\u001b[0m\u001b[1;33m]\u001b[0m\u001b[1;33m,\u001b[0m \u001b[0mtake_last\u001b[0m\u001b[1;33m=\u001b[0m\u001b[0mTrue\u001b[0m\u001b[1;33m)\u001b[0m\u001b[1;33m\u001b[0m\u001b[0m\n\u001b[0m",
        "\u001b[1;31mNameError\u001b[0m: name 'df' is not defined"
       ]
      }
     ],
     "prompt_number": 2
    },
    {
     "cell_type": "code",
     "collapsed": false,
     "input": [
      "Let's say we really like the number 69. We can instead choose to drop every row that DOESN'T contain a 69 in 'col_1'. To do this, we pass the index labels we want to drop into the .drop() method.\n",
      "\n",
      "First, let's select all the entries that aren't 69."
     ],
     "language": "python",
     "metadata": {},
     "outputs": []
    },
    {
     "cell_type": "code",
     "collapsed": false,
     "input": [
      "bad_numbers = df.loc[df['col_1'] != 69]\n",
      "\n",
      "index_labels_we_want_to_drop = bad_numbers.index\n",
      "\n",
      "df.drop(index_labels_we_want_to_drop)\n",
      "\n",
      "#If you want to make the change permanent, use df = df.drop(index_labels_we_want_to_drop)"
     ],
     "language": "python",
     "metadata": {},
     "outputs": []
    },
    {
     "cell_type": "code",
     "collapsed": false,
     "input": [
      "Okays! Now that we've got a handle on indexing data, let's try doing some basic operations on a DataFrame:"
     ],
     "language": "python",
     "metadata": {},
     "outputs": []
    },
    {
     "cell_type": "code",
     "collapsed": false,
     "input": [
      "Basic DataFrame Operations"
     ],
     "language": "python",
     "metadata": {},
     "outputs": []
    },
    {
     "cell_type": "code",
     "collapsed": false,
     "input": [
      "First, let's make an empty DataFrame and set it to the variable 'df'"
     ],
     "language": "python",
     "metadata": {},
     "outputs": []
    },
    {
     "cell_type": "code",
     "collapsed": false,
     "input": [
      "df = pd.DataFrame()"
     ],
     "language": "python",
     "metadata": {},
     "outputs": []
    },
    {
     "cell_type": "code",
     "collapsed": false,
     "input": [
      "#Now, let's add some columns:\n",
      "\n",
      "df['col_1'] = range(20)\n",
      "\n",
      "df['col_2'] = [i**2 for i in df['col_1']]\n",
      "\n",
      "#Let's make some calculated columns as well:\n",
      "\n",
      "df['col_3'] = df['col_2'] - df['col_1']**1.5\n",
      "\n",
      "df['col_4'] = df['col_3'] + 69\n",
      "\n",
      "df['col_5'] = df['col_1'].cumsum() #Gives you a column representing the cumsum of 'col_1'"
     ],
     "language": "python",
     "metadata": {},
     "outputs": []
    },
    {
     "cell_type": "code",
     "collapsed": false,
     "input": [
      "Let's try getting the sum of the columns/rows, just like in excel:"
     ],
     "language": "python",
     "metadata": {},
     "outputs": []
    },
    {
     "cell_type": "code",
     "collapsed": false,
     "input": [
      "df.sum(axis=0) #Will give you the sum of each column (i.e. from top to bottom)"
     ],
     "language": "python",
     "metadata": {},
     "outputs": []
    },
    {
     "cell_type": "code",
     "collapsed": false,
     "input": [
      "df.sum(axis=1) #Will give you the sum of each row (i.e. from left to right)"
     ],
     "language": "python",
     "metadata": {},
     "outputs": []
    },
    {
     "cell_type": "code",
     "collapsed": false,
     "input": [
      "Try playing around with df.mean(), df.median(), df.mode(), df.max(), df.min(), df.quantile(), etc."
     ],
     "language": "python",
     "metadata": {},
     "outputs": []
    },
    {
     "cell_type": "code",
     "collapsed": false,
     "input": [
      "That's all for this lesson! Next time we'll learn how to read data from files, and we'll also learn how to do some basic database operations."
     ],
     "language": "python",
     "metadata": {},
     "outputs": []
    }
   ],
   "metadata": {}
  }
 ]
}