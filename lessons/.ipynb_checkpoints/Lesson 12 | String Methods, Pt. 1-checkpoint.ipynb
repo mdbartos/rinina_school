{
 "metadata": {
  "name": "",
  "signature": "sha256:d29652086e36d4e002f9663cb5f4f098820635063c504c98244b1ee5c427d0b6"
 },
 "nbformat": 3,
 "nbformat_minor": 0,
 "worksheets": [
  {
   "cells": [
    {
     "cell_type": "heading",
     "level": 1,
     "metadata": {},
     "source": [
      "Lesson 12: String methods, Pt. 1"
     ]
    },
    {
     "cell_type": "markdown",
     "metadata": {},
     "source": [
      ".................................................................................................................................\n",
      "Topics\n",
      "-----------------------------------------\n",
      "\n",
      "\n",
      "1. Lower and upper\n",
      "\n",
      "2. Split and combine\n",
      "\n",
      "3. Whitespace and padding\n",
      "\n",
      "4. Find and replace\n",
      "\n",
      "................................................................................................................................."
     ]
    },
    {
     "cell_type": "markdown",
     "metadata": {},
     "source": [
      "In this tutorial we will be using some basic string methods to transform, format, search, and replace strings inside a dataframe.\n",
      "\n",
      "We will be applying our string methods to some sample addresses, as shown below."
     ]
    },
    {
     "cell_type": "code",
     "collapsed": false,
     "input": [
      "import pandas as pd\n",
      "import numpy as np\n",
      "\n",
      "df = pd.read_csv('/home/akagi/Desktop/assessor/ex/target_df', index_col=0).reset_index()\n",
      "del df['FID_1.1']\n",
      "df.head()"
     ],
     "language": "python",
     "metadata": {},
     "outputs": [
      {
       "html": [
        "<div style=\"max-height:1000px;max-width:1500px;overflow:auto;\">\n",
        "<table border=\"1\" class=\"dataframe\">\n",
        "  <thead>\n",
        "    <tr style=\"text-align: right;\">\n",
        "      <th></th>\n",
        "      <th>FID_1</th>\n",
        "      <th>SITE_ADDR</th>\n",
        "      <th>S_ZIP</th>\n",
        "      <th>SNUM</th>\n",
        "      <th>DIR</th>\n",
        "      <th>STREET</th>\n",
        "      <th>STYPE</th>\n",
        "    </tr>\n",
        "  </thead>\n",
        "  <tbody>\n",
        "    <tr>\n",
        "      <th>0</th>\n",
        "      <td> 15</td>\n",
        "      <td>              12884 N 136TH ST</td>\n",
        "      <td> 85260</td>\n",
        "      <td> 12884</td>\n",
        "      <td> N</td>\n",
        "      <td>       136TH</td>\n",
        "      <td>   ST</td>\n",
        "    </tr>\n",
        "    <tr>\n",
        "      <th>1</th>\n",
        "      <td> 17</td>\n",
        "      <td> 11596 W SIERRA DAWN BOULEVARD</td>\n",
        "      <td> 85374</td>\n",
        "      <td> 11596</td>\n",
        "      <td> W</td>\n",
        "      <td> SIERRA DAWN</td>\n",
        "      <td> BLVD</td>\n",
        "    </tr>\n",
        "    <tr>\n",
        "      <th>2</th>\n",
        "      <td> 22</td>\n",
        "      <td>            5947 W HEDGEHOG PL</td>\n",
        "      <td> 85085</td>\n",
        "      <td>  5947</td>\n",
        "      <td> W</td>\n",
        "      <td>    HEDGEHOG</td>\n",
        "      <td>   PL</td>\n",
        "    </tr>\n",
        "    <tr>\n",
        "      <th>3</th>\n",
        "      <td> 31</td>\n",
        "      <td>        7234 E CAVE CREEK ROAD</td>\n",
        "      <td> 85377</td>\n",
        "      <td>  7234</td>\n",
        "      <td> E</td>\n",
        "      <td>  CAVE CREEK</td>\n",
        "      <td>   RD</td>\n",
        "    </tr>\n",
        "    <tr>\n",
        "      <th>4</th>\n",
        "      <td> 36</td>\n",
        "      <td>                 8825 S 7TH ST</td>\n",
        "      <td> 85040</td>\n",
        "      <td>  8825</td>\n",
        "      <td> S</td>\n",
        "      <td>         7TH</td>\n",
        "      <td>   ST</td>\n",
        "    </tr>\n",
        "  </tbody>\n",
        "</table>\n",
        "</div>"
       ],
       "metadata": {},
       "output_type": "pyout",
       "prompt_number": 3,
       "text": [
        "   FID_1                      SITE_ADDR  S_ZIP   SNUM DIR       STREET STYPE\n",
        "0     15               12884 N 136TH ST  85260  12884   N        136TH    ST\n",
        "1     17  11596 W SIERRA DAWN BOULEVARD  85374  11596   W  SIERRA DAWN  BLVD\n",
        "2     22             5947 W HEDGEHOG PL  85085   5947   W     HEDGEHOG    PL\n",
        "3     31         7234 E CAVE CREEK ROAD  85377   7234   E   CAVE CREEK    RD\n",
        "4     36                  8825 S 7TH ST  85040   8825   S          7TH    ST"
       ]
      }
     ],
     "prompt_number": 3
    },
    {
     "cell_type": "heading",
     "level": 1,
     "metadata": {},
     "source": [
      "1. Lower and Upper"
     ]
    },
    {
     "cell_type": "heading",
     "level": 2,
     "metadata": {},
     "source": [
      "1.1. Convert all text to lowercase with str.lower()"
     ]
    },
    {
     "cell_type": "code",
     "collapsed": false,
     "input": [
      "lower = df['SITE_ADDR'].str.lower()\n",
      "\n",
      "lower.head()"
     ],
     "language": "python",
     "metadata": {},
     "outputs": [
      {
       "metadata": {},
       "output_type": "pyout",
       "prompt_number": 4,
       "text": [
        "0                 12884 n 136th st\n",
        "1    11596 w sierra dawn boulevard\n",
        "2               5947 w hedgehog pl\n",
        "3           7234 e cave creek road\n",
        "4                    8825 s 7th st\n",
        "Name: SITE_ADDR, dtype: object"
       ]
      }
     ],
     "prompt_number": 4
    },
    {
     "cell_type": "heading",
     "level": 2,
     "metadata": {},
     "source": [
      "1.2. Convert all text to uppercase with str.upper()"
     ]
    },
    {
     "cell_type": "code",
     "collapsed": false,
     "input": [
      "upper = lower.str.upper()\n",
      "\n",
      "upper.head()"
     ],
     "language": "python",
     "metadata": {},
     "outputs": [
      {
       "metadata": {},
       "output_type": "pyout",
       "prompt_number": 5,
       "text": [
        "0                 12884 N 136TH ST\n",
        "1    11596 W SIERRA DAWN BOULEVARD\n",
        "2               5947 W HEDGEHOG PL\n",
        "3           7234 E CAVE CREEK ROAD\n",
        "4                    8825 S 7TH ST\n",
        "Name: SITE_ADDR, dtype: object"
       ]
      }
     ],
     "prompt_number": 5
    },
    {
     "cell_type": "heading",
     "level": 1,
     "metadata": {},
     "source": [
      "2. Splitting and Combining Strings"
     ]
    },
    {
     "cell_type": "heading",
     "level": 2,
     "metadata": {},
     "source": [
      "2.1. The str.len() method gives you the number of characters in each string"
     ]
    },
    {
     "cell_type": "code",
     "collapsed": false,
     "input": [
      "str_len = df['SITE_ADDR'].str.len()\n",
      "\n",
      "str_len.head()"
     ],
     "language": "python",
     "metadata": {},
     "outputs": [
      {
       "metadata": {},
       "output_type": "pyout",
       "prompt_number": 6,
       "text": [
        "0    16\n",
        "1    29\n",
        "2    18\n",
        "3    22\n",
        "4    13\n",
        "Name: SITE_ADDR, dtype: int64"
       ]
      }
     ],
     "prompt_number": 6
    },
    {
     "cell_type": "heading",
     "level": 2,
     "metadata": {},
     "source": [
      "2.2. The str.split() method splits each string based on a delimiter"
     ]
    },
    {
     "cell_type": "heading",
     "level": 4,
     "metadata": {},
     "source": [
      "By default, the split method uses whitespace as the delimiter."
     ]
    },
    {
     "cell_type": "code",
     "collapsed": false,
     "input": [
      "str_split = df['SITE_ADDR'].str.split()\n",
      "\n",
      "str_split.head()"
     ],
     "language": "python",
     "metadata": {},
     "outputs": [
      {
       "metadata": {},
       "output_type": "pyout",
       "prompt_number": 7,
       "text": [
        "0                  [12884, N, 136TH, ST]\n",
        "1    [11596, W, SIERRA, DAWN, BOULEVARD]\n",
        "2                [5947, W, HEDGEHOG, PL]\n",
        "3           [7234, E, CAVE, CREEK, ROAD]\n",
        "4                     [8825, S, 7TH, ST]\n",
        "Name: SITE_ADDR, dtype: object"
       ]
      }
     ],
     "prompt_number": 7
    },
    {
     "cell_type": "heading",
     "level": 4,
     "metadata": {},
     "source": [
      "You can expand these split lists into a dataframe like so:"
     ]
    },
    {
     "cell_type": "code",
     "collapsed": false,
     "input": [
      "str_split_series = str_split.apply(pd.Series)\n",
      "\n",
      "str_split_series.head()"
     ],
     "language": "python",
     "metadata": {},
     "outputs": [
      {
       "html": [
        "<div style=\"max-height:1000px;max-width:1500px;overflow:auto;\">\n",
        "<table border=\"1\" class=\"dataframe\">\n",
        "  <thead>\n",
        "    <tr style=\"text-align: right;\">\n",
        "      <th></th>\n",
        "      <th>0</th>\n",
        "      <th>1</th>\n",
        "      <th>2</th>\n",
        "      <th>3</th>\n",
        "      <th>4</th>\n",
        "      <th>5</th>\n",
        "    </tr>\n",
        "  </thead>\n",
        "  <tbody>\n",
        "    <tr>\n",
        "      <th>0</th>\n",
        "      <td> 12884</td>\n",
        "      <td> N</td>\n",
        "      <td>    136TH</td>\n",
        "      <td>    ST</td>\n",
        "      <td>       NaN</td>\n",
        "      <td> NaN</td>\n",
        "    </tr>\n",
        "    <tr>\n",
        "      <th>1</th>\n",
        "      <td> 11596</td>\n",
        "      <td> W</td>\n",
        "      <td>   SIERRA</td>\n",
        "      <td>  DAWN</td>\n",
        "      <td> BOULEVARD</td>\n",
        "      <td> NaN</td>\n",
        "    </tr>\n",
        "    <tr>\n",
        "      <th>2</th>\n",
        "      <td>  5947</td>\n",
        "      <td> W</td>\n",
        "      <td> HEDGEHOG</td>\n",
        "      <td>    PL</td>\n",
        "      <td>       NaN</td>\n",
        "      <td> NaN</td>\n",
        "    </tr>\n",
        "    <tr>\n",
        "      <th>3</th>\n",
        "      <td>  7234</td>\n",
        "      <td> E</td>\n",
        "      <td>     CAVE</td>\n",
        "      <td> CREEK</td>\n",
        "      <td>      ROAD</td>\n",
        "      <td> NaN</td>\n",
        "    </tr>\n",
        "    <tr>\n",
        "      <th>4</th>\n",
        "      <td>  8825</td>\n",
        "      <td> S</td>\n",
        "      <td>      7TH</td>\n",
        "      <td>    ST</td>\n",
        "      <td>       NaN</td>\n",
        "      <td> NaN</td>\n",
        "    </tr>\n",
        "  </tbody>\n",
        "</table>\n",
        "</div>"
       ],
       "metadata": {},
       "output_type": "pyout",
       "prompt_number": 10,
       "text": [
        "       0  1         2      3          4    5\n",
        "0  12884  N     136TH     ST        NaN  NaN\n",
        "1  11596  W    SIERRA   DAWN  BOULEVARD  NaN\n",
        "2   5947  W  HEDGEHOG     PL        NaN  NaN\n",
        "3   7234  E      CAVE  CREEK       ROAD  NaN\n",
        "4   8825  S       7TH     ST        NaN  NaN"
       ]
      }
     ],
     "prompt_number": 10
    },
    {
     "cell_type": "heading",
     "level": 4,
     "metadata": {},
     "source": [
      "You can access the entries in each list by their list index:"
     ]
    },
    {
     "cell_type": "code",
     "collapsed": false,
     "input": [
      "str_split.str[2].head()"
     ],
     "language": "python",
     "metadata": {},
     "outputs": [
      {
       "metadata": {},
       "output_type": "pyout",
       "prompt_number": 23,
       "text": [
        "0       136TH\n",
        "1      SIERRA\n",
        "2    HEDGEHOG\n",
        "3        CAVE\n",
        "4         7TH\n",
        "Name: SITE_ADDR, dtype: object"
       ]
      }
     ],
     "prompt_number": 23
    },
    {
     "cell_type": "heading",
     "level": 4,
     "metadata": {},
     "source": [
      "Get the number of words in each entry:"
     ]
    },
    {
     "cell_type": "code",
     "collapsed": false,
     "input": [
      "number_of_words = str_split.str.len()\n",
      "\n",
      "number_of_words.head()"
     ],
     "language": "python",
     "metadata": {},
     "outputs": [
      {
       "metadata": {},
       "output_type": "pyout",
       "prompt_number": 28,
       "text": [
        "0    4\n",
        "1    5\n",
        "2    4\n",
        "3    5\n",
        "4    4\n",
        "Name: SITE_ADDR, dtype: int64"
       ]
      }
     ],
     "prompt_number": 28
    },
    {
     "cell_type": "heading",
     "level": 2,
     "metadata": {},
     "source": [
      "2.3. Use str.join() to combine elements in a series using a delimiter"
     ]
    },
    {
     "cell_type": "code",
     "collapsed": false,
     "input": [
      "str_join = str_split.str.join('_')\n",
      "\n",
      "str_join.head()"
     ],
     "language": "python",
     "metadata": {},
     "outputs": [
      {
       "metadata": {},
       "output_type": "pyout",
       "prompt_number": 32,
       "text": [
        "0                 12884_N_136TH_ST\n",
        "1    11596_W_SIERRA_DAWN_BOULEVARD\n",
        "2               5947_W_HEDGEHOG_PL\n",
        "3           7234_E_CAVE_CREEK_ROAD\n",
        "4                    8825_S_7TH_ST\n",
        "Name: SITE_ADDR, dtype: object"
       ]
      }
     ],
     "prompt_number": 32
    },
    {
     "cell_type": "heading",
     "level": 2,
     "metadata": {},
     "source": [
      "2.4. Use str.cat() to join strings from multiple series into a single series"
     ]
    },
    {
     "cell_type": "code",
     "collapsed": false,
     "input": [
      "str_cat = df['STREET'].str.cat(df['STYPE'], sep=' ')\n",
      "\n",
      "str_cat.head()"
     ],
     "language": "python",
     "metadata": {},
     "outputs": [
      {
       "metadata": {},
       "output_type": "pyout",
       "prompt_number": 38,
       "text": [
        "0            136TH ST\n",
        "1    SIERRA DAWN BLVD\n",
        "2         HEDGEHOG PL\n",
        "3       CAVE CREEK RD\n",
        "4              7TH ST\n",
        "Name: STREET, dtype: object"
       ]
      }
     ],
     "prompt_number": 38
    },
    {
     "cell_type": "heading",
     "level": 1,
     "metadata": {},
     "source": [
      "3. Whitespace: Padding and stripping"
     ]
    },
    {
     "cell_type": "heading",
     "level": 2,
     "metadata": {},
     "source": [
      "3.1. Add whitespace to the left/right side of a series using str.pad()"
     ]
    },
    {
     "cell_type": "code",
     "collapsed": false,
     "input": [
      "max_address_width = df['SITE_ADDR'].str.len().max()\n",
      "\n",
      "str_pad = df['SITE_ADDR'].str.pad(width=max_address_width, side='left')\n",
      "\n",
      "print str_pad.head()\n",
      "print '\\n'\n",
      "str_pad.head()[0]"
     ],
     "language": "python",
     "metadata": {},
     "outputs": [
      {
       "output_type": "stream",
       "stream": "stdout",
       "text": [
        "0                    12884 N 136TH ST\n",
        "1       11596 W SIERRA DAWN BOULEVARD\n",
        "2                  5947 W HEDGEHOG PL\n",
        "3              7234 E CAVE CREEK ROAD\n",
        "4                       8825 S 7TH ST\n",
        "Name: SITE_ADDR, dtype: object\n",
        "\n",
        "\n"
       ]
      },
      {
       "metadata": {},
       "output_type": "pyout",
       "prompt_number": 57,
       "text": [
        "'                12884 N 136TH ST'"
       ]
      }
     ],
     "prompt_number": 57
    },
    {
     "cell_type": "heading",
     "level": 2,
     "metadata": {},
     "source": [
      "3.2. Strip away whitespace on either side using str.strip()"
     ]
    },
    {
     "cell_type": "code",
     "collapsed": false,
     "input": [
      "str_strip = str_pad.str.strip()\n",
      "\n",
      "str_strip[0]"
     ],
     "language": "python",
     "metadata": {},
     "outputs": [
      {
       "metadata": {},
       "output_type": "pyout",
       "prompt_number": 56,
       "text": [
        "'12884 N 136TH ST'"
       ]
      }
     ],
     "prompt_number": 56
    },
    {
     "cell_type": "heading",
     "level": 2,
     "metadata": {},
     "source": [
      "3.3. The lstrip() and rstrip() methods strip whitespace from the left and right sides, respectively"
     ]
    },
    {
     "cell_type": "code",
     "collapsed": false,
     "input": [
      "str_lstrip = str_pad.str.lstrip()\n",
      "\n",
      "str_lstrip[0]"
     ],
     "language": "python",
     "metadata": {},
     "outputs": [
      {
       "metadata": {},
       "output_type": "pyout",
       "prompt_number": 58,
       "text": [
        "'12884 N 136TH ST'"
       ]
      }
     ],
     "prompt_number": 58
    },
    {
     "cell_type": "heading",
     "level": 1,
     "metadata": {},
     "source": [
      "4. Find and Replace"
     ]
    },
    {
     "cell_type": "heading",
     "level": 2,
     "metadata": {},
     "source": [
      "4.1. Searching for strings with str.contains()"
     ]
    },
    {
     "cell_type": "markdown",
     "metadata": {},
     "source": [
      "Using str.contains() produces a boolean array. 'True' entries contain the substring you are searching for, while 'False' entries do not.\n",
      "\n",
      "Let's search for addresses with the word 'COURT' in them."
     ]
    },
    {
     "cell_type": "code",
     "collapsed": false,
     "input": [
      "df['SITE_ADDR'].str.contains('COURT')"
     ],
     "language": "python",
     "metadata": {},
     "outputs": [
      {
       "metadata": {},
       "output_type": "pyout",
       "prompt_number": 30,
       "text": [
        "0     False\n",
        "1     False\n",
        "2     False\n",
        "3     False\n",
        "4     False\n",
        "5     False\n",
        "6     False\n",
        "7     False\n",
        "8     False\n",
        "9     False\n",
        "10    False\n",
        "11    False\n",
        "12     True\n",
        "13    False\n",
        "14    False\n",
        "...\n",
        "3116    False\n",
        "3117    False\n",
        "3118    False\n",
        "3119    False\n",
        "3120    False\n",
        "3121    False\n",
        "3122    False\n",
        "3123    False\n",
        "3124    False\n",
        "3125    False\n",
        "3126    False\n",
        "3127    False\n",
        "3128    False\n",
        "3129    False\n",
        "3130    False\n",
        "Name: SITE_ADDR, Length: 3131, dtype: bool"
       ]
      }
     ],
     "prompt_number": 30
    },
    {
     "cell_type": "markdown",
     "metadata": {},
     "source": [
      "Now let's index the dataframe using this boolean array:"
     ]
    },
    {
     "cell_type": "code",
     "collapsed": false,
     "input": [
      "court = df.loc[df['SITE_ADDR'].str.contains('COURT')]\n",
      "\n",
      "court.head()"
     ],
     "language": "python",
     "metadata": {},
     "outputs": [
      {
       "html": [
        "<div style=\"max-height:1000px;max-width:1500px;overflow:auto;\">\n",
        "<table border=\"1\" class=\"dataframe\">\n",
        "  <thead>\n",
        "    <tr style=\"text-align: right;\">\n",
        "      <th></th>\n",
        "      <th>FID_1</th>\n",
        "      <th>SITE_ADDR</th>\n",
        "      <th>S_ZIP</th>\n",
        "      <th>SNUM</th>\n",
        "      <th>DIR</th>\n",
        "      <th>STREET</th>\n",
        "      <th>STYPE</th>\n",
        "    </tr>\n",
        "  </thead>\n",
        "  <tbody>\n",
        "    <tr>\n",
        "      <th>12 </th>\n",
        "      <td>  178</td>\n",
        "      <td>     17817 N LAINIE COURT</td>\n",
        "      <td> 85374</td>\n",
        "      <td> 17817</td>\n",
        "      <td> N</td>\n",
        "      <td>     LAINIE</td>\n",
        "      <td> CT</td>\n",
        "    </tr>\n",
        "    <tr>\n",
        "      <th>32 </th>\n",
        "      <td>  403</td>\n",
        "      <td>       169 E CANARY COURT</td>\n",
        "      <td> 85242</td>\n",
        "      <td>   169</td>\n",
        "      <td> E</td>\n",
        "      <td>     CANARY</td>\n",
        "      <td> CT</td>\n",
        "    </tr>\n",
        "    <tr>\n",
        "      <th>66 </th>\n",
        "      <td>  865</td>\n",
        "      <td> 11604 W GRAPEFRUIT COURT</td>\n",
        "      <td> 85374</td>\n",
        "      <td> 11604</td>\n",
        "      <td> W</td>\n",
        "      <td> GRAPEFRUIT</td>\n",
        "      <td> CT</td>\n",
        "    </tr>\n",
        "    <tr>\n",
        "      <th>258</th>\n",
        "      <td> 3976</td>\n",
        "      <td> 11526 N COTTONTAIL COURT</td>\n",
        "      <td> 85374</td>\n",
        "      <td> 11526</td>\n",
        "      <td> N</td>\n",
        "      <td> COTTONTAIL</td>\n",
        "      <td> CT</td>\n",
        "    </tr>\n",
        "    <tr>\n",
        "      <th>260</th>\n",
        "      <td> 4060</td>\n",
        "      <td> 11523 W SAND TROUT COURT</td>\n",
        "      <td> 85374</td>\n",
        "      <td> 11523</td>\n",
        "      <td> W</td>\n",
        "      <td> SAND TROUT</td>\n",
        "      <td> CT</td>\n",
        "    </tr>\n",
        "  </tbody>\n",
        "</table>\n",
        "</div>"
       ],
       "metadata": {},
       "output_type": "pyout",
       "prompt_number": 27,
       "text": [
        "     FID_1                 SITE_ADDR  S_ZIP   SNUM DIR      STREET STYPE\n",
        "12     178      17817 N LAINIE COURT  85374  17817   N      LAINIE    CT\n",
        "32     403        169 E CANARY COURT  85242    169   E      CANARY    CT\n",
        "66     865  11604 W GRAPEFRUIT COURT  85374  11604   W  GRAPEFRUIT    CT\n",
        "258   3976  11526 N COTTONTAIL COURT  85374  11526   N  COTTONTAIL    CT\n",
        "260   4060  11523 W SAND TROUT COURT  85374  11523   W  SAND TROUT    CT"
       ]
      }
     ],
     "prompt_number": 27
    },
    {
     "cell_type": "heading",
     "level": 2,
     "metadata": {},
     "source": [
      "4.2. Replacing strings with str.replace()"
     ]
    },
    {
     "cell_type": "code",
     "collapsed": false,
     "input": [
      "court_replace = court['SITE_ADDR'].str.replace('COURT', 'CT')\n",
      "\n",
      "court_replace.head()"
     ],
     "language": "python",
     "metadata": {},
     "outputs": [
      {
       "metadata": {},
       "output_type": "pyout",
       "prompt_number": 32,
       "text": [
        "12         17817 N LAINIE CT\n",
        "32           169 E CANARY CT\n",
        "66     11604 W GRAPEFRUIT CT\n",
        "258    11526 N COTTONTAIL CT\n",
        "260    11523 W SAND TROUT CT\n",
        "Name: SITE_ADDR, dtype: object"
       ]
      }
     ],
     "prompt_number": 32
    },
    {
     "cell_type": "heading",
     "level": 2,
     "metadata": {},
     "source": [
      "4.3. Caveats concerning str.contains() and str.replace()"
     ]
    },
    {
     "cell_type": "heading",
     "level": 4,
     "metadata": {},
     "source": [
      "1) There are two different replace() methods in pandas. Don't confuse them!"
     ]
    },
    {
     "cell_type": "markdown",
     "metadata": {},
     "source": [
      "- replace() is called on a dataframe or series and replaces a cell's entire value. This method works on all datatypes.\n",
      "\n",
      "- str.replace() replaces some or all of a string inside a cell. This method only works on string-type Series."
     ]
    },
    {
     "cell_type": "heading",
     "level": 4,
     "metadata": {},
     "source": [
      "2) str.contains() and str.replace() are sensitive to regular expressions."
     ]
    },
    {
     "cell_type": "markdown",
     "metadata": {},
     "source": [
      "Be careful when using certain characters inside str.contains() and str.replace().\n",
      "\n",
      "Metacharacters, like \\$, \\+, \\* and ^ have special meanings. The character \\$ for instance matches the end of a line, while the * character matches \"the previous character, repeated any number of times\".\n",
      "\n",
      "We will go over these metacharacters in greater detail when we tackle regular expressions in String Methods Pt. 2"
     ]
    },
    {
     "cell_type": "code",
     "collapsed": false,
     "input": [],
     "language": "python",
     "metadata": {},
     "outputs": []
    }
   ],
   "metadata": {}
  }
 ]
}