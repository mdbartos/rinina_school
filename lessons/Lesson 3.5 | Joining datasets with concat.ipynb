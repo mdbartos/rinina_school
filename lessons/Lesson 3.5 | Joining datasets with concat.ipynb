{
 "metadata": {
  "name": "",
  "signature": "sha256:504d5caec01fa5c6fdec1df6fab95840958cb311963e1a1432a8b7146eef89f3"
 },
 "nbformat": 3,
 "nbformat_minor": 0,
 "worksheets": [
  {
   "cells": [
    {
     "cell_type": "heading",
     "level": 1,
     "metadata": {},
     "source": [
      "Lesson 3.5 : Joining datasets with concat"
     ]
    },
    {
     "cell_type": "code",
     "collapsed": false,
     "input": [],
     "language": "python",
     "metadata": {},
     "outputs": []
    }
   ],
   "metadata": {}
  }
 ]
}