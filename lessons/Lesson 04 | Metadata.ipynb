{
 "metadata": {
  "name": "",
  "signature": "sha256:6af6d03c6d2670dec21f4b9a39fae243db045aad3b4bb349833f3e5be49496fa"
 },
 "nbformat": 3,
 "nbformat_minor": 0,
 "worksheets": [
  {
   "cells": [
    {
     "cell_type": "heading",
     "level": 1,
     "metadata": {},
     "source": [
      "Lesson 4: Metadata"
     ]
    },
    {
     "cell_type": "markdown",
     "metadata": {},
     "source": [
      ".................................................................................................................................\n",
      "Topics\n",
      "-----------------------------------------\n",
      "\n",
      "\n",
      "1. Getting info about a data structure\n",
      "\n",
      "2. Changing info about a data structure\n",
      "\n",
      "................................................................................................................................."
     ]
    },
    {
     "cell_type": "markdown",
     "metadata": {},
     "source": [
      "In this lesson, we'll be taking a look at metadata--that is, information <b>about</b> our data structures.\n",
      "\n",
      "Knowing information <b>about</b> our data will allow us to perform operations on the data more effectively."
     ]
    },
    {
     "cell_type": "heading",
     "level": 2,
     "metadata": {},
     "source": [
      "Let's import our example data"
     ]
    },
    {
     "cell_type": "code",
     "collapsed": false,
     "input": [
      "import pandas as pd\n",
      "import numpy as np"
     ],
     "language": "python",
     "metadata": {},
     "outputs": [],
     "prompt_number": 1
    },
    {
     "cell_type": "code",
     "collapsed": false,
     "input": [
      "df = pd.read_csv('https://dl.dropboxusercontent.com/u/14284692/solar_under_dev.csv')"
     ],
     "language": "python",
     "metadata": {},
     "outputs": [],
     "prompt_number": 2
    },
    {
     "cell_type": "code",
     "collapsed": false,
     "input": [
      "df.head(10)"
     ],
     "language": "python",
     "metadata": {},
     "outputs": [
      {
       "html": [
        "<div style=\"max-height:1000px;max-width:1500px;overflow:auto;\">\n",
        "<table border=\"1\" class=\"dataframe\">\n",
        "  <thead>\n",
        "    <tr style=\"text-align: right;\">\n",
        "      <th></th>\n",
        "      <th>Developer</th>\n",
        "      <th>Project_Name</th>\n",
        "      <th>Electricity_Purchaser</th>\n",
        "      <th>City/County</th>\n",
        "      <th>State</th>\n",
        "      <th>PV_CSP</th>\n",
        "      <th>Technology</th>\n",
        "      <th>Status</th>\n",
        "      <th>Land Type</th>\n",
        "      <th>Date_Announced</th>\n",
        "      <th>Online_Date</th>\n",
        "      <th>Cap_MW</th>\n",
        "      <th>X</th>\n",
        "      <th>Y</th>\n",
        "      <th>LocAccu</th>\n",
        "    </tr>\n",
        "  </thead>\n",
        "  <tbody>\n",
        "    <tr>\n",
        "      <th>0</th>\n",
        "      <td>                SunEdison</td>\n",
        "      <td>                            Adobe Solar</td>\n",
        "      <td>        Southern California Edison</td>\n",
        "      <td>           Kern County</td>\n",
        "      <td> CA</td>\n",
        "      <td> PV</td>\n",
        "      <td> Crystalline silicon</td>\n",
        "      <td> Under Development</td>\n",
        "      <td> Private</td>\n",
        "      <td>    NaN</td>\n",
        "      <td>   NaN</td>\n",
        "      <td>  20.0</td>\n",
        "      <td>-118.96</td>\n",
        "      <td> 35.10</td>\n",
        "      <td> 2</td>\n",
        "    </tr>\n",
        "    <tr>\n",
        "      <th>1</th>\n",
        "      <td> Lincoln Renewable Energy</td>\n",
        "      <td>                Agincourt Solar Project</td>\n",
        "      <td>        Southern California Edison</td>\n",
        "      <td> San Bernardino County</td>\n",
        "      <td> CA</td>\n",
        "      <td> PV</td>\n",
        "      <td> Crystalline silicon</td>\n",
        "      <td> Under Development</td>\n",
        "      <td> Private</td>\n",
        "      <td> 12-Nov</td>\n",
        "      <td>   NaN</td>\n",
        "      <td>  12.5</td>\n",
        "      <td>-116.14</td>\n",
        "      <td> 34.64</td>\n",
        "      <td> 3</td>\n",
        "    </tr>\n",
        "    <tr>\n",
        "      <th>2</th>\n",
        "      <td>            Argand Energy</td>\n",
        "      <td>                 Airport Ground Solar 1</td>\n",
        "      <td>                   Progress Energy</td>\n",
        "      <td>       Johnston County</td>\n",
        "      <td> NC</td>\n",
        "      <td> PV</td>\n",
        "      <td> Crystalline silicon</td>\n",
        "      <td> Under Development</td>\n",
        "      <td> Private</td>\n",
        "      <td> 12-Mar</td>\n",
        "      <td>   NaN</td>\n",
        "      <td>   2.0</td>\n",
        "      <td> -78.39</td>\n",
        "      <td> 35.54</td>\n",
        "      <td> 1</td>\n",
        "    </tr>\n",
        "    <tr>\n",
        "      <th>3</th>\n",
        "      <td>          OCI Solar Power</td>\n",
        "      <td>                       Alamo Solar Farm</td>\n",
        "      <td>                        CPS Energy</td>\n",
        "      <td>           San Antonio</td>\n",
        "      <td> TX</td>\n",
        "      <td> PV</td>\n",
        "      <td> Crystalline silicon</td>\n",
        "      <td> Under Development</td>\n",
        "      <td> Private</td>\n",
        "      <td> 12-Jan</td>\n",
        "      <td>   NaN</td>\n",
        "      <td> 359.0</td>\n",
        "      <td> -98.49</td>\n",
        "      <td> 29.41</td>\n",
        "      <td> 2</td>\n",
        "    </tr>\n",
        "    <tr>\n",
        "      <th>4</th>\n",
        "      <td>                      NaN</td>\n",
        "      <td>             Aloha Solar Energy Project</td>\n",
        "      <td>                               NaN</td>\n",
        "      <td>    Desert Hot Springs</td>\n",
        "      <td> CA</td>\n",
        "      <td> PV</td>\n",
        "      <td> Crystalline silicon</td>\n",
        "      <td> Under Development</td>\n",
        "      <td> Private</td>\n",
        "      <td>   2012</td>\n",
        "      <td>   NaN</td>\n",
        "      <td>   2.6</td>\n",
        "      <td>-116.50</td>\n",
        "      <td> 33.95</td>\n",
        "      <td> 2</td>\n",
        "    </tr>\n",
        "    <tr>\n",
        "      <th>5</th>\n",
        "      <td>            Element Power</td>\n",
        "      <td>                      Alpine Solar Farm</td>\n",
        "      <td>                               NaN</td>\n",
        "      <td>              Presidio</td>\n",
        "      <td> TX</td>\n",
        "      <td> PV</td>\n",
        "      <td> Crystalline silicon</td>\n",
        "      <td> Under Development</td>\n",
        "      <td> Private</td>\n",
        "      <td>    NaN</td>\n",
        "      <td>   NaN</td>\n",
        "      <td>  50.0</td>\n",
        "      <td>-104.37</td>\n",
        "      <td> 29.56</td>\n",
        "      <td> 2</td>\n",
        "    </tr>\n",
        "    <tr>\n",
        "      <th>6</th>\n",
        "      <td>                REC Solar</td>\n",
        "      <td>           Anahola Solar Energy Project</td>\n",
        "      <td> Kaua'i Island Utility Cooperative</td>\n",
        "      <td>                 Kauai</td>\n",
        "      <td> HI</td>\n",
        "      <td> PV</td>\n",
        "      <td> Crystalline silicon</td>\n",
        "      <td> Under Development</td>\n",
        "      <td> Private</td>\n",
        "      <td> 12-Feb</td>\n",
        "      <td>   NaN</td>\n",
        "      <td>  12.0</td>\n",
        "      <td>-159.31</td>\n",
        "      <td> 22.15</td>\n",
        "      <td> 2</td>\n",
        "    </tr>\n",
        "    <tr>\n",
        "      <th>7</th>\n",
        "      <td>            Tuusso Energy</td>\n",
        "      <td>                       Antelope Project</td>\n",
        "      <td>        Southern California Edison</td>\n",
        "      <td>             Lancaster</td>\n",
        "      <td> CA</td>\n",
        "      <td> PV</td>\n",
        "      <td>                 NaN</td>\n",
        "      <td> Under Development</td>\n",
        "      <td>     NaN</td>\n",
        "      <td>    NaN</td>\n",
        "      <td>   NaN</td>\n",
        "      <td>  20.0</td>\n",
        "      <td>-118.30</td>\n",
        "      <td> 34.70</td>\n",
        "      <td> 1</td>\n",
        "    </tr>\n",
        "    <tr>\n",
        "      <th>8</th>\n",
        "      <td>                SunEdison</td>\n",
        "      <td>                    Antelope Solar Farm</td>\n",
        "      <td>        Southern California Edison</td>\n",
        "      <td>      Lancaster County</td>\n",
        "      <td> CA</td>\n",
        "      <td> PV</td>\n",
        "      <td> Crystalline silicon</td>\n",
        "      <td> Under Development</td>\n",
        "      <td> Private</td>\n",
        "      <td>    NaN</td>\n",
        "      <td>   NaN</td>\n",
        "      <td>  20.0</td>\n",
        "      <td>-118.33</td>\n",
        "      <td> 34.71</td>\n",
        "      <td> 1</td>\n",
        "    </tr>\n",
        "    <tr>\n",
        "      <th>9</th>\n",
        "      <td>                 SunPower</td>\n",
        "      <td> Apple Data Center Array- Washoe County</td>\n",
        "      <td>                             Apple</td>\n",
        "      <td>         Washoe County</td>\n",
        "      <td> NV</td>\n",
        "      <td> PV</td>\n",
        "      <td> Crystalline silicon</td>\n",
        "      <td> Under Development</td>\n",
        "      <td> Private</td>\n",
        "      <td> 13-Jul</td>\n",
        "      <td> 41365</td>\n",
        "      <td>  20.0</td>\n",
        "      <td>-119.63</td>\n",
        "      <td> 40.73</td>\n",
        "      <td> 3</td>\n",
        "    </tr>\n",
        "  </tbody>\n",
        "</table>\n",
        "</div>"
       ],
       "metadata": {},
       "output_type": "pyout",
       "prompt_number": 3,
       "text": [
        "                  Developer                            Project_Name  \\\n",
        "0                 SunEdison                             Adobe Solar   \n",
        "1  Lincoln Renewable Energy                 Agincourt Solar Project   \n",
        "2             Argand Energy                  Airport Ground Solar 1   \n",
        "3           OCI Solar Power                        Alamo Solar Farm   \n",
        "4                       NaN              Aloha Solar Energy Project   \n",
        "5             Element Power                       Alpine Solar Farm   \n",
        "6                 REC Solar            Anahola Solar Energy Project   \n",
        "7             Tuusso Energy                        Antelope Project   \n",
        "8                 SunEdison                     Antelope Solar Farm   \n",
        "9                  SunPower  Apple Data Center Array- Washoe County   \n",
        "\n",
        "               Electricity_Purchaser            City/County State PV_CSP  \\\n",
        "0         Southern California Edison            Kern County    CA     PV   \n",
        "1         Southern California Edison  San Bernardino County    CA     PV   \n",
        "2                    Progress Energy        Johnston County    NC     PV   \n",
        "3                         CPS Energy            San Antonio    TX     PV   \n",
        "4                                NaN     Desert Hot Springs    CA     PV   \n",
        "5                                NaN               Presidio    TX     PV   \n",
        "6  Kaua'i Island Utility Cooperative                  Kauai    HI     PV   \n",
        "7         Southern California Edison              Lancaster    CA     PV   \n",
        "8         Southern California Edison       Lancaster County    CA     PV   \n",
        "9                              Apple          Washoe County    NV     PV   \n",
        "\n",
        "            Technology             Status Land Type Date_Announced  \\\n",
        "0  Crystalline silicon  Under Development   Private            NaN   \n",
        "1  Crystalline silicon  Under Development   Private         12-Nov   \n",
        "2  Crystalline silicon  Under Development   Private         12-Mar   \n",
        "3  Crystalline silicon  Under Development   Private         12-Jan   \n",
        "4  Crystalline silicon  Under Development   Private           2012   \n",
        "5  Crystalline silicon  Under Development   Private            NaN   \n",
        "6  Crystalline silicon  Under Development   Private         12-Feb   \n",
        "7                  NaN  Under Development       NaN            NaN   \n",
        "8  Crystalline silicon  Under Development   Private            NaN   \n",
        "9  Crystalline silicon  Under Development   Private         13-Jul   \n",
        "\n",
        "   Online_Date  Cap_MW       X      Y  LocAccu  \n",
        "0          NaN    20.0 -118.96  35.10        2  \n",
        "1          NaN    12.5 -116.14  34.64        3  \n",
        "2          NaN     2.0  -78.39  35.54        1  \n",
        "3          NaN   359.0  -98.49  29.41        2  \n",
        "4          NaN     2.6 -116.50  33.95        2  \n",
        "5          NaN    50.0 -104.37  29.56        2  \n",
        "6          NaN    12.0 -159.31  22.15        2  \n",
        "7          NaN    20.0 -118.30  34.70        1  \n",
        "8          NaN    20.0 -118.33  34.71        1  \n",
        "9        41365    20.0 -119.63  40.73        3  "
       ]
      }
     ],
     "prompt_number": 3
    },
    {
     "cell_type": "heading",
     "level": 1,
     "metadata": {},
     "source": [
      "1. Retrieving metadata"
     ]
    },
    {
     "cell_type": "heading",
     "level": 2,
     "metadata": {},
     "source": [
      "1.1. Getting the head or tail of a dataset"
     ]
    },
    {
     "cell_type": "markdown",
     "metadata": {},
     "source": [
      "The <b>head()</b> and <b>tail()</b> methods are used to get a quick look at the data by returning the first and last few entries, respectively."
     ]
    },
    {
     "cell_type": "markdown",
     "metadata": {},
     "source": [
      "The <b>head()</b> method gives you the first n entries in a dataset."
     ]
    },
    {
     "cell_type": "code",
     "collapsed": false,
     "input": [
      "df.head(3)"
     ],
     "language": "python",
     "metadata": {},
     "outputs": [
      {
       "html": [
        "<div style=\"max-height:1000px;max-width:1500px;overflow:auto;\">\n",
        "<table border=\"1\" class=\"dataframe\">\n",
        "  <thead>\n",
        "    <tr style=\"text-align: right;\">\n",
        "      <th></th>\n",
        "      <th>Developer</th>\n",
        "      <th>Project_Name</th>\n",
        "      <th>Electricity_Purchaser</th>\n",
        "      <th>City/County</th>\n",
        "      <th>State</th>\n",
        "      <th>PV_CSP</th>\n",
        "      <th>Technology</th>\n",
        "      <th>Status</th>\n",
        "      <th>Land Type</th>\n",
        "      <th>Date_Announced</th>\n",
        "      <th>Online_Date</th>\n",
        "      <th>Cap_MW</th>\n",
        "      <th>X</th>\n",
        "      <th>Y</th>\n",
        "      <th>LocAccu</th>\n",
        "    </tr>\n",
        "  </thead>\n",
        "  <tbody>\n",
        "    <tr>\n",
        "      <th>0</th>\n",
        "      <td>                SunEdison</td>\n",
        "      <td>             Adobe Solar</td>\n",
        "      <td> Southern California Edison</td>\n",
        "      <td>           Kern County</td>\n",
        "      <td> CA</td>\n",
        "      <td> PV</td>\n",
        "      <td> Crystalline silicon</td>\n",
        "      <td> Under Development</td>\n",
        "      <td> Private</td>\n",
        "      <td>    NaN</td>\n",
        "      <td>NaN</td>\n",
        "      <td> 20.0</td>\n",
        "      <td>-118.96</td>\n",
        "      <td> 35.10</td>\n",
        "      <td> 2</td>\n",
        "    </tr>\n",
        "    <tr>\n",
        "      <th>1</th>\n",
        "      <td> Lincoln Renewable Energy</td>\n",
        "      <td> Agincourt Solar Project</td>\n",
        "      <td> Southern California Edison</td>\n",
        "      <td> San Bernardino County</td>\n",
        "      <td> CA</td>\n",
        "      <td> PV</td>\n",
        "      <td> Crystalline silicon</td>\n",
        "      <td> Under Development</td>\n",
        "      <td> Private</td>\n",
        "      <td> 12-Nov</td>\n",
        "      <td>NaN</td>\n",
        "      <td> 12.5</td>\n",
        "      <td>-116.14</td>\n",
        "      <td> 34.64</td>\n",
        "      <td> 3</td>\n",
        "    </tr>\n",
        "    <tr>\n",
        "      <th>2</th>\n",
        "      <td>            Argand Energy</td>\n",
        "      <td>  Airport Ground Solar 1</td>\n",
        "      <td>            Progress Energy</td>\n",
        "      <td>       Johnston County</td>\n",
        "      <td> NC</td>\n",
        "      <td> PV</td>\n",
        "      <td> Crystalline silicon</td>\n",
        "      <td> Under Development</td>\n",
        "      <td> Private</td>\n",
        "      <td> 12-Mar</td>\n",
        "      <td>NaN</td>\n",
        "      <td>  2.0</td>\n",
        "      <td> -78.39</td>\n",
        "      <td> 35.54</td>\n",
        "      <td> 1</td>\n",
        "    </tr>\n",
        "  </tbody>\n",
        "</table>\n",
        "</div>"
       ],
       "metadata": {},
       "output_type": "pyout",
       "prompt_number": 4,
       "text": [
        "                  Developer             Project_Name  \\\n",
        "0                 SunEdison              Adobe Solar   \n",
        "1  Lincoln Renewable Energy  Agincourt Solar Project   \n",
        "2             Argand Energy   Airport Ground Solar 1   \n",
        "\n",
        "        Electricity_Purchaser            City/County State PV_CSP  \\\n",
        "0  Southern California Edison            Kern County    CA     PV   \n",
        "1  Southern California Edison  San Bernardino County    CA     PV   \n",
        "2             Progress Energy        Johnston County    NC     PV   \n",
        "\n",
        "            Technology             Status Land Type Date_Announced  \\\n",
        "0  Crystalline silicon  Under Development   Private            NaN   \n",
        "1  Crystalline silicon  Under Development   Private         12-Nov   \n",
        "2  Crystalline silicon  Under Development   Private         12-Mar   \n",
        "\n",
        "   Online_Date  Cap_MW       X      Y  LocAccu  \n",
        "0          NaN    20.0 -118.96  35.10        2  \n",
        "1          NaN    12.5 -116.14  34.64        3  \n",
        "2          NaN     2.0  -78.39  35.54        1  "
       ]
      }
     ],
     "prompt_number": 4
    },
    {
     "cell_type": "markdown",
     "metadata": {},
     "source": [
      "The <b>tail</b> method gives you the last n entries in a dataset; note that the default is 5."
     ]
    },
    {
     "cell_type": "code",
     "collapsed": false,
     "input": [
      "df.tail()"
     ],
     "language": "python",
     "metadata": {},
     "outputs": [
      {
       "html": [
        "<div style=\"max-height:1000px;max-width:1500px;overflow:auto;\">\n",
        "<table border=\"1\" class=\"dataframe\">\n",
        "  <thead>\n",
        "    <tr style=\"text-align: right;\">\n",
        "      <th></th>\n",
        "      <th>Developer</th>\n",
        "      <th>Project_Name</th>\n",
        "      <th>Electricity_Purchaser</th>\n",
        "      <th>City/County</th>\n",
        "      <th>State</th>\n",
        "      <th>PV_CSP</th>\n",
        "      <th>Technology</th>\n",
        "      <th>Status</th>\n",
        "      <th>Land Type</th>\n",
        "      <th>Date_Announced</th>\n",
        "      <th>Online_Date</th>\n",
        "      <th>Cap_MW</th>\n",
        "      <th>X</th>\n",
        "      <th>Y</th>\n",
        "      <th>LocAccu</th>\n",
        "    </tr>\n",
        "  </thead>\n",
        "  <tbody>\n",
        "    <tr>\n",
        "      <th>215</th>\n",
        "      <td> Sustainable Energy Capital Partners</td>\n",
        "      <td> NaN</td>\n",
        "      <td>             Southern California Edison</td>\n",
        "      <td>   Santa Ana</td>\n",
        "      <td> CA</td>\n",
        "      <td> PV</td>\n",
        "      <td>           Thin-film</td>\n",
        "      <td> Under Development</td>\n",
        "      <td>     NaN</td>\n",
        "      <td> NaN</td>\n",
        "      <td>NaN</td>\n",
        "      <td> 20.0</td>\n",
        "      <td>-117.87</td>\n",
        "      <td> 33.75</td>\n",
        "      <td> 2</td>\n",
        "    </tr>\n",
        "    <tr>\n",
        "      <th>216</th>\n",
        "      <td>                   Syncarpha Capital</td>\n",
        "      <td> NaN</td>\n",
        "      <td>                                    NaN</td>\n",
        "      <td> Easthampton</td>\n",
        "      <td> NJ</td>\n",
        "      <td> PV</td>\n",
        "      <td> Crystalline silicon</td>\n",
        "      <td> Under Development</td>\n",
        "      <td> Private</td>\n",
        "      <td> NaN</td>\n",
        "      <td>NaN</td>\n",
        "      <td>  3.0</td>\n",
        "      <td> -74.75</td>\n",
        "      <td> 40.00</td>\n",
        "      <td> 2</td>\n",
        "    </tr>\n",
        "    <tr>\n",
        "      <th>217</th>\n",
        "      <td>  Western Massachusetts Electric Co.</td>\n",
        "      <td> NaN</td>\n",
        "      <td> Western Massachusetts Electric Company</td>\n",
        "      <td> Springfield</td>\n",
        "      <td> MA</td>\n",
        "      <td> PV</td>\n",
        "      <td> Crystalline silicon</td>\n",
        "      <td> Under Development</td>\n",
        "      <td> Private</td>\n",
        "      <td> NaN</td>\n",
        "      <td>NaN</td>\n",
        "      <td>  4.2</td>\n",
        "      <td> -72.59</td>\n",
        "      <td> 42.10</td>\n",
        "      <td> 2</td>\n",
        "    </tr>\n",
        "    <tr>\n",
        "      <th>218</th>\n",
        "      <td>                         TenK Energy</td>\n",
        "      <td> NaN</td>\n",
        "      <td>       Ashburnham Municipal Light Plant</td>\n",
        "      <td>  Ashburnham</td>\n",
        "      <td> MA</td>\n",
        "      <td> PV</td>\n",
        "      <td> Crystalline silicon</td>\n",
        "      <td> Under Development</td>\n",
        "      <td> Private</td>\n",
        "      <td> NaN</td>\n",
        "      <td>NaN</td>\n",
        "      <td>  3.0</td>\n",
        "      <td> -71.91</td>\n",
        "      <td> 42.63</td>\n",
        "      <td> 2</td>\n",
        "    </tr>\n",
        "    <tr>\n",
        "      <th>219</th>\n",
        "      <td>                      NextSun Energy</td>\n",
        "      <td> NaN</td>\n",
        "      <td>                                    NaN</td>\n",
        "      <td>  Bellingham</td>\n",
        "      <td> MA</td>\n",
        "      <td> PV</td>\n",
        "      <td> Crystalline silicon</td>\n",
        "      <td> Under Development</td>\n",
        "      <td> Private</td>\n",
        "      <td> NaN</td>\n",
        "      <td>NaN</td>\n",
        "      <td>  4.0</td>\n",
        "      <td> -71.47</td>\n",
        "      <td> 42.09</td>\n",
        "      <td> 2</td>\n",
        "    </tr>\n",
        "  </tbody>\n",
        "</table>\n",
        "</div>"
       ],
       "metadata": {},
       "output_type": "pyout",
       "prompt_number": 5,
       "text": [
        "                               Developer Project_Name  \\\n",
        "215  Sustainable Energy Capital Partners          NaN   \n",
        "216                    Syncarpha Capital          NaN   \n",
        "217   Western Massachusetts Electric Co.          NaN   \n",
        "218                          TenK Energy          NaN   \n",
        "219                       NextSun Energy          NaN   \n",
        "\n",
        "                      Electricity_Purchaser  City/County State PV_CSP  \\\n",
        "215              Southern California Edison    Santa Ana    CA     PV   \n",
        "216                                     NaN  Easthampton    NJ     PV   \n",
        "217  Western Massachusetts Electric Company  Springfield    MA     PV   \n",
        "218        Ashburnham Municipal Light Plant   Ashburnham    MA     PV   \n",
        "219                                     NaN   Bellingham    MA     PV   \n",
        "\n",
        "              Technology             Status Land Type Date_Announced  \\\n",
        "215            Thin-film  Under Development       NaN            NaN   \n",
        "216  Crystalline silicon  Under Development   Private            NaN   \n",
        "217  Crystalline silicon  Under Development   Private            NaN   \n",
        "218  Crystalline silicon  Under Development   Private            NaN   \n",
        "219  Crystalline silicon  Under Development   Private            NaN   \n",
        "\n",
        "     Online_Date  Cap_MW       X      Y  LocAccu  \n",
        "215          NaN    20.0 -117.87  33.75        2  \n",
        "216          NaN     3.0  -74.75  40.00        2  \n",
        "217          NaN     4.2  -72.59  42.10        2  \n",
        "218          NaN     3.0  -71.91  42.63        2  \n",
        "219          NaN     4.0  -71.47  42.09        2  "
       ]
      }
     ],
     "prompt_number": 5
    },
    {
     "cell_type": "heading",
     "level": 2,
     "metadata": {},
     "source": [
      "1.2. Getting info about the axes"
     ]
    },
    {
     "cell_type": "heading",
     "level": 3,
     "metadata": {},
     "source": [
      "1.2.1. Getting column labels"
     ]
    },
    {
     "cell_type": "markdown",
     "metadata": {},
     "source": [
      "Calling the <b>.columns</b> attribute will give you a list of column names"
     ]
    },
    {
     "cell_type": "code",
     "collapsed": false,
     "input": [
      "df.columns"
     ],
     "language": "python",
     "metadata": {},
     "outputs": [
      {
       "metadata": {},
       "output_type": "pyout",
       "prompt_number": 6,
       "text": [
        "Index([u'Developer', u'Project_Name', u'Electricity_Purchaser', u'City/County', u'State', u'PV_CSP', u'Technology', u'Status', u'Land Type', u'Date_Announced', u'Online_Date', u'Cap_MW', u'X', u'Y', u'LocAccu'], dtype='object')"
       ]
      }
     ],
     "prompt_number": 6
    },
    {
     "cell_type": "heading",
     "level": 3,
     "metadata": {},
     "source": [
      "1.2.2. Getting row labels"
     ]
    },
    {
     "cell_type": "markdown",
     "metadata": {},
     "source": [
      "Calling the <b>.index</b> attribute will give you a list of row labels"
     ]
    },
    {
     "cell_type": "code",
     "collapsed": false,
     "input": [
      "df.index"
     ],
     "language": "python",
     "metadata": {},
     "outputs": [
      {
       "metadata": {},
       "output_type": "pyout",
       "prompt_number": 7,
       "text": [
        "Int64Index([0, 1, 2, 3, 4, 5, 6, 7, 8, 9, 10, 11, 12, 13, 14, 15, 16, 17, 18, 19, 20, 21, 22, 23, 24, 25, 26, 27, 28, 29, 30, 31, 32, 33, 34, 35, 36, 37, 38, 39, 40, 41, 42, 43, 44, 45, 46, 47, 48, 49, 50, 51, 52, 53, 54, 55, 56, 57, 58, 59, 60, 61, 62, 63, 64, 65, 66, 67, 68, 69, 70, 71, 72, 73, 74, 75, 76, 77, 78, 79, 80, 81, 82, 83, 84, 85, 86, 87, 88, 89, 90, 91, 92, 93, 94, 95, 96, 97, 98, 99, ...], dtype='int64')"
       ]
      }
     ],
     "prompt_number": 7
    },
    {
     "cell_type": "heading",
     "level": 3,
     "metadata": {},
     "source": [
      "1.2.3. Getting all axis labels"
     ]
    },
    {
     "cell_type": "markdown",
     "metadata": {},
     "source": [
      "Calling the <b>.axes</b> attribute will give you the axes of the pandas object (rows and columns for a 2-D DataFrame)"
     ]
    },
    {
     "cell_type": "code",
     "collapsed": false,
     "input": [
      "df.axes"
     ],
     "language": "python",
     "metadata": {},
     "outputs": [
      {
       "metadata": {},
       "output_type": "pyout",
       "prompt_number": 8,
       "text": [
        "[Int64Index([0, 1, 2, 3, 4, 5, 6, 7, 8, 9, 10, 11, 12, 13, 14, 15, 16, 17, 18, 19, 20, 21, 22, 23, 24, 25, 26, 27, 28, 29, 30, 31, 32, 33, 34, 35, 36, 37, 38, 39, 40, 41, 42, 43, 44, 45, 46, 47, 48, 49, 50, 51, 52, 53, 54, 55, 56, 57, 58, 59, 60, 61, 62, 63, 64, 65, 66, 67, 68, 69, 70, 71, 72, 73, 74, 75, 76, 77, 78, 79, 80, 81, 82, 83, 84, 85, 86, 87, 88, 89, 90, 91, 92, 93, 94, 95, 96, 97, 98, 99, ...], dtype='int64'),\n",
        " Index([u'Developer', u'Project_Name', u'Electricity_Purchaser', u'City/County', u'State', u'PV_CSP', u'Technology', u'Status', u'Land Type', u'Date_Announced', u'Online_Date', u'Cap_MW', u'X', u'Y', u'LocAccu'], dtype='object')]"
       ]
      }
     ],
     "prompt_number": 8
    },
    {
     "cell_type": "heading",
     "level": 2,
     "metadata": {},
     "source": [
      "1.3. Getting info about the size of a DataFrame"
     ]
    },
    {
     "cell_type": "markdown",
     "metadata": {},
     "source": [
      "Calling the <b>.info()</b> method returns the number of non-null entries, along with the memory usage of a pandas object."
     ]
    },
    {
     "cell_type": "code",
     "collapsed": false,
     "input": [
      "df.info()"
     ],
     "language": "python",
     "metadata": {},
     "outputs": [
      {
       "output_type": "stream",
       "stream": "stdout",
       "text": [
        "<class 'pandas.core.frame.DataFrame'>\n",
        "Int64Index: 220 entries, 0 to 219\n",
        "Data columns (total 15 columns):\n",
        "Developer                217 non-null object\n",
        "Project_Name             171 non-null object\n",
        "Electricity_Purchaser    128 non-null object\n",
        "City/County              201 non-null object\n",
        "State                    216 non-null object\n",
        "PV_CSP                   220 non-null object\n",
        "Technology               213 non-null object\n",
        "Status                   220 non-null object\n",
        "Land Type                197 non-null object\n",
        "Date_Announced           94 non-null object\n",
        "Online_Date              2 non-null float64\n",
        "Cap_MW                   216 non-null float64\n",
        "X                        220 non-null float64\n",
        "Y                        220 non-null float64\n",
        "LocAccu                  220 non-null int64\n",
        "dtypes: float64(4), int64(1), object(10)\n",
        "memory usage: 27.5+ KB\n"
       ]
      }
     ],
     "prompt_number": 9
    },
    {
     "cell_type": "markdown",
     "metadata": {},
     "source": [
      "The <b>.shape</b> attribute gives you a tuple indicating the number of rows (first) and columns (second)."
     ]
    },
    {
     "cell_type": "code",
     "collapsed": false,
     "input": [
      "df.shape"
     ],
     "language": "python",
     "metadata": {},
     "outputs": [
      {
       "metadata": {},
       "output_type": "pyout",
       "prompt_number": 10,
       "text": [
        "(220, 15)"
       ]
      }
     ],
     "prompt_number": 10
    },
    {
     "cell_type": "markdown",
     "metadata": {},
     "source": [
      "The <b>.size</b> attribute gives you the number of entries in a DataFrame."
     ]
    },
    {
     "cell_type": "code",
     "collapsed": false,
     "input": [
      "df.size"
     ],
     "language": "python",
     "metadata": {},
     "outputs": [
      {
       "metadata": {},
       "output_type": "pyout",
       "prompt_number": 11,
       "text": [
        "3300"
       ]
      }
     ],
     "prompt_number": 11
    },
    {
     "cell_type": "markdown",
     "metadata": {},
     "source": [
      "Calling the <b>len()</b> method on your DataFrame will give you the number of rows."
     ]
    },
    {
     "cell_type": "code",
     "collapsed": false,
     "input": [
      "len(df)"
     ],
     "language": "python",
     "metadata": {},
     "outputs": [
      {
       "metadata": {},
       "output_type": "pyout",
       "prompt_number": 12,
       "text": [
        "220"
       ]
      }
     ],
     "prompt_number": 12
    },
    {
     "cell_type": "heading",
     "level": 2,
     "metadata": {},
     "source": [
      "1.4. Getting info about datatypes"
     ]
    },
    {
     "cell_type": "markdown",
     "metadata": {},
     "source": [
      "The <b>.dtypes</b> attribute gives you the datatype of each column in a DataFrame."
     ]
    },
    {
     "cell_type": "code",
     "collapsed": false,
     "input": [
      "df.dtypes"
     ],
     "language": "python",
     "metadata": {},
     "outputs": [
      {
       "metadata": {},
       "output_type": "pyout",
       "prompt_number": 13,
       "text": [
        "Developer                 object\n",
        "Project_Name              object\n",
        "Electricity_Purchaser     object\n",
        "City/County               object\n",
        "State                     object\n",
        "PV_CSP                    object\n",
        "Technology                object\n",
        "Status                    object\n",
        "Land Type                 object\n",
        "Date_Announced            object\n",
        "Online_Date              float64\n",
        "Cap_MW                   float64\n",
        "X                        float64\n",
        "Y                        float64\n",
        "LocAccu                    int64\n",
        "dtype: object"
       ]
      }
     ],
     "prompt_number": 13
    },
    {
     "cell_type": "markdown",
     "metadata": {},
     "source": [
      "The <b>.dtype</b> attribute will give you information about the datatype of a single Series."
     ]
    },
    {
     "cell_type": "code",
     "collapsed": false,
     "input": [
      "df['Cap_MW'].dtype"
     ],
     "language": "python",
     "metadata": {},
     "outputs": [
      {
       "metadata": {},
       "output_type": "pyout",
       "prompt_number": 14,
       "text": [
        "dtype('float64')"
       ]
      }
     ],
     "prompt_number": 14
    },
    {
     "cell_type": "markdown",
     "metadata": {},
     "source": [
      "Use the <b>.select_dtypes()</b> method to return columns of a given type from a DataFrame.\n",
      "\n",
      "To get all numeric columns, enter <b>'np.number'</b>.\n",
      "\n",
      "To get string-type columns enter <b>'object'</b>."
     ]
    },
    {
     "cell_type": "code",
     "collapsed": false,
     "input": [
      "df.select_dtypes([np.number]).head()"
     ],
     "language": "python",
     "metadata": {},
     "outputs": [
      {
       "html": [
        "<div style=\"max-height:1000px;max-width:1500px;overflow:auto;\">\n",
        "<table border=\"1\" class=\"dataframe\">\n",
        "  <thead>\n",
        "    <tr style=\"text-align: right;\">\n",
        "      <th></th>\n",
        "      <th>Online_Date</th>\n",
        "      <th>Cap_MW</th>\n",
        "      <th>X</th>\n",
        "      <th>Y</th>\n",
        "      <th>LocAccu</th>\n",
        "    </tr>\n",
        "  </thead>\n",
        "  <tbody>\n",
        "    <tr>\n",
        "      <th>0</th>\n",
        "      <td>NaN</td>\n",
        "      <td>  20.0</td>\n",
        "      <td>-118.96</td>\n",
        "      <td> 35.10</td>\n",
        "      <td> 2</td>\n",
        "    </tr>\n",
        "    <tr>\n",
        "      <th>1</th>\n",
        "      <td>NaN</td>\n",
        "      <td>  12.5</td>\n",
        "      <td>-116.14</td>\n",
        "      <td> 34.64</td>\n",
        "      <td> 3</td>\n",
        "    </tr>\n",
        "    <tr>\n",
        "      <th>2</th>\n",
        "      <td>NaN</td>\n",
        "      <td>   2.0</td>\n",
        "      <td> -78.39</td>\n",
        "      <td> 35.54</td>\n",
        "      <td> 1</td>\n",
        "    </tr>\n",
        "    <tr>\n",
        "      <th>3</th>\n",
        "      <td>NaN</td>\n",
        "      <td> 359.0</td>\n",
        "      <td> -98.49</td>\n",
        "      <td> 29.41</td>\n",
        "      <td> 2</td>\n",
        "    </tr>\n",
        "    <tr>\n",
        "      <th>4</th>\n",
        "      <td>NaN</td>\n",
        "      <td>   2.6</td>\n",
        "      <td>-116.50</td>\n",
        "      <td> 33.95</td>\n",
        "      <td> 2</td>\n",
        "    </tr>\n",
        "  </tbody>\n",
        "</table>\n",
        "</div>"
       ],
       "metadata": {},
       "output_type": "pyout",
       "prompt_number": 15,
       "text": [
        "   Online_Date  Cap_MW       X      Y  LocAccu\n",
        "0          NaN    20.0 -118.96  35.10        2\n",
        "1          NaN    12.5 -116.14  34.64        3\n",
        "2          NaN     2.0  -78.39  35.54        1\n",
        "3          NaN   359.0  -98.49  29.41        2\n",
        "4          NaN     2.6 -116.50  33.95        2"
       ]
      }
     ],
     "prompt_number": 15
    },
    {
     "cell_type": "heading",
     "level": 2,
     "metadata": {},
     "source": [
      "1.5. Summary statistics"
     ]
    },
    {
     "cell_type": "markdown",
     "metadata": {},
     "source": [
      "The <b>.describe()</b> method gives you summary statistics about a DataFrame.\n",
      "\n",
      "It will automatically target only numeric columns."
     ]
    },
    {
     "cell_type": "code",
     "collapsed": false,
     "input": [
      "df.describe()"
     ],
     "language": "python",
     "metadata": {},
     "outputs": [
      {
       "html": [
        "<div style=\"max-height:1000px;max-width:1500px;overflow:auto;\">\n",
        "<table border=\"1\" class=\"dataframe\">\n",
        "  <thead>\n",
        "    <tr style=\"text-align: right;\">\n",
        "      <th></th>\n",
        "      <th>Online_Date</th>\n",
        "      <th>Cap_MW</th>\n",
        "      <th>X</th>\n",
        "      <th>Y</th>\n",
        "      <th>LocAccu</th>\n",
        "    </tr>\n",
        "  </thead>\n",
        "  <tbody>\n",
        "    <tr>\n",
        "      <th>count</th>\n",
        "      <td>     2.000000</td>\n",
        "      <td>  216.000000</td>\n",
        "      <td> 220.000000</td>\n",
        "      <td> 220.000000</td>\n",
        "      <td> 220.000000</td>\n",
        "    </tr>\n",
        "    <tr>\n",
        "      <th>mean</th>\n",
        "      <td> 21689.000000</td>\n",
        "      <td>   93.983796</td>\n",
        "      <td>-102.771318</td>\n",
        "      <td>  33.953955</td>\n",
        "      <td>   2.050000</td>\n",
        "    </tr>\n",
        "    <tr>\n",
        "      <th>std</th>\n",
        "      <td> 27826.066053</td>\n",
        "      <td>  232.195715</td>\n",
        "      <td>  28.233133</td>\n",
        "      <td>   8.142554</td>\n",
        "      <td>   0.716568</td>\n",
        "    </tr>\n",
        "    <tr>\n",
        "      <th>min</th>\n",
        "      <td>  2013.000000</td>\n",
        "      <td>    1.400000</td>\n",
        "      <td>-159.480000</td>\n",
        "      <td>   0.000000</td>\n",
        "      <td>   1.000000</td>\n",
        "    </tr>\n",
        "    <tr>\n",
        "      <th>25%</th>\n",
        "      <td> 11851.000000</td>\n",
        "      <td>    8.000000</td>\n",
        "      <td>-117.960000</td>\n",
        "      <td>  33.055000</td>\n",
        "      <td>   2.000000</td>\n",
        "    </tr>\n",
        "    <tr>\n",
        "      <th>50%</th>\n",
        "      <td> 21689.000000</td>\n",
        "      <td>   20.000000</td>\n",
        "      <td>-115.525000</td>\n",
        "      <td>  34.870000</td>\n",
        "      <td>   2.000000</td>\n",
        "    </tr>\n",
        "    <tr>\n",
        "      <th>75%</th>\n",
        "      <td> 31527.000000</td>\n",
        "      <td>   80.000000</td>\n",
        "      <td> -83.700000</td>\n",
        "      <td>  37.390000</td>\n",
        "      <td>   2.000000</td>\n",
        "    </tr>\n",
        "    <tr>\n",
        "      <th>max</th>\n",
        "      <td> 41365.000000</td>\n",
        "      <td> 2700.000000</td>\n",
        "      <td>   0.000000</td>\n",
        "      <td>  47.200000</td>\n",
        "      <td>   4.000000</td>\n",
        "    </tr>\n",
        "  </tbody>\n",
        "</table>\n",
        "</div>"
       ],
       "metadata": {},
       "output_type": "pyout",
       "prompt_number": 16,
       "text": [
        "        Online_Date       Cap_MW           X           Y     LocAccu\n",
        "count      2.000000   216.000000  220.000000  220.000000  220.000000\n",
        "mean   21689.000000    93.983796 -102.771318   33.953955    2.050000\n",
        "std    27826.066053   232.195715   28.233133    8.142554    0.716568\n",
        "min     2013.000000     1.400000 -159.480000    0.000000    1.000000\n",
        "25%    11851.000000     8.000000 -117.960000   33.055000    2.000000\n",
        "50%    21689.000000    20.000000 -115.525000   34.870000    2.000000\n",
        "75%    31527.000000    80.000000  -83.700000   37.390000    2.000000\n",
        "max    41365.000000  2700.000000    0.000000   47.200000    4.000000"
       ]
      }
     ],
     "prompt_number": 16
    },
    {
     "cell_type": "heading",
     "level": 2,
     "metadata": {},
     "source": [
      "1.6. Checking for missing data"
     ]
    },
    {
     "cell_type": "markdown",
     "metadata": {},
     "source": [
      "The <b>.isnull()</b> and <b>.notnull()</b> methods are used to detect null values in a dataset.\n",
      "\n",
      "The <b>.isnull()</b> method returns a boolean array indicating 'True' where null values are found.\n",
      "\n",
      "The <b>.notnull()</b> method returns a boolean array indicating 'False' where null values are found.\n",
      "\n",
      "Null values include both <b>'None'</b>-type entries, and entries containing <b>np.nan</b>\n",
      "\n",
      "Both methods return a boolean same-sized array."
     ]
    },
    {
     "cell_type": "code",
     "collapsed": false,
     "input": [
      "df.notnull().head()"
     ],
     "language": "python",
     "metadata": {},
     "outputs": [
      {
       "html": [
        "<div style=\"max-height:1000px;max-width:1500px;overflow:auto;\">\n",
        "<table border=\"1\" class=\"dataframe\">\n",
        "  <thead>\n",
        "    <tr style=\"text-align: right;\">\n",
        "      <th></th>\n",
        "      <th>Developer</th>\n",
        "      <th>Project_Name</th>\n",
        "      <th>Electricity_Purchaser</th>\n",
        "      <th>City/County</th>\n",
        "      <th>State</th>\n",
        "      <th>PV_CSP</th>\n",
        "      <th>Technology</th>\n",
        "      <th>Status</th>\n",
        "      <th>Land Type</th>\n",
        "      <th>Date_Announced</th>\n",
        "      <th>Online_Date</th>\n",
        "      <th>Cap_MW</th>\n",
        "      <th>X</th>\n",
        "      <th>Y</th>\n",
        "      <th>LocAccu</th>\n",
        "    </tr>\n",
        "  </thead>\n",
        "  <tbody>\n",
        "    <tr>\n",
        "      <th>0</th>\n",
        "      <td>  True</td>\n",
        "      <td> True</td>\n",
        "      <td>  True</td>\n",
        "      <td> True</td>\n",
        "      <td> True</td>\n",
        "      <td> True</td>\n",
        "      <td> True</td>\n",
        "      <td> True</td>\n",
        "      <td> True</td>\n",
        "      <td> False</td>\n",
        "      <td> False</td>\n",
        "      <td> True</td>\n",
        "      <td> True</td>\n",
        "      <td> True</td>\n",
        "      <td> True</td>\n",
        "    </tr>\n",
        "    <tr>\n",
        "      <th>1</th>\n",
        "      <td>  True</td>\n",
        "      <td> True</td>\n",
        "      <td>  True</td>\n",
        "      <td> True</td>\n",
        "      <td> True</td>\n",
        "      <td> True</td>\n",
        "      <td> True</td>\n",
        "      <td> True</td>\n",
        "      <td> True</td>\n",
        "      <td>  True</td>\n",
        "      <td> False</td>\n",
        "      <td> True</td>\n",
        "      <td> True</td>\n",
        "      <td> True</td>\n",
        "      <td> True</td>\n",
        "    </tr>\n",
        "    <tr>\n",
        "      <th>2</th>\n",
        "      <td>  True</td>\n",
        "      <td> True</td>\n",
        "      <td>  True</td>\n",
        "      <td> True</td>\n",
        "      <td> True</td>\n",
        "      <td> True</td>\n",
        "      <td> True</td>\n",
        "      <td> True</td>\n",
        "      <td> True</td>\n",
        "      <td>  True</td>\n",
        "      <td> False</td>\n",
        "      <td> True</td>\n",
        "      <td> True</td>\n",
        "      <td> True</td>\n",
        "      <td> True</td>\n",
        "    </tr>\n",
        "    <tr>\n",
        "      <th>3</th>\n",
        "      <td>  True</td>\n",
        "      <td> True</td>\n",
        "      <td>  True</td>\n",
        "      <td> True</td>\n",
        "      <td> True</td>\n",
        "      <td> True</td>\n",
        "      <td> True</td>\n",
        "      <td> True</td>\n",
        "      <td> True</td>\n",
        "      <td>  True</td>\n",
        "      <td> False</td>\n",
        "      <td> True</td>\n",
        "      <td> True</td>\n",
        "      <td> True</td>\n",
        "      <td> True</td>\n",
        "    </tr>\n",
        "    <tr>\n",
        "      <th>4</th>\n",
        "      <td> False</td>\n",
        "      <td> True</td>\n",
        "      <td> False</td>\n",
        "      <td> True</td>\n",
        "      <td> True</td>\n",
        "      <td> True</td>\n",
        "      <td> True</td>\n",
        "      <td> True</td>\n",
        "      <td> True</td>\n",
        "      <td>  True</td>\n",
        "      <td> False</td>\n",
        "      <td> True</td>\n",
        "      <td> True</td>\n",
        "      <td> True</td>\n",
        "      <td> True</td>\n",
        "    </tr>\n",
        "  </tbody>\n",
        "</table>\n",
        "</div>"
       ],
       "metadata": {},
       "output_type": "pyout",
       "prompt_number": 17,
       "text": [
        "  Developer Project_Name Electricity_Purchaser City/County State PV_CSP  \\\n",
        "0      True         True                  True        True  True   True   \n",
        "1      True         True                  True        True  True   True   \n",
        "2      True         True                  True        True  True   True   \n",
        "3      True         True                  True        True  True   True   \n",
        "4     False         True                 False        True  True   True   \n",
        "\n",
        "  Technology Status Land Type Date_Announced Online_Date Cap_MW     X     Y  \\\n",
        "0       True   True      True          False       False   True  True  True   \n",
        "1       True   True      True           True       False   True  True  True   \n",
        "2       True   True      True           True       False   True  True  True   \n",
        "3       True   True      True           True       False   True  True  True   \n",
        "4       True   True      True           True       False   True  True  True   \n",
        "\n",
        "  LocAccu  \n",
        "0    True  \n",
        "1    True  \n",
        "2    True  \n",
        "3    True  \n",
        "4    True  "
       ]
      }
     ],
     "prompt_number": 17
    },
    {
     "cell_type": "code",
     "collapsed": false,
     "input": [
      "df.isnull().head()"
     ],
     "language": "python",
     "metadata": {},
     "outputs": [
      {
       "html": [
        "<div style=\"max-height:1000px;max-width:1500px;overflow:auto;\">\n",
        "<table border=\"1\" class=\"dataframe\">\n",
        "  <thead>\n",
        "    <tr style=\"text-align: right;\">\n",
        "      <th></th>\n",
        "      <th>Developer</th>\n",
        "      <th>Project_Name</th>\n",
        "      <th>Electricity_Purchaser</th>\n",
        "      <th>City/County</th>\n",
        "      <th>State</th>\n",
        "      <th>PV_CSP</th>\n",
        "      <th>Technology</th>\n",
        "      <th>Status</th>\n",
        "      <th>Land Type</th>\n",
        "      <th>Date_Announced</th>\n",
        "      <th>Online_Date</th>\n",
        "      <th>Cap_MW</th>\n",
        "      <th>X</th>\n",
        "      <th>Y</th>\n",
        "      <th>LocAccu</th>\n",
        "    </tr>\n",
        "  </thead>\n",
        "  <tbody>\n",
        "    <tr>\n",
        "      <th>0</th>\n",
        "      <td> False</td>\n",
        "      <td> False</td>\n",
        "      <td> False</td>\n",
        "      <td> False</td>\n",
        "      <td> False</td>\n",
        "      <td> False</td>\n",
        "      <td> False</td>\n",
        "      <td> False</td>\n",
        "      <td> False</td>\n",
        "      <td>  True</td>\n",
        "      <td> True</td>\n",
        "      <td> False</td>\n",
        "      <td> False</td>\n",
        "      <td> False</td>\n",
        "      <td> False</td>\n",
        "    </tr>\n",
        "    <tr>\n",
        "      <th>1</th>\n",
        "      <td> False</td>\n",
        "      <td> False</td>\n",
        "      <td> False</td>\n",
        "      <td> False</td>\n",
        "      <td> False</td>\n",
        "      <td> False</td>\n",
        "      <td> False</td>\n",
        "      <td> False</td>\n",
        "      <td> False</td>\n",
        "      <td> False</td>\n",
        "      <td> True</td>\n",
        "      <td> False</td>\n",
        "      <td> False</td>\n",
        "      <td> False</td>\n",
        "      <td> False</td>\n",
        "    </tr>\n",
        "    <tr>\n",
        "      <th>2</th>\n",
        "      <td> False</td>\n",
        "      <td> False</td>\n",
        "      <td> False</td>\n",
        "      <td> False</td>\n",
        "      <td> False</td>\n",
        "      <td> False</td>\n",
        "      <td> False</td>\n",
        "      <td> False</td>\n",
        "      <td> False</td>\n",
        "      <td> False</td>\n",
        "      <td> True</td>\n",
        "      <td> False</td>\n",
        "      <td> False</td>\n",
        "      <td> False</td>\n",
        "      <td> False</td>\n",
        "    </tr>\n",
        "    <tr>\n",
        "      <th>3</th>\n",
        "      <td> False</td>\n",
        "      <td> False</td>\n",
        "      <td> False</td>\n",
        "      <td> False</td>\n",
        "      <td> False</td>\n",
        "      <td> False</td>\n",
        "      <td> False</td>\n",
        "      <td> False</td>\n",
        "      <td> False</td>\n",
        "      <td> False</td>\n",
        "      <td> True</td>\n",
        "      <td> False</td>\n",
        "      <td> False</td>\n",
        "      <td> False</td>\n",
        "      <td> False</td>\n",
        "    </tr>\n",
        "    <tr>\n",
        "      <th>4</th>\n",
        "      <td>  True</td>\n",
        "      <td> False</td>\n",
        "      <td>  True</td>\n",
        "      <td> False</td>\n",
        "      <td> False</td>\n",
        "      <td> False</td>\n",
        "      <td> False</td>\n",
        "      <td> False</td>\n",
        "      <td> False</td>\n",
        "      <td> False</td>\n",
        "      <td> True</td>\n",
        "      <td> False</td>\n",
        "      <td> False</td>\n",
        "      <td> False</td>\n",
        "      <td> False</td>\n",
        "    </tr>\n",
        "  </tbody>\n",
        "</table>\n",
        "</div>"
       ],
       "metadata": {},
       "output_type": "pyout",
       "prompt_number": 18,
       "text": [
        "  Developer Project_Name Electricity_Purchaser City/County  State PV_CSP  \\\n",
        "0     False        False                 False       False  False  False   \n",
        "1     False        False                 False       False  False  False   \n",
        "2     False        False                 False       False  False  False   \n",
        "3     False        False                 False       False  False  False   \n",
        "4      True        False                  True       False  False  False   \n",
        "\n",
        "  Technology Status Land Type Date_Announced Online_Date Cap_MW      X      Y  \\\n",
        "0      False  False     False           True        True  False  False  False   \n",
        "1      False  False     False          False        True  False  False  False   \n",
        "2      False  False     False          False        True  False  False  False   \n",
        "3      False  False     False          False        True  False  False  False   \n",
        "4      False  False     False          False        True  False  False  False   \n",
        "\n",
        "  LocAccu  \n",
        "0   False  \n",
        "1   False  \n",
        "2   False  \n",
        "3   False  \n",
        "4   False  "
       ]
      }
     ],
     "prompt_number": 18
    },
    {
     "cell_type": "markdown",
     "metadata": {},
     "source": [
      "To check if a single numeric entry is null, use <b>np.isnan()</b>"
     ]
    },
    {
     "cell_type": "code",
     "collapsed": false,
     "input": [
      "print np.isnan(df.loc[0,'Online_Date'])\n",
      "print np.isnan(df.loc[0,'Cap_MW'])"
     ],
     "language": "python",
     "metadata": {},
     "outputs": [
      {
       "output_type": "stream",
       "stream": "stdout",
       "text": [
        "True\n",
        "False\n"
       ]
      }
     ],
     "prompt_number": 19
    },
    {
     "cell_type": "heading",
     "level": 1,
     "metadata": {},
     "source": [
      "2. Changing metadata"
     ]
    },
    {
     "cell_type": "heading",
     "level": 2,
     "metadata": {},
     "source": [
      "2.1. Renaming axis labels"
     ]
    },
    {
     "cell_type": "heading",
     "level": 3,
     "metadata": {},
     "source": [
      "2.1.1. Renaming columns"
     ]
    },
    {
     "cell_type": "markdown",
     "metadata": {},
     "source": [
      "To rename columns, simply call the <b>.rename()</b> method on the DataFrame with the keyword argument <b>'columns'</b>.\n",
      "\n",
      "You will need to specify a dictionary of column names to rename.\n",
      "\n",
      "For instance, let's say we want to rename columns 'X' and 'Y' to 'latitude' and 'longitude', respectively:"
     ]
    },
    {
     "cell_type": "code",
     "collapsed": false,
     "input": [
      "df = df.rename(columns={'X':'latitude', 'Y':'longitude'})\n",
      "\n",
      "df[['latitude', 'longitude']].head()"
     ],
     "language": "python",
     "metadata": {},
     "outputs": [
      {
       "html": [
        "<div style=\"max-height:1000px;max-width:1500px;overflow:auto;\">\n",
        "<table border=\"1\" class=\"dataframe\">\n",
        "  <thead>\n",
        "    <tr style=\"text-align: right;\">\n",
        "      <th></th>\n",
        "      <th>latitude</th>\n",
        "      <th>longitude</th>\n",
        "    </tr>\n",
        "  </thead>\n",
        "  <tbody>\n",
        "    <tr>\n",
        "      <th>0</th>\n",
        "      <td>-118.96</td>\n",
        "      <td> 35.10</td>\n",
        "    </tr>\n",
        "    <tr>\n",
        "      <th>1</th>\n",
        "      <td>-116.14</td>\n",
        "      <td> 34.64</td>\n",
        "    </tr>\n",
        "    <tr>\n",
        "      <th>2</th>\n",
        "      <td> -78.39</td>\n",
        "      <td> 35.54</td>\n",
        "    </tr>\n",
        "    <tr>\n",
        "      <th>3</th>\n",
        "      <td> -98.49</td>\n",
        "      <td> 29.41</td>\n",
        "    </tr>\n",
        "    <tr>\n",
        "      <th>4</th>\n",
        "      <td>-116.50</td>\n",
        "      <td> 33.95</td>\n",
        "    </tr>\n",
        "  </tbody>\n",
        "</table>\n",
        "</div>"
       ],
       "metadata": {},
       "output_type": "pyout",
       "prompt_number": 20,
       "text": [
        "   latitude  longitude\n",
        "0   -118.96      35.10\n",
        "1   -116.14      34.64\n",
        "2    -78.39      35.54\n",
        "3    -98.49      29.41\n",
        "4   -116.50      33.95"
       ]
      }
     ],
     "prompt_number": 20
    },
    {
     "cell_type": "heading",
     "level": 3,
     "metadata": {},
     "source": [
      "2.1.2. Renaming rows"
     ]
    },
    {
     "cell_type": "markdown",
     "metadata": {},
     "source": [
      "To rename rows, call the <b>.rename()</b> method on the DataFrame with the keyword argument <b>'index'</b>"
     ]
    },
    {
     "cell_type": "code",
     "collapsed": false,
     "input": [
      "df = df.rename(index={0:'zero', 1:'one', 2:'two'})\n",
      "\n",
      "df.head(3)"
     ],
     "language": "python",
     "metadata": {},
     "outputs": [
      {
       "html": [
        "<div style=\"max-height:1000px;max-width:1500px;overflow:auto;\">\n",
        "<table border=\"1\" class=\"dataframe\">\n",
        "  <thead>\n",
        "    <tr style=\"text-align: right;\">\n",
        "      <th></th>\n",
        "      <th>Developer</th>\n",
        "      <th>Project_Name</th>\n",
        "      <th>Electricity_Purchaser</th>\n",
        "      <th>City/County</th>\n",
        "      <th>State</th>\n",
        "      <th>PV_CSP</th>\n",
        "      <th>Technology</th>\n",
        "      <th>Status</th>\n",
        "      <th>Land Type</th>\n",
        "      <th>Date_Announced</th>\n",
        "      <th>Online_Date</th>\n",
        "      <th>Cap_MW</th>\n",
        "      <th>latitude</th>\n",
        "      <th>longitude</th>\n",
        "      <th>LocAccu</th>\n",
        "    </tr>\n",
        "  </thead>\n",
        "  <tbody>\n",
        "    <tr>\n",
        "      <th>zero</th>\n",
        "      <td>                SunEdison</td>\n",
        "      <td>             Adobe Solar</td>\n",
        "      <td> Southern California Edison</td>\n",
        "      <td>           Kern County</td>\n",
        "      <td> CA</td>\n",
        "      <td> PV</td>\n",
        "      <td> Crystalline silicon</td>\n",
        "      <td> Under Development</td>\n",
        "      <td> Private</td>\n",
        "      <td>    NaN</td>\n",
        "      <td>NaN</td>\n",
        "      <td> 20.0</td>\n",
        "      <td>-118.96</td>\n",
        "      <td> 35.10</td>\n",
        "      <td> 2</td>\n",
        "    </tr>\n",
        "    <tr>\n",
        "      <th>one</th>\n",
        "      <td> Lincoln Renewable Energy</td>\n",
        "      <td> Agincourt Solar Project</td>\n",
        "      <td> Southern California Edison</td>\n",
        "      <td> San Bernardino County</td>\n",
        "      <td> CA</td>\n",
        "      <td> PV</td>\n",
        "      <td> Crystalline silicon</td>\n",
        "      <td> Under Development</td>\n",
        "      <td> Private</td>\n",
        "      <td> 12-Nov</td>\n",
        "      <td>NaN</td>\n",
        "      <td> 12.5</td>\n",
        "      <td>-116.14</td>\n",
        "      <td> 34.64</td>\n",
        "      <td> 3</td>\n",
        "    </tr>\n",
        "    <tr>\n",
        "      <th>two</th>\n",
        "      <td>            Argand Energy</td>\n",
        "      <td>  Airport Ground Solar 1</td>\n",
        "      <td>            Progress Energy</td>\n",
        "      <td>       Johnston County</td>\n",
        "      <td> NC</td>\n",
        "      <td> PV</td>\n",
        "      <td> Crystalline silicon</td>\n",
        "      <td> Under Development</td>\n",
        "      <td> Private</td>\n",
        "      <td> 12-Mar</td>\n",
        "      <td>NaN</td>\n",
        "      <td>  2.0</td>\n",
        "      <td> -78.39</td>\n",
        "      <td> 35.54</td>\n",
        "      <td> 1</td>\n",
        "    </tr>\n",
        "  </tbody>\n",
        "</table>\n",
        "</div>"
       ],
       "metadata": {},
       "output_type": "pyout",
       "prompt_number": 21,
       "text": [
        "                     Developer             Project_Name  \\\n",
        "zero                 SunEdison              Adobe Solar   \n",
        "one   Lincoln Renewable Energy  Agincourt Solar Project   \n",
        "two              Argand Energy   Airport Ground Solar 1   \n",
        "\n",
        "           Electricity_Purchaser            City/County State PV_CSP  \\\n",
        "zero  Southern California Edison            Kern County    CA     PV   \n",
        "one   Southern California Edison  San Bernardino County    CA     PV   \n",
        "two              Progress Energy        Johnston County    NC     PV   \n",
        "\n",
        "               Technology             Status Land Type Date_Announced  \\\n",
        "zero  Crystalline silicon  Under Development   Private            NaN   \n",
        "one   Crystalline silicon  Under Development   Private         12-Nov   \n",
        "two   Crystalline silicon  Under Development   Private         12-Mar   \n",
        "\n",
        "      Online_Date  Cap_MW  latitude  longitude  LocAccu  \n",
        "zero          NaN    20.0   -118.96      35.10        2  \n",
        "one           NaN    12.5   -116.14      34.64        3  \n",
        "two           NaN     2.0    -78.39      35.54        1  "
       ]
      }
     ],
     "prompt_number": 21
    },
    {
     "cell_type": "markdown",
     "metadata": {},
     "source": [
      "Note that in order to save our changes, we either need to set <b>df</b> equal to the renamed object (as we just did), or specify the keyword argument <b>'inplace=True'</b>."
     ]
    },
    {
     "cell_type": "code",
     "collapsed": false,
     "input": [
      "df.rename(index={'zero':0, 'one':1, 'two':2}, inplace=True)\n",
      "\n",
      "df.head(3)"
     ],
     "language": "python",
     "metadata": {},
     "outputs": [
      {
       "html": [
        "<div style=\"max-height:1000px;max-width:1500px;overflow:auto;\">\n",
        "<table border=\"1\" class=\"dataframe\">\n",
        "  <thead>\n",
        "    <tr style=\"text-align: right;\">\n",
        "      <th></th>\n",
        "      <th>Developer</th>\n",
        "      <th>Project_Name</th>\n",
        "      <th>Electricity_Purchaser</th>\n",
        "      <th>City/County</th>\n",
        "      <th>State</th>\n",
        "      <th>PV_CSP</th>\n",
        "      <th>Technology</th>\n",
        "      <th>Status</th>\n",
        "      <th>Land Type</th>\n",
        "      <th>Date_Announced</th>\n",
        "      <th>Online_Date</th>\n",
        "      <th>Cap_MW</th>\n",
        "      <th>latitude</th>\n",
        "      <th>longitude</th>\n",
        "      <th>LocAccu</th>\n",
        "    </tr>\n",
        "  </thead>\n",
        "  <tbody>\n",
        "    <tr>\n",
        "      <th>0</th>\n",
        "      <td>                SunEdison</td>\n",
        "      <td>             Adobe Solar</td>\n",
        "      <td> Southern California Edison</td>\n",
        "      <td>           Kern County</td>\n",
        "      <td> CA</td>\n",
        "      <td> PV</td>\n",
        "      <td> Crystalline silicon</td>\n",
        "      <td> Under Development</td>\n",
        "      <td> Private</td>\n",
        "      <td>    NaN</td>\n",
        "      <td>NaN</td>\n",
        "      <td> 20.0</td>\n",
        "      <td>-118.96</td>\n",
        "      <td> 35.10</td>\n",
        "      <td> 2</td>\n",
        "    </tr>\n",
        "    <tr>\n",
        "      <th>1</th>\n",
        "      <td> Lincoln Renewable Energy</td>\n",
        "      <td> Agincourt Solar Project</td>\n",
        "      <td> Southern California Edison</td>\n",
        "      <td> San Bernardino County</td>\n",
        "      <td> CA</td>\n",
        "      <td> PV</td>\n",
        "      <td> Crystalline silicon</td>\n",
        "      <td> Under Development</td>\n",
        "      <td> Private</td>\n",
        "      <td> 12-Nov</td>\n",
        "      <td>NaN</td>\n",
        "      <td> 12.5</td>\n",
        "      <td>-116.14</td>\n",
        "      <td> 34.64</td>\n",
        "      <td> 3</td>\n",
        "    </tr>\n",
        "    <tr>\n",
        "      <th>2</th>\n",
        "      <td>            Argand Energy</td>\n",
        "      <td>  Airport Ground Solar 1</td>\n",
        "      <td>            Progress Energy</td>\n",
        "      <td>       Johnston County</td>\n",
        "      <td> NC</td>\n",
        "      <td> PV</td>\n",
        "      <td> Crystalline silicon</td>\n",
        "      <td> Under Development</td>\n",
        "      <td> Private</td>\n",
        "      <td> 12-Mar</td>\n",
        "      <td>NaN</td>\n",
        "      <td>  2.0</td>\n",
        "      <td> -78.39</td>\n",
        "      <td> 35.54</td>\n",
        "      <td> 1</td>\n",
        "    </tr>\n",
        "  </tbody>\n",
        "</table>\n",
        "</div>"
       ],
       "metadata": {},
       "output_type": "pyout",
       "prompt_number": 22,
       "text": [
        "                  Developer             Project_Name  \\\n",
        "0                 SunEdison              Adobe Solar   \n",
        "1  Lincoln Renewable Energy  Agincourt Solar Project   \n",
        "2             Argand Energy   Airport Ground Solar 1   \n",
        "\n",
        "        Electricity_Purchaser            City/County State PV_CSP  \\\n",
        "0  Southern California Edison            Kern County    CA     PV   \n",
        "1  Southern California Edison  San Bernardino County    CA     PV   \n",
        "2             Progress Energy        Johnston County    NC     PV   \n",
        "\n",
        "            Technology             Status Land Type Date_Announced  \\\n",
        "0  Crystalline silicon  Under Development   Private            NaN   \n",
        "1  Crystalline silicon  Under Development   Private         12-Nov   \n",
        "2  Crystalline silicon  Under Development   Private         12-Mar   \n",
        "\n",
        "   Online_Date  Cap_MW  latitude  longitude  LocAccu  \n",
        "0          NaN    20.0   -118.96      35.10        2  \n",
        "1          NaN    12.5   -116.14      34.64        3  \n",
        "2          NaN     2.0    -78.39      35.54        1  "
       ]
      }
     ],
     "prompt_number": 22
    },
    {
     "cell_type": "heading",
     "level": 2,
     "metadata": {},
     "source": [
      "2.2. Renaming axes"
     ]
    },
    {
     "cell_type": "markdown",
     "metadata": {},
     "source": [
      "You can set the name of your axes by assigning the desired name to the <b>name</b> attribute."
     ]
    },
    {
     "cell_type": "code",
     "collapsed": false,
     "input": [
      "df.index.name = 'entries'"
     ],
     "language": "python",
     "metadata": {},
     "outputs": [],
     "prompt_number": 23
    },
    {
     "cell_type": "code",
     "collapsed": false,
     "input": [
      "df.columns.name = 'cols'"
     ],
     "language": "python",
     "metadata": {},
     "outputs": [],
     "prompt_number": 24
    },
    {
     "cell_type": "code",
     "collapsed": false,
     "input": [
      "df.head()"
     ],
     "language": "python",
     "metadata": {},
     "outputs": [
      {
       "html": [
        "<div style=\"max-height:1000px;max-width:1500px;overflow:auto;\">\n",
        "<table border=\"1\" class=\"dataframe\">\n",
        "  <thead>\n",
        "    <tr style=\"text-align: right;\">\n",
        "      <th>cols</th>\n",
        "      <th>Developer</th>\n",
        "      <th>Project_Name</th>\n",
        "      <th>Electricity_Purchaser</th>\n",
        "      <th>City/County</th>\n",
        "      <th>State</th>\n",
        "      <th>PV_CSP</th>\n",
        "      <th>Technology</th>\n",
        "      <th>Status</th>\n",
        "      <th>Land Type</th>\n",
        "      <th>Date_Announced</th>\n",
        "      <th>Online_Date</th>\n",
        "      <th>Cap_MW</th>\n",
        "      <th>latitude</th>\n",
        "      <th>longitude</th>\n",
        "      <th>LocAccu</th>\n",
        "    </tr>\n",
        "    <tr>\n",
        "      <th>entries</th>\n",
        "      <th></th>\n",
        "      <th></th>\n",
        "      <th></th>\n",
        "      <th></th>\n",
        "      <th></th>\n",
        "      <th></th>\n",
        "      <th></th>\n",
        "      <th></th>\n",
        "      <th></th>\n",
        "      <th></th>\n",
        "      <th></th>\n",
        "      <th></th>\n",
        "      <th></th>\n",
        "      <th></th>\n",
        "      <th></th>\n",
        "    </tr>\n",
        "  </thead>\n",
        "  <tbody>\n",
        "    <tr>\n",
        "      <th>0</th>\n",
        "      <td>                SunEdison</td>\n",
        "      <td>                Adobe Solar</td>\n",
        "      <td> Southern California Edison</td>\n",
        "      <td>           Kern County</td>\n",
        "      <td> CA</td>\n",
        "      <td> PV</td>\n",
        "      <td> Crystalline silicon</td>\n",
        "      <td> Under Development</td>\n",
        "      <td> Private</td>\n",
        "      <td>    NaN</td>\n",
        "      <td>NaN</td>\n",
        "      <td>  20.0</td>\n",
        "      <td>-118.96</td>\n",
        "      <td> 35.10</td>\n",
        "      <td> 2</td>\n",
        "    </tr>\n",
        "    <tr>\n",
        "      <th>1</th>\n",
        "      <td> Lincoln Renewable Energy</td>\n",
        "      <td>    Agincourt Solar Project</td>\n",
        "      <td> Southern California Edison</td>\n",
        "      <td> San Bernardino County</td>\n",
        "      <td> CA</td>\n",
        "      <td> PV</td>\n",
        "      <td> Crystalline silicon</td>\n",
        "      <td> Under Development</td>\n",
        "      <td> Private</td>\n",
        "      <td> 12-Nov</td>\n",
        "      <td>NaN</td>\n",
        "      <td>  12.5</td>\n",
        "      <td>-116.14</td>\n",
        "      <td> 34.64</td>\n",
        "      <td> 3</td>\n",
        "    </tr>\n",
        "    <tr>\n",
        "      <th>2</th>\n",
        "      <td>            Argand Energy</td>\n",
        "      <td>     Airport Ground Solar 1</td>\n",
        "      <td>            Progress Energy</td>\n",
        "      <td>       Johnston County</td>\n",
        "      <td> NC</td>\n",
        "      <td> PV</td>\n",
        "      <td> Crystalline silicon</td>\n",
        "      <td> Under Development</td>\n",
        "      <td> Private</td>\n",
        "      <td> 12-Mar</td>\n",
        "      <td>NaN</td>\n",
        "      <td>   2.0</td>\n",
        "      <td> -78.39</td>\n",
        "      <td> 35.54</td>\n",
        "      <td> 1</td>\n",
        "    </tr>\n",
        "    <tr>\n",
        "      <th>3</th>\n",
        "      <td>          OCI Solar Power</td>\n",
        "      <td>           Alamo Solar Farm</td>\n",
        "      <td>                 CPS Energy</td>\n",
        "      <td>           San Antonio</td>\n",
        "      <td> TX</td>\n",
        "      <td> PV</td>\n",
        "      <td> Crystalline silicon</td>\n",
        "      <td> Under Development</td>\n",
        "      <td> Private</td>\n",
        "      <td> 12-Jan</td>\n",
        "      <td>NaN</td>\n",
        "      <td> 359.0</td>\n",
        "      <td> -98.49</td>\n",
        "      <td> 29.41</td>\n",
        "      <td> 2</td>\n",
        "    </tr>\n",
        "    <tr>\n",
        "      <th>4</th>\n",
        "      <td>                      NaN</td>\n",
        "      <td> Aloha Solar Energy Project</td>\n",
        "      <td>                        NaN</td>\n",
        "      <td>    Desert Hot Springs</td>\n",
        "      <td> CA</td>\n",
        "      <td> PV</td>\n",
        "      <td> Crystalline silicon</td>\n",
        "      <td> Under Development</td>\n",
        "      <td> Private</td>\n",
        "      <td>   2012</td>\n",
        "      <td>NaN</td>\n",
        "      <td>   2.6</td>\n",
        "      <td>-116.50</td>\n",
        "      <td> 33.95</td>\n",
        "      <td> 2</td>\n",
        "    </tr>\n",
        "  </tbody>\n",
        "</table>\n",
        "</div>"
       ],
       "metadata": {},
       "output_type": "pyout",
       "prompt_number": 25,
       "text": [
        "cols                    Developer                Project_Name  \\\n",
        "entries                                                         \n",
        "0                       SunEdison                 Adobe Solar   \n",
        "1        Lincoln Renewable Energy     Agincourt Solar Project   \n",
        "2                   Argand Energy      Airport Ground Solar 1   \n",
        "3                 OCI Solar Power            Alamo Solar Farm   \n",
        "4                             NaN  Aloha Solar Energy Project   \n",
        "\n",
        "cols          Electricity_Purchaser            City/County State PV_CSP  \\\n",
        "entries                                                                   \n",
        "0        Southern California Edison            Kern County    CA     PV   \n",
        "1        Southern California Edison  San Bernardino County    CA     PV   \n",
        "2                   Progress Energy        Johnston County    NC     PV   \n",
        "3                        CPS Energy            San Antonio    TX     PV   \n",
        "4                               NaN     Desert Hot Springs    CA     PV   \n",
        "\n",
        "cols              Technology             Status Land Type Date_Announced  \\\n",
        "entries                                                                    \n",
        "0        Crystalline silicon  Under Development   Private            NaN   \n",
        "1        Crystalline silicon  Under Development   Private         12-Nov   \n",
        "2        Crystalline silicon  Under Development   Private         12-Mar   \n",
        "3        Crystalline silicon  Under Development   Private         12-Jan   \n",
        "4        Crystalline silicon  Under Development   Private           2012   \n",
        "\n",
        "cols     Online_Date  Cap_MW  latitude  longitude  LocAccu  \n",
        "entries                                                     \n",
        "0                NaN    20.0   -118.96      35.10        2  \n",
        "1                NaN    12.5   -116.14      34.64        3  \n",
        "2                NaN     2.0    -78.39      35.54        1  \n",
        "3                NaN   359.0    -98.49      29.41        2  \n",
        "4                NaN     2.6   -116.50      33.95        2  "
       ]
      }
     ],
     "prompt_number": 25
    },
    {
     "cell_type": "heading",
     "level": 2,
     "metadata": {},
     "source": [
      "2.3. Changing column datatypes"
     ]
    },
    {
     "cell_type": "markdown",
     "metadata": {},
     "source": [
      "Ok, this is really important. You can set the datatype of a column using the <b>.astype()</b> method."
     ]
    },
    {
     "cell_type": "markdown",
     "metadata": {},
     "source": [
      "Let's say we want to convert the <b>'Cap_MW'</b> field to a string type."
     ]
    },
    {
     "cell_type": "code",
     "collapsed": false,
     "input": [
      "df['Cap_MW'] = df['Cap_MW'].astype(str)\n",
      "\n",
      "df.loc[0, 'Cap_MW']"
     ],
     "language": "python",
     "metadata": {},
     "outputs": [
      {
       "metadata": {},
       "output_type": "pyout",
       "prompt_number": 26,
       "text": [
        "'20.0'"
       ]
      }
     ],
     "prompt_number": 26
    },
    {
     "cell_type": "markdown",
     "metadata": {},
     "source": [
      "We can convert it back to a float like so:"
     ]
    },
    {
     "cell_type": "code",
     "collapsed": false,
     "input": [
      "df['Cap_MW'] = df['Cap_MW'].astype(float)\n",
      "\n",
      "df.loc[0, 'Cap_MW']"
     ],
     "language": "python",
     "metadata": {},
     "outputs": [
      {
       "metadata": {},
       "output_type": "pyout",
       "prompt_number": 30,
       "text": [
        "20.0"
       ]
      }
     ],
     "prompt_number": 30
    },
    {
     "cell_type": "markdown",
     "metadata": {},
     "source": [
      "That's all for this mini-lesson!"
     ]
    },
    {
     "cell_type": "code",
     "collapsed": false,
     "input": [],
     "language": "python",
     "metadata": {},
     "outputs": []
    }
   ],
   "metadata": {}
  }
 ]
}