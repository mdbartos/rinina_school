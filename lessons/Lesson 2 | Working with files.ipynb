{
 "metadata": {
  "name": "",
  "signature": "sha256:abcdcb4d311e61024338a69f157e03ea1256b74322b3acb996de840e98db86ec"
 },
 "nbformat": 3,
 "nbformat_minor": 0,
 "worksheets": [
  {
   "cells": [
    {
     "cell_type": "heading",
     "level": 2,
     "metadata": {},
     "source": [
      "LESSON 2: WORKING WITH FILES"
     ]
    },
    {
     "cell_type": "markdown",
     "metadata": {},
     "source": [
      "Greetings. Welcome to your second day in rinina school. Today we will show you how to work with the files on your computer. Start by importing the following libraries:\n"
     ]
    },
    {
     "cell_type": "code",
     "collapsed": false,
     "input": [
      "import pandas as pd\n",
      "import numpy as np\n",
      "import os"
     ],
     "language": "python",
     "metadata": {},
     "outputs": [],
     "prompt_number": 1
    },
    {
     "cell_type": "markdown",
     "metadata": {},
     "source": [
      "What? A new module? What is this 'os'? 'os' refers to the operating system. It allows you to work with your operating system from within python. You can list the content of directories, get properties of files (like size), change the working directory, and lots of other cool stuff.\n",
      "\n",
      "The primary 'os' method that we're going to use in this lesson is:"
     ]
    },
    {
     "cell_type": "code",
     "collapsed": false,
     "input": [
      "os.listdir('.')"
     ],
     "language": "python",
     "metadata": {},
     "outputs": [
      {
       "metadata": {},
       "output_type": "pyout",
       "prompt_number": 2,
       "text": [
        "['Untitled0.ipynb', 'Personal', '.ipynb_checkpoints']"
       ]
      }
     ],
     "prompt_number": 2
    },
    {
     "cell_type": "markdown",
     "metadata": {},
     "source": [
      "This method creates a list containing the names of every file in a directory. '.' means the current working directory. You can put any path you want into the parentheses. Here are some other useful 'os' functions:"
     ]
    },
    {
     "cell_type": "code",
     "collapsed": false,
     "input": [
      "example_path = '/home/tabris/Pictures'\n",
      "\n",
      "os.chdir(example_path) #changes the working directory to the given path\n",
      "\n",
      "%pwd    #You can use the ipython magic function %pwd to print the working directory in ipython"
     ],
     "language": "python",
     "metadata": {},
     "outputs": [
      {
       "metadata": {},
       "output_type": "pyout",
       "prompt_number": 11,
       "text": [
        "u'/home/tabris/Pictures'"
       ]
      }
     ],
     "prompt_number": 11
    },
    {
     "cell_type": "code",
     "collapsed": false,
     "input": [
      "os.chdir('..') #goes up one directory\n",
      "\n",
      "%pwd"
     ],
     "language": "python",
     "metadata": {},
     "outputs": [
      {
       "metadata": {},
       "output_type": "pyout",
       "prompt_number": 12,
       "text": [
        "u'/home/tabris'"
       ]
      }
     ],
     "prompt_number": 12
    },
    {
     "cell_type": "code",
     "collapsed": false,
     "input": [
      "os.getcwd() #returns the current working directory as a string\n",
      "            #like %pwd except you can use it in your code"
     ],
     "language": "python",
     "metadata": {},
     "outputs": [
      {
       "metadata": {},
       "output_type": "pyout",
       "prompt_number": 14,
       "text": [
        "'/home/tabris'"
       ]
      }
     ],
     "prompt_number": 14
    },
    {
     "cell_type": "code",
     "collapsed": false,
     "input": [
      "os.mkdir('secret_folder') #makes a new directory (folder) in the current directory"
     ],
     "language": "python",
     "metadata": {},
     "outputs": [],
     "prompt_number": 18
    },
    {
     "cell_type": "code",
     "collapsed": false,
     "input": [
      "os.rmdir('secret_folder') #removes the named directory"
     ],
     "language": "python",
     "metadata": {},
     "outputs": [],
     "prompt_number": 20
    },
    {
     "cell_type": "code",
     "collapsed": false,
     "input": [
      "os.mkdir('/home/tabris/secret_folder') #you can specify the full path of the new directory, if you want to make it in a specific path"
     ],
     "language": "python",
     "metadata": {},
     "outputs": [],
     "prompt_number": 22
    },
    {
     "cell_type": "code",
     "collapsed": false,
     "input": [
      "os.path.exists('/home/tabris/secret_folder') #checks to see if a path exists, and returns True/False."
     ],
     "language": "python",
     "metadata": {},
     "outputs": [
      {
       "metadata": {},
       "output_type": "pyout",
       "prompt_number": 23,
       "text": [
        "True"
       ]
      }
     ],
     "prompt_number": 23
    },
    {
     "cell_type": "code",
     "collapsed": false,
     "input": [
      "os.rmdir('secret_folder')\n",
      "os.path.exists('/home/tabris/secret_folder')"
     ],
     "language": "python",
     "metadata": {},
     "outputs": [
      {
       "metadata": {},
       "output_type": "pyout",
       "prompt_number": 24,
       "text": [
        "False"
       ]
      }
     ],
     "prompt_number": 24
    },
    {
     "cell_type": "markdown",
     "metadata": {},
     "source": [
      "Ok, we'll come back to this later. First let's learn how to read files in pandas.\n",
      "\n",
      "The pandas library has many built-in methods for reading files. csv and txt files are generally the easiest to work with, although pandas also supports more advanced structures like excel files, and high-performance data structures like HDF5.\n",
      "\n",
      "To import plain csv and txt files as DataFrames, use the following method:"
     ]
    },
    {
     "cell_type": "code",
     "collapsed": false,
     "input": [
      "file_name = '/home/tabris/example.csv'\n",
      "\n",
      "df = pd.read_csv(file_name)"
     ],
     "language": "python",
     "metadata": {},
     "outputs": [],
     "prompt_number": 33
    },
    {
     "cell_type": "markdown",
     "metadata": {},
     "source": [
      "Wow, that was easy!\n",
      "Read csv assumes that the file is comma-delimited. For space or tab delimited files, specify the 'sep' argument:"
     ]
    },
    {
     "cell_type": "code",
     "collapsed": false,
     "input": [
      "df = pd.read_csv(file_name, sep=' ') #Where ' ' represents a space\n",
      "\n",
      "df = pd.read_csv(file_name, sep='\\t') #Where '\\t' represents tab.\n",
      "\n",
      "df"
     ],
     "language": "python",
     "metadata": {},
     "outputs": [
      {
       "html": [
        "<div style=\"max-height:1000px;max-width:1500px;overflow:auto;\">\n",
        "<table border=\"1\" class=\"dataframe\">\n",
        "  <thead>\n",
        "    <tr style=\"text-align: right;\">\n",
        "      <th></th>\n",
        "      <th>5544</th>\n",
        "      <th>12181100</th>\n",
        "      <th>SF CASCADE R AT S CASCADE GL NR MARBLEMOUNT, WA</th>\n",
        "      <th>48.37012395</th>\n",
        "      <th>-121.07427559</th>\n",
        "    </tr>\n",
        "  </thead>\n",
        "  <tbody>\n",
        "    <tr>\n",
        "      <th>0 </th>\n",
        "      <td> 5545</td>\n",
        "      <td> 12182500</td>\n",
        "      <td>                  CASCADE RIVER AT MARBLEMOUNT, WA</td>\n",
        "      <td> 48.526786</td>\n",
        "      <td>-121.415127</td>\n",
        "    </tr>\n",
        "    <tr>\n",
        "      <th>1 </th>\n",
        "      <td> 5546</td>\n",
        "      <td> 12181000</td>\n",
        "      <td>                   SKAGIT RIVER AT MARBLEMOUNT, WA</td>\n",
        "      <td> 48.533731</td>\n",
        "      <td>-121.429850</td>\n",
        "    </tr>\n",
        "    <tr>\n",
        "      <th>2 </th>\n",
        "      <td> 5547</td>\n",
        "      <td> 12193500</td>\n",
        "      <td>                       BAKER RIVER AT CONCRETE, WA</td>\n",
        "      <td> 48.539837</td>\n",
        "      <td>-121.743196</td>\n",
        "    </tr>\n",
        "    <tr>\n",
        "      <th>3 </th>\n",
        "      <td> 5548</td>\n",
        "      <td> 12179000</td>\n",
        "      <td> SKAGIT RIVER ABOVE ALMA CREEK NEAR MARBLEMOUNT...</td>\n",
        "      <td> 48.607345</td>\n",
        "      <td>-121.361515</td>\n",
        "    </tr>\n",
        "    <tr>\n",
        "      <th>4 </th>\n",
        "      <td> 5549</td>\n",
        "      <td> 12178100</td>\n",
        "      <td>                  NEWHALEM CREEK NEAR NEWHALEM, WA</td>\n",
        "      <td> 48.655959</td>\n",
        "      <td>-121.238456</td>\n",
        "    </tr>\n",
        "    <tr>\n",
        "      <th>5 </th>\n",
        "      <td> 5550</td>\n",
        "      <td> 12178000</td>\n",
        "      <td>                      SKAGIT RIVER AT NEWHALEM, WA</td>\n",
        "      <td> 48.671792</td>\n",
        "      <td>-121.246235</td>\n",
        "    </tr>\n",
        "    <tr>\n",
        "      <th>6 </th>\n",
        "      <td> 5551</td>\n",
        "      <td> 12175500</td>\n",
        "      <td>                   THUNDER CREEK NEAR NEWHALEM, WA</td>\n",
        "      <td> 48.672629</td>\n",
        "      <td>-121.072896</td>\n",
        "    </tr>\n",
        "    <tr>\n",
        "      <th>7 </th>\n",
        "      <td> 5552</td>\n",
        "      <td> 12177500</td>\n",
        "      <td>                 STETATTLE CREEK NEAR NEWHALEM, WA</td>\n",
        "      <td> 48.722073</td>\n",
        "      <td>-121.150678</td>\n",
        "    </tr>\n",
        "    <tr>\n",
        "      <th>8 </th>\n",
        "      <td> 5553</td>\n",
        "      <td> 12186000</td>\n",
        "      <td> SAUK RIVER AB WHITECHUCK RIVER NEAR DARRINGTON...</td>\n",
        "      <td> 48.168720</td>\n",
        "      <td>-121.470672</td>\n",
        "    </tr>\n",
        "    <tr>\n",
        "      <th>9 </th>\n",
        "      <td> 5554</td>\n",
        "      <td> 12189500</td>\n",
        "      <td>                          SAUK RIVER NEAR SAUK, WA</td>\n",
        "      <td> 48.424559</td>\n",
        "      <td>-121.568463</td>\n",
        "    </tr>\n",
        "    <tr>\n",
        "      <th>10</th>\n",
        "      <td> 5556</td>\n",
        "      <td> 12194000</td>\n",
        "      <td>                    SKAGIT RIVER NEAR CONCRETE, WA</td>\n",
        "      <td> 48.524281</td>\n",
        "      <td>-121.770974</td>\n",
        "    </tr>\n",
        "  </tbody>\n",
        "</table>\n",
        "</div>"
       ],
       "metadata": {},
       "output_type": "pyout",
       "prompt_number": 38,
       "text": [
        "    5544  12181100    SF CASCADE R AT S CASCADE GL NR MARBLEMOUNT, WA  \\\n",
        "0   5545  12182500                   CASCADE RIVER AT MARBLEMOUNT, WA   \n",
        "1   5546  12181000                    SKAGIT RIVER AT MARBLEMOUNT, WA   \n",
        "2   5547  12193500                        BAKER RIVER AT CONCRETE, WA   \n",
        "3   5548  12179000  SKAGIT RIVER ABOVE ALMA CREEK NEAR MARBLEMOUNT...   \n",
        "4   5549  12178100                   NEWHALEM CREEK NEAR NEWHALEM, WA   \n",
        "5   5550  12178000                       SKAGIT RIVER AT NEWHALEM, WA   \n",
        "6   5551  12175500                    THUNDER CREEK NEAR NEWHALEM, WA   \n",
        "7   5552  12177500                  STETATTLE CREEK NEAR NEWHALEM, WA   \n",
        "8   5553  12186000  SAUK RIVER AB WHITECHUCK RIVER NEAR DARRINGTON...   \n",
        "9   5554  12189500                           SAUK RIVER NEAR SAUK, WA   \n",
        "10  5556  12194000                     SKAGIT RIVER NEAR CONCRETE, WA   \n",
        "\n",
        "    48.37012395  -121.07427559  \n",
        "0     48.526786    -121.415127  \n",
        "1     48.533731    -121.429850  \n",
        "2     48.539837    -121.743196  \n",
        "3     48.607345    -121.361515  \n",
        "4     48.655959    -121.238456  \n",
        "5     48.671792    -121.246235  \n",
        "6     48.672629    -121.072896  \n",
        "7     48.722073    -121.150678  \n",
        "8     48.168720    -121.470672  \n",
        "9     48.424559    -121.568463  \n",
        "10    48.524281    -121.770974  "
       ]
      }
     ],
     "prompt_number": 38
    },
    {
     "cell_type": "markdown",
     "metadata": {},
     "source": [
      "If the csv contains a header that takes up the first four rows, tell the csv reader method to skip the first four rows:"
     ]
    },
    {
     "cell_type": "code",
     "collapsed": false,
     "input": [
      "pd.read_csv(file_name, sep='\\t', skiprows=4)"
     ],
     "language": "python",
     "metadata": {},
     "outputs": [
      {
       "html": [
        "<div style=\"max-height:1000px;max-width:1500px;overflow:auto;\">\n",
        "<table border=\"1\" class=\"dataframe\">\n",
        "  <thead>\n",
        "    <tr style=\"text-align: right;\">\n",
        "      <th></th>\n",
        "      <th>5548</th>\n",
        "      <th>12179000</th>\n",
        "      <th>SKAGIT RIVER ABOVE ALMA CREEK NEAR MARBLEMOUNT, WA</th>\n",
        "      <th>48.60734468</th>\n",
        "      <th>-121.36151548</th>\n",
        "    </tr>\n",
        "  </thead>\n",
        "  <tbody>\n",
        "    <tr>\n",
        "      <th>0</th>\n",
        "      <td> 5549</td>\n",
        "      <td> 12178100</td>\n",
        "      <td>                  NEWHALEM CREEK NEAR NEWHALEM, WA</td>\n",
        "      <td> 48.655959</td>\n",
        "      <td>-121.238456</td>\n",
        "    </tr>\n",
        "    <tr>\n",
        "      <th>1</th>\n",
        "      <td> 5550</td>\n",
        "      <td> 12178000</td>\n",
        "      <td>                      SKAGIT RIVER AT NEWHALEM, WA</td>\n",
        "      <td> 48.671792</td>\n",
        "      <td>-121.246235</td>\n",
        "    </tr>\n",
        "    <tr>\n",
        "      <th>2</th>\n",
        "      <td> 5551</td>\n",
        "      <td> 12175500</td>\n",
        "      <td>                   THUNDER CREEK NEAR NEWHALEM, WA</td>\n",
        "      <td> 48.672629</td>\n",
        "      <td>-121.072896</td>\n",
        "    </tr>\n",
        "    <tr>\n",
        "      <th>3</th>\n",
        "      <td> 5552</td>\n",
        "      <td> 12177500</td>\n",
        "      <td>                 STETATTLE CREEK NEAR NEWHALEM, WA</td>\n",
        "      <td> 48.722073</td>\n",
        "      <td>-121.150678</td>\n",
        "    </tr>\n",
        "    <tr>\n",
        "      <th>4</th>\n",
        "      <td> 5553</td>\n",
        "      <td> 12186000</td>\n",
        "      <td> SAUK RIVER AB WHITECHUCK RIVER NEAR DARRINGTON...</td>\n",
        "      <td> 48.168720</td>\n",
        "      <td>-121.470672</td>\n",
        "    </tr>\n",
        "    <tr>\n",
        "      <th>5</th>\n",
        "      <td> 5554</td>\n",
        "      <td> 12189500</td>\n",
        "      <td>                          SAUK RIVER NEAR SAUK, WA</td>\n",
        "      <td> 48.424559</td>\n",
        "      <td>-121.568463</td>\n",
        "    </tr>\n",
        "    <tr>\n",
        "      <th>6</th>\n",
        "      <td> 5556</td>\n",
        "      <td> 12194000</td>\n",
        "      <td>                    SKAGIT RIVER NEAR CONCRETE, WA</td>\n",
        "      <td> 48.524281</td>\n",
        "      <td>-121.770974</td>\n",
        "    </tr>\n",
        "  </tbody>\n",
        "</table>\n",
        "</div>"
       ],
       "metadata": {},
       "output_type": "pyout",
       "prompt_number": 36,
       "text": [
        "   5548  12179000 SKAGIT RIVER ABOVE ALMA CREEK NEAR MARBLEMOUNT, WA  \\\n",
        "0  5549  12178100                   NEWHALEM CREEK NEAR NEWHALEM, WA   \n",
        "1  5550  12178000                       SKAGIT RIVER AT NEWHALEM, WA   \n",
        "2  5551  12175500                    THUNDER CREEK NEAR NEWHALEM, WA   \n",
        "3  5552  12177500                  STETATTLE CREEK NEAR NEWHALEM, WA   \n",
        "4  5553  12186000  SAUK RIVER AB WHITECHUCK RIVER NEAR DARRINGTON...   \n",
        "5  5554  12189500                           SAUK RIVER NEAR SAUK, WA   \n",
        "6  5556  12194000                     SKAGIT RIVER NEAR CONCRETE, WA   \n",
        "\n",
        "   48.60734468  -121.36151548  \n",
        "0    48.655959    -121.238456  \n",
        "1    48.671792    -121.246235  \n",
        "2    48.672629    -121.072896  \n",
        "3    48.722073    -121.150678  \n",
        "4    48.168720    -121.470672  \n",
        "5    48.424559    -121.568463  \n",
        "6    48.524281    -121.770974  "
       ]
      }
     ],
     "prompt_number": 36
    },
    {
     "cell_type": "markdown",
     "metadata": {},
     "source": [
      "You can check out more optional arguments by typing pd.read_csv? in the ipython shell, or by visiting the pandas API online."
     ]
    },
    {
     "cell_type": "markdown",
     "metadata": {},
     "source": [
      "To read excel files, you have to specify the sheet that you want to read. Call the read_excel method:"
     ]
    },
    {
     "cell_type": "code",
     "collapsed": false,
     "input": [
      "xl_file_name = ''\n",
      "xl_sheet_name = ''\n",
      "\n",
      "xl_df = pd.read_excel(xl_file_name, xl_sheet_name)"
     ],
     "language": "python",
     "metadata": {},
     "outputs": [
      {
       "ename": "IOError",
       "evalue": "[Errno 2] No such file or directory: ''",
       "output_type": "pyerr",
       "traceback": [
        "\u001b[1;31m---------------------------------------------------------------------------\u001b[0m\n\u001b[1;31mIOError\u001b[0m                                   Traceback (most recent call last)",
        "\u001b[1;32m<ipython-input-32-16b31e1fa265>\u001b[0m in \u001b[0;36m<module>\u001b[1;34m()\u001b[0m\n\u001b[0;32m      2\u001b[0m \u001b[0mxl_sheet_name\u001b[0m \u001b[1;33m=\u001b[0m \u001b[1;34m''\u001b[0m\u001b[1;33m\u001b[0m\u001b[0m\n\u001b[0;32m      3\u001b[0m \u001b[1;33m\u001b[0m\u001b[0m\n\u001b[1;32m----> 4\u001b[1;33m \u001b[0mdf\u001b[0m \u001b[1;33m=\u001b[0m \u001b[0mpd\u001b[0m\u001b[1;33m.\u001b[0m\u001b[0mread_excel\u001b[0m\u001b[1;33m(\u001b[0m\u001b[0mxl_file_name\u001b[0m\u001b[1;33m,\u001b[0m \u001b[0mxl_sheet_name\u001b[0m\u001b[1;33m)\u001b[0m\u001b[1;33m\u001b[0m\u001b[0m\n\u001b[0m",
        "\u001b[1;32m/usr/local/lib/python2.7/dist-packages/pandas/io/excel.pyc\u001b[0m in \u001b[0;36mread_excel\u001b[1;34m(io, sheetname, **kwds)\u001b[0m\n\u001b[0;32m    111\u001b[0m     \u001b[0mengine\u001b[0m \u001b[1;33m=\u001b[0m \u001b[0mkwds\u001b[0m\u001b[1;33m.\u001b[0m\u001b[0mpop\u001b[0m\u001b[1;33m(\u001b[0m\u001b[1;34m'engine'\u001b[0m\u001b[1;33m,\u001b[0m \u001b[0mNone\u001b[0m\u001b[1;33m)\u001b[0m\u001b[1;33m\u001b[0m\u001b[0m\n\u001b[0;32m    112\u001b[0m \u001b[1;33m\u001b[0m\u001b[0m\n\u001b[1;32m--> 113\u001b[1;33m     \u001b[1;32mreturn\u001b[0m \u001b[0mExcelFile\u001b[0m\u001b[1;33m(\u001b[0m\u001b[0mio\u001b[0m\u001b[1;33m,\u001b[0m \u001b[0mengine\u001b[0m\u001b[1;33m=\u001b[0m\u001b[0mengine\u001b[0m\u001b[1;33m)\u001b[0m\u001b[1;33m.\u001b[0m\u001b[0mparse\u001b[0m\u001b[1;33m(\u001b[0m\u001b[0msheetname\u001b[0m\u001b[1;33m=\u001b[0m\u001b[0msheetname\u001b[0m\u001b[1;33m,\u001b[0m \u001b[1;33m**\u001b[0m\u001b[0mkwds\u001b[0m\u001b[1;33m)\u001b[0m\u001b[1;33m\u001b[0m\u001b[0m\n\u001b[0m\u001b[0;32m    114\u001b[0m \u001b[1;33m\u001b[0m\u001b[0m\n\u001b[0;32m    115\u001b[0m \u001b[1;33m\u001b[0m\u001b[0m\n",
        "\u001b[1;32m/usr/local/lib/python2.7/dist-packages/pandas/io/excel.pyc\u001b[0m in \u001b[0;36m__init__\u001b[1;34m(self, io, **kwds)\u001b[0m\n\u001b[0;32m    148\u001b[0m                 \u001b[0mself\u001b[0m\u001b[1;33m.\u001b[0m\u001b[0mbook\u001b[0m \u001b[1;33m=\u001b[0m \u001b[0mxlrd\u001b[0m\u001b[1;33m.\u001b[0m\u001b[0mopen_workbook\u001b[0m\u001b[1;33m(\u001b[0m\u001b[0mfile_contents\u001b[0m\u001b[1;33m=\u001b[0m\u001b[0mdata\u001b[0m\u001b[1;33m)\u001b[0m\u001b[1;33m\u001b[0m\u001b[0m\n\u001b[0;32m    149\u001b[0m             \u001b[1;32melse\u001b[0m\u001b[1;33m:\u001b[0m\u001b[1;33m\u001b[0m\u001b[0m\n\u001b[1;32m--> 150\u001b[1;33m                 \u001b[0mself\u001b[0m\u001b[1;33m.\u001b[0m\u001b[0mbook\u001b[0m \u001b[1;33m=\u001b[0m \u001b[0mxlrd\u001b[0m\u001b[1;33m.\u001b[0m\u001b[0mopen_workbook\u001b[0m\u001b[1;33m(\u001b[0m\u001b[0mio\u001b[0m\u001b[1;33m)\u001b[0m\u001b[1;33m\u001b[0m\u001b[0m\n\u001b[0m\u001b[0;32m    151\u001b[0m         \u001b[1;32melif\u001b[0m \u001b[0mengine\u001b[0m \u001b[1;33m==\u001b[0m \u001b[1;34m'xlrd'\u001b[0m \u001b[1;32mand\u001b[0m \u001b[0misinstance\u001b[0m\u001b[1;33m(\u001b[0m\u001b[0mio\u001b[0m\u001b[1;33m,\u001b[0m \u001b[0mxlrd\u001b[0m\u001b[1;33m.\u001b[0m\u001b[0mBook\u001b[0m\u001b[1;33m)\u001b[0m\u001b[1;33m:\u001b[0m\u001b[1;33m\u001b[0m\u001b[0m\n\u001b[0;32m    152\u001b[0m             \u001b[0mself\u001b[0m\u001b[1;33m.\u001b[0m\u001b[0mbook\u001b[0m \u001b[1;33m=\u001b[0m \u001b[0mio\u001b[0m\u001b[1;33m\u001b[0m\u001b[0m\n",
        "\u001b[1;32m/usr/local/lib/python2.7/dist-packages/xlrd/__init__.pyc\u001b[0m in \u001b[0;36mopen_workbook\u001b[1;34m(filename, logfile, verbosity, use_mmap, file_contents, encoding_override, formatting_info, on_demand, ragged_rows)\u001b[0m\n\u001b[0;32m    392\u001b[0m         \u001b[0mpeek\u001b[0m \u001b[1;33m=\u001b[0m \u001b[0mfile_contents\u001b[0m\u001b[1;33m[\u001b[0m\u001b[1;33m:\u001b[0m\u001b[0mpeeksz\u001b[0m\u001b[1;33m]\u001b[0m\u001b[1;33m\u001b[0m\u001b[0m\n\u001b[0;32m    393\u001b[0m     \u001b[1;32melse\u001b[0m\u001b[1;33m:\u001b[0m\u001b[1;33m\u001b[0m\u001b[0m\n\u001b[1;32m--> 394\u001b[1;33m         \u001b[0mf\u001b[0m \u001b[1;33m=\u001b[0m \u001b[0mopen\u001b[0m\u001b[1;33m(\u001b[0m\u001b[0mfilename\u001b[0m\u001b[1;33m,\u001b[0m \u001b[1;34m\"rb\"\u001b[0m\u001b[1;33m)\u001b[0m\u001b[1;33m\u001b[0m\u001b[0m\n\u001b[0m\u001b[0;32m    395\u001b[0m         \u001b[0mpeek\u001b[0m \u001b[1;33m=\u001b[0m \u001b[0mf\u001b[0m\u001b[1;33m.\u001b[0m\u001b[0mread\u001b[0m\u001b[1;33m(\u001b[0m\u001b[0mpeeksz\u001b[0m\u001b[1;33m)\u001b[0m\u001b[1;33m\u001b[0m\u001b[0m\n\u001b[0;32m    396\u001b[0m         \u001b[0mf\u001b[0m\u001b[1;33m.\u001b[0m\u001b[0mclose\u001b[0m\u001b[1;33m(\u001b[0m\u001b[1;33m)\u001b[0m\u001b[1;33m\u001b[0m\u001b[0m\n",
        "\u001b[1;31mIOError\u001b[0m: [Errno 2] No such file or directory: ''"
       ]
      }
     ],
     "prompt_number": 32
    },
    {
     "cell_type": "markdown",
     "metadata": {},
     "source": [
      "Keep in mind that excel files are often not formatted exactly like rectangular tables. You may need to pass in a skiprows argument to skip extraneous headers, etc.\n",
      "\n",
      "Often you may end up with a bunch of columns filled with nulls. You can drop null rows/columns using the dropna() method"
     ]
    },
    {
     "cell_type": "code",
     "collapsed": false,
     "input": [
      "df.dropna()"
     ],
     "language": "python",
     "metadata": {},
     "outputs": [
      {
       "html": [
        "<div style=\"max-height:1000px;max-width:1500px;overflow:auto;\">\n",
        "<table border=\"1\" class=\"dataframe\">\n",
        "  <thead>\n",
        "    <tr style=\"text-align: right;\">\n",
        "      <th></th>\n",
        "      <th>5544\t12181100\tSF CASCADE R AT S CASCADE GL NR MARBLEMOUNT</th>\n",
        "      <th> WA\t48.37012395\t-121.07427559</th>\n",
        "    </tr>\n",
        "  </thead>\n",
        "  <tbody>\n",
        "    <tr>\n",
        "      <th>0 </th>\n",
        "      <td>      5545\\t12182500\\tCASCADE RIVER AT MARBLEMOUNT</td>\n",
        "      <td>  WA\\t48.52678627\\t-121.41512679</td>\n",
        "    </tr>\n",
        "    <tr>\n",
        "      <th>1 </th>\n",
        "      <td>       5546\\t12181000\\tSKAGIT RIVER AT MARBLEMOUNT</td>\n",
        "      <td>  WA\\t48.53373063\\t-121.42984992</td>\n",
        "    </tr>\n",
        "    <tr>\n",
        "      <th>2 </th>\n",
        "      <td>           5547\\t12193500\\tBAKER RIVER AT CONCRETE</td>\n",
        "      <td>   WA\\t48.53983699\\t-121.7431956</td>\n",
        "    </tr>\n",
        "    <tr>\n",
        "      <th>3 </th>\n",
        "      <td> 5548\\t12179000\\tSKAGIT RIVER ABOVE ALMA CREEK ...</td>\n",
        "      <td>  WA\\t48.60734468\\t-121.36151548</td>\n",
        "    </tr>\n",
        "    <tr>\n",
        "      <th>4 </th>\n",
        "      <td>      5549\\t12178100\\tNEWHALEM CREEK NEAR NEWHALEM</td>\n",
        "      <td>  WA\\t48.65595877\\t-121.23845625</td>\n",
        "    </tr>\n",
        "    <tr>\n",
        "      <th>5 </th>\n",
        "      <td>          5550\\t12178000\\tSKAGIT RIVER AT NEWHALEM</td>\n",
        "      <td>  WA\\t48.67179229\\t-121.24623479</td>\n",
        "    </tr>\n",
        "    <tr>\n",
        "      <th>6 </th>\n",
        "      <td>       5551\\t12175500\\tTHUNDER CREEK NEAR NEWHALEM</td>\n",
        "      <td>  WA\\t48.67262872\\t-121.07289644</td>\n",
        "    </tr>\n",
        "    <tr>\n",
        "      <th>7 </th>\n",
        "      <td>     5552\\t12177500\\tSTETATTLE CREEK NEAR NEWHALEM</td>\n",
        "      <td>     WA\\t48.7220726\\t-121.150678</td>\n",
        "    </tr>\n",
        "    <tr>\n",
        "      <th>8 </th>\n",
        "      <td> 5553\\t12186000\\tSAUK RIVER AB WHITECHUCK RIVER...</td>\n",
        "      <td>  WA\\t48.16872009\\t-121.47067234</td>\n",
        "    </tr>\n",
        "    <tr>\n",
        "      <th>9 </th>\n",
        "      <td>              5554\\t12189500\\tSAUK RIVER NEAR SAUK</td>\n",
        "      <td>   WA\\t48.42455859\\t-121.5684634</td>\n",
        "    </tr>\n",
        "    <tr>\n",
        "      <th>10</th>\n",
        "      <td>        5556\\t12194000\\tSKAGIT RIVER NEAR CONCRETE</td>\n",
        "      <td>  WA\\t48.52428059\\t-121.77097407</td>\n",
        "    </tr>\n",
        "  </tbody>\n",
        "</table>\n",
        "</div>"
       ],
       "metadata": {},
       "output_type": "pyout",
       "prompt_number": 34,
       "text": [
        "   5544\\t12181100\\tSF CASCADE R AT S CASCADE GL NR MARBLEMOUNT  \\\n",
        "0        5545\\t12182500\\tCASCADE RIVER AT MARBLEMOUNT            \n",
        "1         5546\\t12181000\\tSKAGIT RIVER AT MARBLEMOUNT            \n",
        "2             5547\\t12193500\\tBAKER RIVER AT CONCRETE            \n",
        "3   5548\\t12179000\\tSKAGIT RIVER ABOVE ALMA CREEK ...            \n",
        "4        5549\\t12178100\\tNEWHALEM CREEK NEAR NEWHALEM            \n",
        "5            5550\\t12178000\\tSKAGIT RIVER AT NEWHALEM            \n",
        "6         5551\\t12175500\\tTHUNDER CREEK NEAR NEWHALEM            \n",
        "7       5552\\t12177500\\tSTETATTLE CREEK NEAR NEWHALEM            \n",
        "8   5553\\t12186000\\tSAUK RIVER AB WHITECHUCK RIVER...            \n",
        "9                5554\\t12189500\\tSAUK RIVER NEAR SAUK            \n",
        "10         5556\\t12194000\\tSKAGIT RIVER NEAR CONCRETE            \n",
        "\n",
        "     WA\\t48.37012395\\t-121.07427559  \n",
        "0    WA\\t48.52678627\\t-121.41512679  \n",
        "1    WA\\t48.53373063\\t-121.42984992  \n",
        "2     WA\\t48.53983699\\t-121.7431956  \n",
        "3    WA\\t48.60734468\\t-121.36151548  \n",
        "4    WA\\t48.65595877\\t-121.23845625  \n",
        "5    WA\\t48.67179229\\t-121.24623479  \n",
        "6    WA\\t48.67262872\\t-121.07289644  \n",
        "7       WA\\t48.7220726\\t-121.150678  \n",
        "8    WA\\t48.16872009\\t-121.47067234  \n",
        "9     WA\\t48.42455859\\t-121.5684634  \n",
        "10   WA\\t48.52428059\\t-121.77097407  "
       ]
      }
     ],
     "prompt_number": 34
    },
    {
     "cell_type": "markdown",
     "metadata": {},
     "source": [
      "More often than not, you will want to drop rows that contain nulls only in a particular column or list of columns. You can do so like this:"
     ]
    },
    {
     "cell_type": "code",
     "collapsed": false,
     "input": [
      "df.dropna(subset=[<COLUMN NAME>])"
     ],
     "language": "python",
     "metadata": {},
     "outputs": [
      {
       "ename": "SyntaxError",
       "evalue": "invalid syntax (<ipython-input-39-af98e7075b4d>, line 1)",
       "output_type": "pyerr",
       "traceback": [
        "\u001b[1;36m  File \u001b[1;32m\"<ipython-input-39-af98e7075b4d>\"\u001b[1;36m, line \u001b[1;32m1\u001b[0m\n\u001b[1;33m    df.dropna(subset=[<COLUMN NAME>])\u001b[0m\n\u001b[1;37m                      ^\u001b[0m\n\u001b[1;31mSyntaxError\u001b[0m\u001b[1;31m:\u001b[0m invalid syntax\n"
       ]
      }
     ],
     "prompt_number": 39
    },
    {
     "cell_type": "markdown",
     "metadata": {},
     "source": [
      "You can also 'fill' nulls with a value of your choice (usually 0)"
     ]
    },
    {
     "cell_type": "code",
     "collapsed": false,
     "input": [
      "df.fillna(value=0)"
     ],
     "language": "python",
     "metadata": {},
     "outputs": [
      {
       "html": [
        "<div style=\"max-height:1000px;max-width:1500px;overflow:auto;\">\n",
        "<table border=\"1\" class=\"dataframe\">\n",
        "  <thead>\n",
        "    <tr style=\"text-align: right;\">\n",
        "      <th></th>\n",
        "      <th>5544</th>\n",
        "      <th>12181100</th>\n",
        "      <th>SF CASCADE R AT S CASCADE GL NR MARBLEMOUNT, WA</th>\n",
        "      <th>48.37012395</th>\n",
        "      <th>-121.07427559</th>\n",
        "    </tr>\n",
        "  </thead>\n",
        "  <tbody>\n",
        "    <tr>\n",
        "      <th>0 </th>\n",
        "      <td> 5545</td>\n",
        "      <td> 12182500</td>\n",
        "      <td>                  CASCADE RIVER AT MARBLEMOUNT, WA</td>\n",
        "      <td> 48.526786</td>\n",
        "      <td>-121.415127</td>\n",
        "    </tr>\n",
        "    <tr>\n",
        "      <th>1 </th>\n",
        "      <td> 5546</td>\n",
        "      <td> 12181000</td>\n",
        "      <td>                   SKAGIT RIVER AT MARBLEMOUNT, WA</td>\n",
        "      <td> 48.533731</td>\n",
        "      <td>-121.429850</td>\n",
        "    </tr>\n",
        "    <tr>\n",
        "      <th>2 </th>\n",
        "      <td> 5547</td>\n",
        "      <td> 12193500</td>\n",
        "      <td>                       BAKER RIVER AT CONCRETE, WA</td>\n",
        "      <td> 48.539837</td>\n",
        "      <td>-121.743196</td>\n",
        "    </tr>\n",
        "    <tr>\n",
        "      <th>3 </th>\n",
        "      <td> 5548</td>\n",
        "      <td> 12179000</td>\n",
        "      <td> SKAGIT RIVER ABOVE ALMA CREEK NEAR MARBLEMOUNT...</td>\n",
        "      <td> 48.607345</td>\n",
        "      <td>-121.361515</td>\n",
        "    </tr>\n",
        "    <tr>\n",
        "      <th>4 </th>\n",
        "      <td> 5549</td>\n",
        "      <td> 12178100</td>\n",
        "      <td>                  NEWHALEM CREEK NEAR NEWHALEM, WA</td>\n",
        "      <td> 48.655959</td>\n",
        "      <td>-121.238456</td>\n",
        "    </tr>\n",
        "    <tr>\n",
        "      <th>5 </th>\n",
        "      <td> 5550</td>\n",
        "      <td> 12178000</td>\n",
        "      <td>                      SKAGIT RIVER AT NEWHALEM, WA</td>\n",
        "      <td> 48.671792</td>\n",
        "      <td>-121.246235</td>\n",
        "    </tr>\n",
        "    <tr>\n",
        "      <th>6 </th>\n",
        "      <td> 5551</td>\n",
        "      <td> 12175500</td>\n",
        "      <td>                   THUNDER CREEK NEAR NEWHALEM, WA</td>\n",
        "      <td> 48.672629</td>\n",
        "      <td>-121.072896</td>\n",
        "    </tr>\n",
        "    <tr>\n",
        "      <th>7 </th>\n",
        "      <td> 5552</td>\n",
        "      <td> 12177500</td>\n",
        "      <td>                 STETATTLE CREEK NEAR NEWHALEM, WA</td>\n",
        "      <td> 48.722073</td>\n",
        "      <td>-121.150678</td>\n",
        "    </tr>\n",
        "    <tr>\n",
        "      <th>8 </th>\n",
        "      <td> 5553</td>\n",
        "      <td> 12186000</td>\n",
        "      <td> SAUK RIVER AB WHITECHUCK RIVER NEAR DARRINGTON...</td>\n",
        "      <td> 48.168720</td>\n",
        "      <td>-121.470672</td>\n",
        "    </tr>\n",
        "    <tr>\n",
        "      <th>9 </th>\n",
        "      <td> 5554</td>\n",
        "      <td> 12189500</td>\n",
        "      <td>                          SAUK RIVER NEAR SAUK, WA</td>\n",
        "      <td> 48.424559</td>\n",
        "      <td>-121.568463</td>\n",
        "    </tr>\n",
        "    <tr>\n",
        "      <th>10</th>\n",
        "      <td> 5556</td>\n",
        "      <td> 12194000</td>\n",
        "      <td>                    SKAGIT RIVER NEAR CONCRETE, WA</td>\n",
        "      <td> 48.524281</td>\n",
        "      <td>-121.770974</td>\n",
        "    </tr>\n",
        "  </tbody>\n",
        "</table>\n",
        "</div>"
       ],
       "metadata": {},
       "output_type": "pyout",
       "prompt_number": 40,
       "text": [
        "    5544  12181100    SF CASCADE R AT S CASCADE GL NR MARBLEMOUNT, WA  \\\n",
        "0   5545  12182500                   CASCADE RIVER AT MARBLEMOUNT, WA   \n",
        "1   5546  12181000                    SKAGIT RIVER AT MARBLEMOUNT, WA   \n",
        "2   5547  12193500                        BAKER RIVER AT CONCRETE, WA   \n",
        "3   5548  12179000  SKAGIT RIVER ABOVE ALMA CREEK NEAR MARBLEMOUNT...   \n",
        "4   5549  12178100                   NEWHALEM CREEK NEAR NEWHALEM, WA   \n",
        "5   5550  12178000                       SKAGIT RIVER AT NEWHALEM, WA   \n",
        "6   5551  12175500                    THUNDER CREEK NEAR NEWHALEM, WA   \n",
        "7   5552  12177500                  STETATTLE CREEK NEAR NEWHALEM, WA   \n",
        "8   5553  12186000  SAUK RIVER AB WHITECHUCK RIVER NEAR DARRINGTON...   \n",
        "9   5554  12189500                           SAUK RIVER NEAR SAUK, WA   \n",
        "10  5556  12194000                     SKAGIT RIVER NEAR CONCRETE, WA   \n",
        "\n",
        "    48.37012395  -121.07427559  \n",
        "0     48.526786    -121.415127  \n",
        "1     48.533731    -121.429850  \n",
        "2     48.539837    -121.743196  \n",
        "3     48.607345    -121.361515  \n",
        "4     48.655959    -121.238456  \n",
        "5     48.671792    -121.246235  \n",
        "6     48.672629    -121.072896  \n",
        "7     48.722073    -121.150678  \n",
        "8     48.168720    -121.470672  \n",
        "9     48.424559    -121.568463  \n",
        "10    48.524281    -121.770974  "
       ]
      }
     ],
     "prompt_number": 40
    },
    {
     "cell_type": "code",
     "collapsed": false,
     "input": [
      "df.fillna(value='rini')"
     ],
     "language": "python",
     "metadata": {},
     "outputs": [
      {
       "html": [
        "<div style=\"max-height:1000px;max-width:1500px;overflow:auto;\">\n",
        "<table border=\"1\" class=\"dataframe\">\n",
        "  <thead>\n",
        "    <tr style=\"text-align: right;\">\n",
        "      <th></th>\n",
        "      <th>5544</th>\n",
        "      <th>12181100</th>\n",
        "      <th>SF CASCADE R AT S CASCADE GL NR MARBLEMOUNT, WA</th>\n",
        "      <th>48.37012395</th>\n",
        "      <th>-121.07427559</th>\n",
        "    </tr>\n",
        "  </thead>\n",
        "  <tbody>\n",
        "    <tr>\n",
        "      <th>0 </th>\n",
        "      <td> 5545</td>\n",
        "      <td> 12182500</td>\n",
        "      <td>                  CASCADE RIVER AT MARBLEMOUNT, WA</td>\n",
        "      <td> 48.526786</td>\n",
        "      <td>-121.415127</td>\n",
        "    </tr>\n",
        "    <tr>\n",
        "      <th>1 </th>\n",
        "      <td> 5546</td>\n",
        "      <td> 12181000</td>\n",
        "      <td>                   SKAGIT RIVER AT MARBLEMOUNT, WA</td>\n",
        "      <td> 48.533731</td>\n",
        "      <td>-121.429850</td>\n",
        "    </tr>\n",
        "    <tr>\n",
        "      <th>2 </th>\n",
        "      <td> 5547</td>\n",
        "      <td> 12193500</td>\n",
        "      <td>                       BAKER RIVER AT CONCRETE, WA</td>\n",
        "      <td> 48.539837</td>\n",
        "      <td>-121.743196</td>\n",
        "    </tr>\n",
        "    <tr>\n",
        "      <th>3 </th>\n",
        "      <td> 5548</td>\n",
        "      <td> 12179000</td>\n",
        "      <td> SKAGIT RIVER ABOVE ALMA CREEK NEAR MARBLEMOUNT...</td>\n",
        "      <td> 48.607345</td>\n",
        "      <td>-121.361515</td>\n",
        "    </tr>\n",
        "    <tr>\n",
        "      <th>4 </th>\n",
        "      <td> 5549</td>\n",
        "      <td> 12178100</td>\n",
        "      <td>                  NEWHALEM CREEK NEAR NEWHALEM, WA</td>\n",
        "      <td> 48.655959</td>\n",
        "      <td>-121.238456</td>\n",
        "    </tr>\n",
        "    <tr>\n",
        "      <th>5 </th>\n",
        "      <td> 5550</td>\n",
        "      <td> 12178000</td>\n",
        "      <td>                      SKAGIT RIVER AT NEWHALEM, WA</td>\n",
        "      <td> 48.671792</td>\n",
        "      <td>-121.246235</td>\n",
        "    </tr>\n",
        "    <tr>\n",
        "      <th>6 </th>\n",
        "      <td> 5551</td>\n",
        "      <td> 12175500</td>\n",
        "      <td>                   THUNDER CREEK NEAR NEWHALEM, WA</td>\n",
        "      <td> 48.672629</td>\n",
        "      <td>-121.072896</td>\n",
        "    </tr>\n",
        "    <tr>\n",
        "      <th>7 </th>\n",
        "      <td> 5552</td>\n",
        "      <td> 12177500</td>\n",
        "      <td>                 STETATTLE CREEK NEAR NEWHALEM, WA</td>\n",
        "      <td> 48.722073</td>\n",
        "      <td>-121.150678</td>\n",
        "    </tr>\n",
        "    <tr>\n",
        "      <th>8 </th>\n",
        "      <td> 5553</td>\n",
        "      <td> 12186000</td>\n",
        "      <td> SAUK RIVER AB WHITECHUCK RIVER NEAR DARRINGTON...</td>\n",
        "      <td> 48.168720</td>\n",
        "      <td>-121.470672</td>\n",
        "    </tr>\n",
        "    <tr>\n",
        "      <th>9 </th>\n",
        "      <td> 5554</td>\n",
        "      <td> 12189500</td>\n",
        "      <td>                          SAUK RIVER NEAR SAUK, WA</td>\n",
        "      <td> 48.424559</td>\n",
        "      <td>-121.568463</td>\n",
        "    </tr>\n",
        "    <tr>\n",
        "      <th>10</th>\n",
        "      <td> 5556</td>\n",
        "      <td> 12194000</td>\n",
        "      <td>                    SKAGIT RIVER NEAR CONCRETE, WA</td>\n",
        "      <td> 48.524281</td>\n",
        "      <td>-121.770974</td>\n",
        "    </tr>\n",
        "  </tbody>\n",
        "</table>\n",
        "</div>"
       ],
       "metadata": {},
       "output_type": "pyout",
       "prompt_number": 41,
       "text": [
        "    5544  12181100    SF CASCADE R AT S CASCADE GL NR MARBLEMOUNT, WA  \\\n",
        "0   5545  12182500                   CASCADE RIVER AT MARBLEMOUNT, WA   \n",
        "1   5546  12181000                    SKAGIT RIVER AT MARBLEMOUNT, WA   \n",
        "2   5547  12193500                        BAKER RIVER AT CONCRETE, WA   \n",
        "3   5548  12179000  SKAGIT RIVER ABOVE ALMA CREEK NEAR MARBLEMOUNT...   \n",
        "4   5549  12178100                   NEWHALEM CREEK NEAR NEWHALEM, WA   \n",
        "5   5550  12178000                       SKAGIT RIVER AT NEWHALEM, WA   \n",
        "6   5551  12175500                    THUNDER CREEK NEAR NEWHALEM, WA   \n",
        "7   5552  12177500                  STETATTLE CREEK NEAR NEWHALEM, WA   \n",
        "8   5553  12186000  SAUK RIVER AB WHITECHUCK RIVER NEAR DARRINGTON...   \n",
        "9   5554  12189500                           SAUK RIVER NEAR SAUK, WA   \n",
        "10  5556  12194000                     SKAGIT RIVER NEAR CONCRETE, WA   \n",
        "\n",
        "    48.37012395  -121.07427559  \n",
        "0     48.526786    -121.415127  \n",
        "1     48.533731    -121.429850  \n",
        "2     48.539837    -121.743196  \n",
        "3     48.607345    -121.361515  \n",
        "4     48.655959    -121.238456  \n",
        "5     48.671792    -121.246235  \n",
        "6     48.672629    -121.072896  \n",
        "7     48.722073    -121.150678  \n",
        "8     48.168720    -121.470672  \n",
        "9     48.424559    -121.568463  \n",
        "10    48.524281    -121.770974  "
       ]
      }
     ],
     "prompt_number": 41
    },
    {
     "cell_type": "markdown",
     "metadata": {},
     "source": [
      "Okays. Now before we move on, let's start with a refresher on dictionaries. Why, you ask? Because when you start importing files into your python session, you're going to need a systematic way of keeping track of all your files, and their names. For instance, say you want to (1) loop through a directory and import a bunch of csv files as DataFrames, and (2) you want the variable name of each DataFrame to correspond to the filename. This can't be done! There's no way to create new variable names on-the-fly in a for loop.\n",
      "\n",
      "Instead, we use dictionaries. Here is how you would loop through a directory, and import all the tables to a dictionary (d):"
     ]
    },
    {
     "cell_type": "code",
     "collapsed": false,
     "input": [
      "d = {}\n",
      "\n",
      "for filename in os.listdir('.'):\n",
      "    df = pd.read_csv(filename)\n",
      "    d.update( { filename : df } )"
     ],
     "language": "python",
     "metadata": {},
     "outputs": [
      {
       "ename": "CParserError",
       "evalue": "Passed header=0 but only 0 lines in file",
       "output_type": "pyerr",
       "traceback": [
        "\u001b[1;31m---------------------------------------------------------------------------\u001b[0m\n\u001b[1;31mCParserError\u001b[0m                              Traceback (most recent call last)",
        "\u001b[1;32m<ipython-input-42-c31e4229e329>\u001b[0m in \u001b[0;36m<module>\u001b[1;34m()\u001b[0m\n\u001b[0;32m      2\u001b[0m \u001b[1;33m\u001b[0m\u001b[0m\n\u001b[0;32m      3\u001b[0m \u001b[1;32mfor\u001b[0m \u001b[0mfilename\u001b[0m \u001b[1;32min\u001b[0m \u001b[0mos\u001b[0m\u001b[1;33m.\u001b[0m\u001b[0mlistdir\u001b[0m\u001b[1;33m(\u001b[0m\u001b[1;34m'.'\u001b[0m\u001b[1;33m)\u001b[0m\u001b[1;33m:\u001b[0m\u001b[1;33m\u001b[0m\u001b[0m\n\u001b[1;32m----> 4\u001b[1;33m     \u001b[0mdf\u001b[0m \u001b[1;33m=\u001b[0m \u001b[0mpd\u001b[0m\u001b[1;33m.\u001b[0m\u001b[0mread_csv\u001b[0m\u001b[1;33m(\u001b[0m\u001b[0mfilename\u001b[0m\u001b[1;33m)\u001b[0m\u001b[1;33m\u001b[0m\u001b[0m\n\u001b[0m\u001b[0;32m      5\u001b[0m     \u001b[0md\u001b[0m\u001b[1;33m.\u001b[0m\u001b[0mupdate\u001b[0m\u001b[1;33m(\u001b[0m \u001b[1;33m{\u001b[0m \u001b[0mfilename\u001b[0m \u001b[1;33m:\u001b[0m \u001b[0mdf\u001b[0m \u001b[1;33m}\u001b[0m \u001b[1;33m)\u001b[0m\u001b[1;33m\u001b[0m\u001b[0m\n",
        "\u001b[1;32m/usr/local/lib/python2.7/dist-packages/pandas/io/parsers.pyc\u001b[0m in \u001b[0;36mparser_f\u001b[1;34m(filepath_or_buffer, sep, dialect, compression, doublequote, escapechar, quotechar, quoting, skipinitialspace, lineterminator, header, index_col, names, prefix, skiprows, skipfooter, skip_footer, na_values, na_fvalues, true_values, false_values, delimiter, converters, dtype, usecols, engine, delim_whitespace, as_recarray, na_filter, compact_ints, use_unsigned, low_memory, buffer_lines, warn_bad_lines, error_bad_lines, keep_default_na, thousands, comment, decimal, parse_dates, keep_date_col, dayfirst, date_parser, memory_map, nrows, iterator, chunksize, verbose, encoding, squeeze, mangle_dupe_cols, tupleize_cols, infer_datetime_format)\u001b[0m\n\u001b[0;32m    450\u001b[0m                     infer_datetime_format=infer_datetime_format)\n\u001b[0;32m    451\u001b[0m \u001b[1;33m\u001b[0m\u001b[0m\n\u001b[1;32m--> 452\u001b[1;33m         \u001b[1;32mreturn\u001b[0m \u001b[0m_read\u001b[0m\u001b[1;33m(\u001b[0m\u001b[0mfilepath_or_buffer\u001b[0m\u001b[1;33m,\u001b[0m \u001b[0mkwds\u001b[0m\u001b[1;33m)\u001b[0m\u001b[1;33m\u001b[0m\u001b[0m\n\u001b[0m\u001b[0;32m    453\u001b[0m \u001b[1;33m\u001b[0m\u001b[0m\n\u001b[0;32m    454\u001b[0m     \u001b[0mparser_f\u001b[0m\u001b[1;33m.\u001b[0m\u001b[0m__name__\u001b[0m \u001b[1;33m=\u001b[0m \u001b[0mname\u001b[0m\u001b[1;33m\u001b[0m\u001b[0m\n",
        "\u001b[1;32m/usr/local/lib/python2.7/dist-packages/pandas/io/parsers.pyc\u001b[0m in \u001b[0;36m_read\u001b[1;34m(filepath_or_buffer, kwds)\u001b[0m\n\u001b[0;32m    232\u001b[0m \u001b[1;33m\u001b[0m\u001b[0m\n\u001b[0;32m    233\u001b[0m     \u001b[1;31m# Create the parser.\u001b[0m\u001b[1;33m\u001b[0m\u001b[1;33m\u001b[0m\u001b[0m\n\u001b[1;32m--> 234\u001b[1;33m     \u001b[0mparser\u001b[0m \u001b[1;33m=\u001b[0m \u001b[0mTextFileReader\u001b[0m\u001b[1;33m(\u001b[0m\u001b[0mfilepath_or_buffer\u001b[0m\u001b[1;33m,\u001b[0m \u001b[1;33m**\u001b[0m\u001b[0mkwds\u001b[0m\u001b[1;33m)\u001b[0m\u001b[1;33m\u001b[0m\u001b[0m\n\u001b[0m\u001b[0;32m    235\u001b[0m \u001b[1;33m\u001b[0m\u001b[0m\n\u001b[0;32m    236\u001b[0m     \u001b[1;32mif\u001b[0m \u001b[1;33m(\u001b[0m\u001b[0mnrows\u001b[0m \u001b[1;32mis\u001b[0m \u001b[1;32mnot\u001b[0m \u001b[0mNone\u001b[0m\u001b[1;33m)\u001b[0m \u001b[1;32mand\u001b[0m \u001b[1;33m(\u001b[0m\u001b[0mchunksize\u001b[0m \u001b[1;32mis\u001b[0m \u001b[1;32mnot\u001b[0m \u001b[0mNone\u001b[0m\u001b[1;33m)\u001b[0m\u001b[1;33m:\u001b[0m\u001b[1;33m\u001b[0m\u001b[0m\n",
        "\u001b[1;32m/usr/local/lib/python2.7/dist-packages/pandas/io/parsers.pyc\u001b[0m in \u001b[0;36m__init__\u001b[1;34m(self, f, engine, **kwds)\u001b[0m\n\u001b[0;32m    540\u001b[0m             \u001b[0mself\u001b[0m\u001b[1;33m.\u001b[0m\u001b[0moptions\u001b[0m\u001b[1;33m[\u001b[0m\u001b[1;34m'has_index_names'\u001b[0m\u001b[1;33m]\u001b[0m \u001b[1;33m=\u001b[0m \u001b[0mkwds\u001b[0m\u001b[1;33m[\u001b[0m\u001b[1;34m'has_index_names'\u001b[0m\u001b[1;33m]\u001b[0m\u001b[1;33m\u001b[0m\u001b[0m\n\u001b[0;32m    541\u001b[0m \u001b[1;33m\u001b[0m\u001b[0m\n\u001b[1;32m--> 542\u001b[1;33m         \u001b[0mself\u001b[0m\u001b[1;33m.\u001b[0m\u001b[0m_make_engine\u001b[0m\u001b[1;33m(\u001b[0m\u001b[0mself\u001b[0m\u001b[1;33m.\u001b[0m\u001b[0mengine\u001b[0m\u001b[1;33m)\u001b[0m\u001b[1;33m\u001b[0m\u001b[0m\n\u001b[0m\u001b[0;32m    543\u001b[0m \u001b[1;33m\u001b[0m\u001b[0m\n\u001b[0;32m    544\u001b[0m     \u001b[1;32mdef\u001b[0m \u001b[0m_get_options_with_defaults\u001b[0m\u001b[1;33m(\u001b[0m\u001b[0mself\u001b[0m\u001b[1;33m,\u001b[0m \u001b[0mengine\u001b[0m\u001b[1;33m)\u001b[0m\u001b[1;33m:\u001b[0m\u001b[1;33m\u001b[0m\u001b[0m\n",
        "\u001b[1;32m/usr/local/lib/python2.7/dist-packages/pandas/io/parsers.pyc\u001b[0m in \u001b[0;36m_make_engine\u001b[1;34m(self, engine)\u001b[0m\n\u001b[0;32m    677\u001b[0m     \u001b[1;32mdef\u001b[0m \u001b[0m_make_engine\u001b[0m\u001b[1;33m(\u001b[0m\u001b[0mself\u001b[0m\u001b[1;33m,\u001b[0m \u001b[0mengine\u001b[0m\u001b[1;33m=\u001b[0m\u001b[1;34m'c'\u001b[0m\u001b[1;33m)\u001b[0m\u001b[1;33m:\u001b[0m\u001b[1;33m\u001b[0m\u001b[0m\n\u001b[0;32m    678\u001b[0m         \u001b[1;32mif\u001b[0m \u001b[0mengine\u001b[0m \u001b[1;33m==\u001b[0m \u001b[1;34m'c'\u001b[0m\u001b[1;33m:\u001b[0m\u001b[1;33m\u001b[0m\u001b[0m\n\u001b[1;32m--> 679\u001b[1;33m             \u001b[0mself\u001b[0m\u001b[1;33m.\u001b[0m\u001b[0m_engine\u001b[0m \u001b[1;33m=\u001b[0m \u001b[0mCParserWrapper\u001b[0m\u001b[1;33m(\u001b[0m\u001b[0mself\u001b[0m\u001b[1;33m.\u001b[0m\u001b[0mf\u001b[0m\u001b[1;33m,\u001b[0m \u001b[1;33m**\u001b[0m\u001b[0mself\u001b[0m\u001b[1;33m.\u001b[0m\u001b[0moptions\u001b[0m\u001b[1;33m)\u001b[0m\u001b[1;33m\u001b[0m\u001b[0m\n\u001b[0m\u001b[0;32m    680\u001b[0m         \u001b[1;32melse\u001b[0m\u001b[1;33m:\u001b[0m\u001b[1;33m\u001b[0m\u001b[0m\n\u001b[0;32m    681\u001b[0m             \u001b[1;32mif\u001b[0m \u001b[0mengine\u001b[0m \u001b[1;33m==\u001b[0m \u001b[1;34m'python'\u001b[0m\u001b[1;33m:\u001b[0m\u001b[1;33m\u001b[0m\u001b[0m\n",
        "\u001b[1;32m/usr/local/lib/python2.7/dist-packages/pandas/io/parsers.pyc\u001b[0m in \u001b[0;36m__init__\u001b[1;34m(self, src, **kwds)\u001b[0m\n\u001b[0;32m   1039\u001b[0m         \u001b[0mkwds\u001b[0m\u001b[1;33m[\u001b[0m\u001b[1;34m'allow_leading_cols'\u001b[0m\u001b[1;33m]\u001b[0m \u001b[1;33m=\u001b[0m \u001b[0mself\u001b[0m\u001b[1;33m.\u001b[0m\u001b[0mindex_col\u001b[0m \u001b[1;32mis\u001b[0m \u001b[1;32mnot\u001b[0m \u001b[0mFalse\u001b[0m\u001b[1;33m\u001b[0m\u001b[0m\n\u001b[0;32m   1040\u001b[0m \u001b[1;33m\u001b[0m\u001b[0m\n\u001b[1;32m-> 1041\u001b[1;33m         \u001b[0mself\u001b[0m\u001b[1;33m.\u001b[0m\u001b[0m_reader\u001b[0m \u001b[1;33m=\u001b[0m \u001b[0m_parser\u001b[0m\u001b[1;33m.\u001b[0m\u001b[0mTextReader\u001b[0m\u001b[1;33m(\u001b[0m\u001b[0msrc\u001b[0m\u001b[1;33m,\u001b[0m \u001b[1;33m**\u001b[0m\u001b[0mkwds\u001b[0m\u001b[1;33m)\u001b[0m\u001b[1;33m\u001b[0m\u001b[0m\n\u001b[0m\u001b[0;32m   1042\u001b[0m \u001b[1;33m\u001b[0m\u001b[0m\n\u001b[0;32m   1043\u001b[0m         \u001b[1;31m# XXX\u001b[0m\u001b[1;33m\u001b[0m\u001b[1;33m\u001b[0m\u001b[0m\n",
        "\u001b[1;32m/usr/local/lib/python2.7/dist-packages/pandas/parser.so\u001b[0m in \u001b[0;36mpandas.parser.TextReader.__cinit__ (pandas/parser.c:4413)\u001b[1;34m()\u001b[0m\n",
        "\u001b[1;32m/usr/local/lib/python2.7/dist-packages/pandas/parser.so\u001b[0m in \u001b[0;36mpandas.parser.TextReader._get_header (pandas/parser.c:5823)\u001b[1;34m()\u001b[0m\n",
        "\u001b[1;31mCParserError\u001b[0m: Passed header=0 but only 0 lines in file"
       ]
      }
     ],
     "prompt_number": 42
    },
    {
     "cell_type": "markdown",
     "metadata": {},
     "source": [
      "The .update() method inserts a key:value pair into a dictionary. In this case, the key is the filename, and the value is the corresponding dataframe."
     ]
    },
    {
     "cell_type": "markdown",
     "metadata": {},
     "source": [
      "We can now access any imported table by typing d[_FILENAME_]"
     ]
    },
    {
     "cell_type": "markdown",
     "metadata": {},
     "source": [
      "The following three methods are really important for dealing with dictionaries, esp. in for loops:"
     ]
    },
    {
     "cell_type": "code",
     "collapsed": false,
     "input": [
      "d.keys() #Should give you a list of all the filenames of the imported tables"
     ],
     "language": "python",
     "metadata": {},
     "outputs": [
      {
       "metadata": {},
       "output_type": "pyout",
       "prompt_number": 43,
       "text": [
        "[]"
       ]
      }
     ],
     "prompt_number": 43
    },
    {
     "cell_type": "code",
     "collapsed": false,
     "input": [
      "d.values() #Will return all the tables you imported in a list."
     ],
     "language": "python",
     "metadata": {},
     "outputs": [
      {
       "metadata": {},
       "output_type": "pyout",
       "prompt_number": 44,
       "text": [
        "[]"
       ]
      }
     ],
     "prompt_number": 44
    },
    {
     "cell_type": "code",
     "collapsed": false,
     "input": [
      "d.items() #Will enumerate the key:value pairs. This is useful in for loops."
     ],
     "language": "python",
     "metadata": {},
     "outputs": [
      {
       "metadata": {},
       "output_type": "pyout",
       "prompt_number": 45,
       "text": [
        "[]"
       ]
      }
     ],
     "prompt_number": 45
    },
    {
     "cell_type": "markdown",
     "metadata": {},
     "source": [
      "That's it for today's rinina school. Next time we'll talk about merging, concatenating, and other SQL-like operations."
     ]
    },
    {
     "cell_type": "code",
     "collapsed": false,
     "input": [],
     "language": "python",
     "metadata": {},
     "outputs": []
    }
   ],
   "metadata": {}
  }
 ]
}