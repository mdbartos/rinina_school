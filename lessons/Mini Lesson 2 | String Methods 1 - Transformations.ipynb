{
 "metadata": {
  "name": "",
  "signature": "sha256:79e0430e62d2462afba683b777cc9a615db2da86763e3a4dea1ef79db3d37f4e"
 },
 "nbformat": 3,
 "nbformat_minor": 0,
 "worksheets": [
  {
   "cells": [
    {
     "cell_type": "heading",
     "level": 1,
     "metadata": {},
     "source": [
      "Basic string transformations"
     ]
    },
    {
     "cell_type": "code",
     "collapsed": false,
     "input": [
      "import pandas as pd\n",
      "import numpy as np\n",
      "\n",
      "df = pd.read_csv('/home/akagi/Desktop/assessor/ex/target_df', index_col=0).reset_index()\n",
      "del df['FID_1.1']\n",
      "df.head()"
     ],
     "language": "python",
     "metadata": {},
     "outputs": [
      {
       "html": [
        "<div style=\"max-height:1000px;max-width:1500px;overflow:auto;\">\n",
        "<table border=\"1\" class=\"dataframe\">\n",
        "  <thead>\n",
        "    <tr style=\"text-align: right;\">\n",
        "      <th></th>\n",
        "      <th>FID_1</th>\n",
        "      <th>SITE_ADDR</th>\n",
        "      <th>S_ZIP</th>\n",
        "      <th>SNUM</th>\n",
        "      <th>DIR</th>\n",
        "      <th>STREET</th>\n",
        "      <th>STYPE</th>\n",
        "    </tr>\n",
        "  </thead>\n",
        "  <tbody>\n",
        "    <tr>\n",
        "      <th>0</th>\n",
        "      <td> 15</td>\n",
        "      <td>              12884 N 136TH ST</td>\n",
        "      <td> 85260</td>\n",
        "      <td> 12884</td>\n",
        "      <td> N</td>\n",
        "      <td>       136TH</td>\n",
        "      <td>   ST</td>\n",
        "    </tr>\n",
        "    <tr>\n",
        "      <th>1</th>\n",
        "      <td> 17</td>\n",
        "      <td> 11596 W SIERRA DAWN BOULEVARD</td>\n",
        "      <td> 85374</td>\n",
        "      <td> 11596</td>\n",
        "      <td> W</td>\n",
        "      <td> SIERRA DAWN</td>\n",
        "      <td> BLVD</td>\n",
        "    </tr>\n",
        "    <tr>\n",
        "      <th>2</th>\n",
        "      <td> 22</td>\n",
        "      <td>            5947 W HEDGEHOG PL</td>\n",
        "      <td> 85085</td>\n",
        "      <td>  5947</td>\n",
        "      <td> W</td>\n",
        "      <td>    HEDGEHOG</td>\n",
        "      <td>   PL</td>\n",
        "    </tr>\n",
        "    <tr>\n",
        "      <th>3</th>\n",
        "      <td> 31</td>\n",
        "      <td>        7234 E CAVE CREEK ROAD</td>\n",
        "      <td> 85377</td>\n",
        "      <td>  7234</td>\n",
        "      <td> E</td>\n",
        "      <td>  CAVE CREEK</td>\n",
        "      <td>   RD</td>\n",
        "    </tr>\n",
        "    <tr>\n",
        "      <th>4</th>\n",
        "      <td> 36</td>\n",
        "      <td>                 8825 S 7TH ST</td>\n",
        "      <td> 85040</td>\n",
        "      <td>  8825</td>\n",
        "      <td> S</td>\n",
        "      <td>         7TH</td>\n",
        "      <td>   ST</td>\n",
        "    </tr>\n",
        "  </tbody>\n",
        "</table>\n",
        "</div>"
       ],
       "metadata": {},
       "output_type": "pyout",
       "prompt_number": 14,
       "text": [
        "   FID_1                      SITE_ADDR  S_ZIP   SNUM DIR       STREET STYPE\n",
        "0     15               12884 N 136TH ST  85260  12884   N        136TH    ST\n",
        "1     17  11596 W SIERRA DAWN BOULEVARD  85374  11596   W  SIERRA DAWN  BLVD\n",
        "2     22             5947 W HEDGEHOG PL  85085   5947   W     HEDGEHOG    PL\n",
        "3     31         7234 E CAVE CREEK ROAD  85377   7234   E   CAVE CREEK    RD\n",
        "4     36                  8825 S 7TH ST  85040   8825   S          7TH    ST"
       ]
      }
     ],
     "prompt_number": 14
    },
    {
     "cell_type": "heading",
     "level": 2,
     "metadata": {},
     "source": [
      "1. Lower and Upper"
     ]
    },
    {
     "cell_type": "heading",
     "level": 3,
     "metadata": {},
     "source": [
      "1.1. Convert all text to lowercase with str.lower()"
     ]
    },
    {
     "cell_type": "code",
     "collapsed": false,
     "input": [
      "lower = df['SITE_ADDR'].str.lower()\n",
      "\n",
      "lower.head()"
     ],
     "language": "python",
     "metadata": {},
     "outputs": [
      {
       "metadata": {},
       "output_type": "pyout",
       "prompt_number": 10,
       "text": [
        "0                 12884 n 136th st\n",
        "1    11596 w sierra dawn boulevard\n",
        "2               5947 w hedgehog pl\n",
        "3           7234 e cave creek road\n",
        "4                    8825 s 7th st\n",
        "Name: SITE_ADDR, dtype: object"
       ]
      }
     ],
     "prompt_number": 10
    },
    {
     "cell_type": "heading",
     "level": 3,
     "metadata": {},
     "source": [
      "1.2. Convert all text to uppercase with str.upper()"
     ]
    },
    {
     "cell_type": "code",
     "collapsed": false,
     "input": [
      "upper = lower.str.upper()\n",
      "\n",
      "upper.head()"
     ],
     "language": "python",
     "metadata": {},
     "outputs": [
      {
       "metadata": {},
       "output_type": "pyout",
       "prompt_number": 11,
       "text": [
        "0                 12884 N 136TH ST\n",
        "1    11596 W SIERRA DAWN BOULEVARD\n",
        "2               5947 W HEDGEHOG PL\n",
        "3           7234 E CAVE CREEK ROAD\n",
        "4                    8825 S 7TH ST\n",
        "Name: SITE_ADDR, dtype: object"
       ]
      }
     ],
     "prompt_number": 11
    },
    {
     "cell_type": "heading",
     "level": 2,
     "metadata": {},
     "source": [
      "2. Splitting and Combining Strings"
     ]
    },
    {
     "cell_type": "heading",
     "level": 3,
     "metadata": {},
     "source": [
      "2.1. The str.len() method gives you the number of characters in each string"
     ]
    },
    {
     "cell_type": "code",
     "collapsed": false,
     "input": [
      "str_len = df['SITE_ADDR'].str.len()\n",
      "\n",
      "str_len.head()"
     ],
     "language": "python",
     "metadata": {},
     "outputs": [
      {
       "metadata": {},
       "output_type": "pyout",
       "prompt_number": 21,
       "text": [
        "0    16\n",
        "1    29\n",
        "2    18\n",
        "3    22\n",
        "4    13\n",
        "Name: SITE_ADDR, dtype: int64"
       ]
      }
     ],
     "prompt_number": 21
    },
    {
     "cell_type": "heading",
     "level": 3,
     "metadata": {},
     "source": [
      "2.2. The str.split() method splits each string based on a delimiter"
     ]
    },
    {
     "cell_type": "heading",
     "level": 4,
     "metadata": {},
     "source": [
      "By default, the split method uses whitespace as the delimiter."
     ]
    },
    {
     "cell_type": "code",
     "collapsed": false,
     "input": [
      "str_split = df['SITE_ADDR'].str.split()\n",
      "\n",
      "str_split.head()"
     ],
     "language": "python",
     "metadata": {},
     "outputs": [
      {
       "metadata": {},
       "output_type": "pyout",
       "prompt_number": 22,
       "text": [
        "0                  [12884, N, 136TH, ST]\n",
        "1    [11596, W, SIERRA, DAWN, BOULEVARD]\n",
        "2                [5947, W, HEDGEHOG, PL]\n",
        "3           [7234, E, CAVE, CREEK, ROAD]\n",
        "4                     [8825, S, 7TH, ST]\n",
        "Name: SITE_ADDR, dtype: object"
       ]
      }
     ],
     "prompt_number": 22
    },
    {
     "cell_type": "heading",
     "level": 4,
     "metadata": {},
     "source": [
      "You can access the entries in each list by their list index:"
     ]
    },
    {
     "cell_type": "code",
     "collapsed": false,
     "input": [
      "str_split.str[2].head()"
     ],
     "language": "python",
     "metadata": {},
     "outputs": [
      {
       "metadata": {},
       "output_type": "pyout",
       "prompt_number": 23,
       "text": [
        "0       136TH\n",
        "1      SIERRA\n",
        "2    HEDGEHOG\n",
        "3        CAVE\n",
        "4         7TH\n",
        "Name: SITE_ADDR, dtype: object"
       ]
      }
     ],
     "prompt_number": 23
    },
    {
     "cell_type": "heading",
     "level": 4,
     "metadata": {},
     "source": [
      "Get the number of words in each entry:"
     ]
    },
    {
     "cell_type": "code",
     "collapsed": false,
     "input": [
      "number_of_words = str_split.str.len()\n",
      "\n",
      "number_of_words.head()"
     ],
     "language": "python",
     "metadata": {},
     "outputs": [
      {
       "metadata": {},
       "output_type": "pyout",
       "prompt_number": 28,
       "text": [
        "0    4\n",
        "1    5\n",
        "2    4\n",
        "3    5\n",
        "4    4\n",
        "Name: SITE_ADDR, dtype: int64"
       ]
      }
     ],
     "prompt_number": 28
    },
    {
     "cell_type": "heading",
     "level": 3,
     "metadata": {},
     "source": [
      "2.3. Use str.join() to combine elements in a series using a delimiter"
     ]
    },
    {
     "cell_type": "code",
     "collapsed": false,
     "input": [
      "str_join = str_split.str.join('_')\n",
      "\n",
      "str_join.head()"
     ],
     "language": "python",
     "metadata": {},
     "outputs": [
      {
       "metadata": {},
       "output_type": "pyout",
       "prompt_number": 32,
       "text": [
        "0                 12884_N_136TH_ST\n",
        "1    11596_W_SIERRA_DAWN_BOULEVARD\n",
        "2               5947_W_HEDGEHOG_PL\n",
        "3           7234_E_CAVE_CREEK_ROAD\n",
        "4                    8825_S_7TH_ST\n",
        "Name: SITE_ADDR, dtype: object"
       ]
      }
     ],
     "prompt_number": 32
    },
    {
     "cell_type": "heading",
     "level": 3,
     "metadata": {},
     "source": [
      "2.4. Use str.cat() to join strings from multiple series into a single series"
     ]
    },
    {
     "cell_type": "code",
     "collapsed": false,
     "input": [
      "str_cat = df['STREET'].str.cat(df['STYPE'], sep=' ')\n",
      "\n",
      "str_cat.head()"
     ],
     "language": "python",
     "metadata": {},
     "outputs": [
      {
       "metadata": {},
       "output_type": "pyout",
       "prompt_number": 38,
       "text": [
        "0            136TH ST\n",
        "1    SIERRA DAWN BLVD\n",
        "2         HEDGEHOG PL\n",
        "3       CAVE CREEK RD\n",
        "4              7TH ST\n",
        "Name: STREET, dtype: object"
       ]
      }
     ],
     "prompt_number": 38
    },
    {
     "cell_type": "heading",
     "level": 2,
     "metadata": {},
     "source": [
      "3. Whitespace: Padding and stripping"
     ]
    },
    {
     "cell_type": "heading",
     "level": 3,
     "metadata": {},
     "source": [
      "3.1. Add whitespace to the left/right side of a series using str.pad()"
     ]
    },
    {
     "cell_type": "code",
     "collapsed": false,
     "input": [
      "max_address_width = df['SITE_ADDR'].str.len().max()\n",
      "\n",
      "str_pad = df['SITE_ADDR'].str.pad(width=max_address_width, side='left')\n",
      "\n",
      "print str_pad.head()\n",
      "print '\\n'\n",
      "str_pad.head()[0]"
     ],
     "language": "python",
     "metadata": {},
     "outputs": [
      {
       "output_type": "stream",
       "stream": "stdout",
       "text": [
        "0                    12884 N 136TH ST\n",
        "1       11596 W SIERRA DAWN BOULEVARD\n",
        "2                  5947 W HEDGEHOG PL\n",
        "3              7234 E CAVE CREEK ROAD\n",
        "4                       8825 S 7TH ST\n",
        "Name: SITE_ADDR, dtype: object\n",
        "\n",
        "\n"
       ]
      },
      {
       "metadata": {},
       "output_type": "pyout",
       "prompt_number": 57,
       "text": [
        "'                12884 N 136TH ST'"
       ]
      }
     ],
     "prompt_number": 57
    },
    {
     "cell_type": "heading",
     "level": 3,
     "metadata": {},
     "source": [
      "3.2. Strip away whitespace on either side using str.strip()"
     ]
    },
    {
     "cell_type": "code",
     "collapsed": false,
     "input": [
      "str_strip = str_pad.str.strip()\n",
      "\n",
      "str_strip[0]"
     ],
     "language": "python",
     "metadata": {},
     "outputs": [
      {
       "metadata": {},
       "output_type": "pyout",
       "prompt_number": 56,
       "text": [
        "'12884 N 136TH ST'"
       ]
      }
     ],
     "prompt_number": 56
    },
    {
     "cell_type": "heading",
     "level": 4,
     "metadata": {},
     "source": [
      "The lstrip() and rstrip() methods strip whitespace from the left and right sides, respectively"
     ]
    },
    {
     "cell_type": "code",
     "collapsed": false,
     "input": [
      "str_lstrip = str_pad.str.lstrip()\n",
      "\n",
      "str_lstrip[0]"
     ],
     "language": "python",
     "metadata": {},
     "outputs": [
      {
       "metadata": {},
       "output_type": "pyout",
       "prompt_number": 58,
       "text": [
        "'12884 N 136TH ST'"
       ]
      }
     ],
     "prompt_number": 58
    },
    {
     "cell_type": "code",
     "collapsed": false,
     "input": [],
     "language": "python",
     "metadata": {},
     "outputs": []
    }
   ],
   "metadata": {}
  }
 ]
}