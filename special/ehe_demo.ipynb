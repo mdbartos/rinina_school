{
 "metadata": {
  "name": "",
  "signature": "sha256:4539e89c7398bae34c1d667c1b3b986cb0ffcdbfe2c6af97da075b10cd8fc246"
 },
 "nbformat": 3,
 "nbformat_minor": 0,
 "worksheets": [
  {
   "cells": [
    {
     "cell_type": "heading",
     "level": 2,
     "metadata": {},
     "source": [
      "Import Modules"
     ]
    },
    {
     "cell_type": "markdown",
     "metadata": {},
     "source": [
      "Let's import some modules"
     ]
    },
    {
     "cell_type": "code",
     "collapsed": false,
     "input": [
      "import pandas as pd\n",
      "import numpy as np"
     ],
     "language": "python",
     "metadata": {},
     "outputs": [],
     "prompt_number": 1
    },
    {
     "cell_type": "code",
     "collapsed": false,
     "input": [
      "%pylab inline"
     ],
     "language": "python",
     "metadata": {},
     "outputs": [
      {
       "output_type": "stream",
       "stream": "stdout",
       "text": [
        "Populating the interactive namespace from numpy and matplotlib\n"
       ]
      }
     ],
     "prompt_number": 2
    },
    {
     "cell_type": "heading",
     "level": 2,
     "metadata": {},
     "source": [
      "Get Data"
     ]
    },
    {
     "cell_type": "code",
     "collapsed": false,
     "input": [
      "df = pd.read_csv('EHE-phx_hist.csv')"
     ],
     "language": "python",
     "metadata": {},
     "outputs": [],
     "prompt_number": 3
    },
    {
     "cell_type": "heading",
     "level": 2,
     "metadata": {},
     "source": [
      "Convert Date Column to Datetime Type and Get Years"
     ]
    },
    {
     "cell_type": "code",
     "collapsed": false,
     "input": [
      "df['date'] = pd.to_datetime(df['date'])"
     ],
     "language": "python",
     "metadata": {},
     "outputs": [],
     "prompt_number": 4
    },
    {
     "cell_type": "code",
     "collapsed": false,
     "input": [
      "print df['date'].dtype"
     ],
     "language": "python",
     "metadata": {},
     "outputs": [
      {
       "output_type": "stream",
       "stream": "stdout",
       "text": [
        "datetime64[ns]\n"
       ]
      }
     ],
     "prompt_number": 5
    },
    {
     "cell_type": "code",
     "collapsed": false,
     "input": [
      "df['year'] = [i.year for i in df['date']]"
     ],
     "language": "python",
     "metadata": {},
     "outputs": [],
     "prompt_number": 6
    },
    {
     "cell_type": "heading",
     "level": 2,
     "metadata": {},
     "source": [
      "Get Number of EHEs per Year (Parcel-Days)"
     ]
    },
    {
     "cell_type": "code",
     "collapsed": false,
     "input": [
      "ehes = df.groupby('year').size()\n",
      "print ehes"
     ],
     "language": "python",
     "metadata": {},
     "outputs": [
      {
       "output_type": "stream",
       "stream": "stdout",
       "text": [
        "year\n",
        "1949       7\n",
        "1950     400\n",
        "1951       6\n",
        "1952      25\n",
        "1953     362\n",
        "1954      27\n",
        "1955      12\n",
        "1956     113\n",
        "1957     401\n",
        "1958    1935\n",
        "1959      53\n",
        "1960    1338\n",
        "1961     132\n",
        "1962     262\n",
        "1963       6\n",
        "1964      19\n",
        "1967      44\n",
        "1968    1428\n",
        "1969     255\n",
        "1970    1300\n",
        "1971     240\n",
        "1972     412\n",
        "1973     360\n",
        "1974    1041\n",
        "1976     186\n",
        "1977       4\n",
        "1978      21\n",
        "1979    1106\n",
        "1980     180\n",
        "1982       5\n",
        "1983      12\n",
        "1985     602\n",
        "1986       4\n",
        "1988      31\n",
        "1989     315\n",
        "1990    1824\n",
        "1993     316\n",
        "1994    2334\n",
        "1995    4333\n",
        "1996      59\n",
        "1997      24\n",
        "1998     948\n",
        "2000     108\n",
        "2001     377\n",
        "2002      39\n",
        "2003    1266\n",
        "2005     886\n",
        "2006     977\n",
        "2007     712\n",
        "2008     240\n",
        "2009     421\n",
        "2010      74\n",
        "Length: 52, dtype: int64\n"
       ]
      }
     ],
     "prompt_number": 7
    },
    {
     "cell_type": "heading",
     "level": 2,
     "metadata": {},
     "source": [
      "Plot it!"
     ]
    },
    {
     "cell_type": "code",
     "collapsed": false,
     "input": [
      "plot(ehes.index, ehes)"
     ],
     "language": "python",
     "metadata": {},
     "outputs": [
      {
       "metadata": {},
       "output_type": "pyout",
       "prompt_number": 8,
       "text": [
        "[<matplotlib.lines.Line2D at 0xce3dbe0>]"
       ]
      },
      {
       "metadata": {},
       "output_type": "display_data",
       "png": "[encoded data removed]",
       "text": [
        "<matplotlib.figure.Figure at 0xc847940>"
       ]
      }
     ],
     "prompt_number": 8
    },
    {
     "cell_type": "heading",
     "level": 2,
     "metadata": {},
     "source": [
      "Get Death Data"
     ]
    },
    {
     "cell_type": "code",
     "collapsed": false,
     "input": [
      "#Death data from http://www.azdhs.gov/plan/report/im/heat/heat09.pdf\n",
      "\n",
      "ehe_deaths = pd.DataFrame()\n",
      "ehe_deaths['year'] = range(1992, 2010)\n",
      "ehe_deaths['deaths'] = \"4 12 24 25 27 13 40 25 12 12 30 35 38 66 62 40 39 44\".split()\n",
      "ehe_deaths = ehe_deaths.set_index('year')"
     ],
     "language": "python",
     "metadata": {},
     "outputs": [],
     "prompt_number": 9
    },
    {
     "cell_type": "code",
     "collapsed": false,
     "input": [
      "ehe_deaths"
     ],
     "language": "python",
     "metadata": {},
     "outputs": [
      {
       "html": [
        "<div style=\"max-height:1000px;max-width:1500px;overflow:auto;\">\n",
        "<table border=\"1\" class=\"dataframe\">\n",
        "  <thead>\n",
        "    <tr style=\"text-align: right;\">\n",
        "      <th></th>\n",
        "      <th>deaths</th>\n",
        "    </tr>\n",
        "    <tr>\n",
        "      <th>year</th>\n",
        "      <th></th>\n",
        "    </tr>\n",
        "  </thead>\n",
        "  <tbody>\n",
        "    <tr>\n",
        "      <th>1992</th>\n",
        "      <td>  4</td>\n",
        "    </tr>\n",
        "    <tr>\n",
        "      <th>1993</th>\n",
        "      <td> 12</td>\n",
        "    </tr>\n",
        "    <tr>\n",
        "      <th>1994</th>\n",
        "      <td> 24</td>\n",
        "    </tr>\n",
        "    <tr>\n",
        "      <th>1995</th>\n",
        "      <td> 25</td>\n",
        "    </tr>\n",
        "    <tr>\n",
        "      <th>1996</th>\n",
        "      <td> 27</td>\n",
        "    </tr>\n",
        "    <tr>\n",
        "      <th>1997</th>\n",
        "      <td> 13</td>\n",
        "    </tr>\n",
        "    <tr>\n",
        "      <th>1998</th>\n",
        "      <td> 40</td>\n",
        "    </tr>\n",
        "    <tr>\n",
        "      <th>1999</th>\n",
        "      <td> 25</td>\n",
        "    </tr>\n",
        "    <tr>\n",
        "      <th>2000</th>\n",
        "      <td> 12</td>\n",
        "    </tr>\n",
        "    <tr>\n",
        "      <th>2001</th>\n",
        "      <td> 12</td>\n",
        "    </tr>\n",
        "    <tr>\n",
        "      <th>2002</th>\n",
        "      <td> 30</td>\n",
        "    </tr>\n",
        "    <tr>\n",
        "      <th>2003</th>\n",
        "      <td> 35</td>\n",
        "    </tr>\n",
        "    <tr>\n",
        "      <th>2004</th>\n",
        "      <td> 38</td>\n",
        "    </tr>\n",
        "    <tr>\n",
        "      <th>2005</th>\n",
        "      <td> 66</td>\n",
        "    </tr>\n",
        "    <tr>\n",
        "      <th>2006</th>\n",
        "      <td> 62</td>\n",
        "    </tr>\n",
        "    <tr>\n",
        "      <th>2007</th>\n",
        "      <td> 40</td>\n",
        "    </tr>\n",
        "    <tr>\n",
        "      <th>2008</th>\n",
        "      <td> 39</td>\n",
        "    </tr>\n",
        "    <tr>\n",
        "      <th>2009</th>\n",
        "      <td> 44</td>\n",
        "    </tr>\n",
        "  </tbody>\n",
        "</table>\n",
        "</div>"
       ],
       "metadata": {},
       "output_type": "pyout",
       "prompt_number": 10,
       "text": [
        "     deaths\n",
        "year       \n",
        "1992      4\n",
        "1993     12\n",
        "1994     24\n",
        "1995     25\n",
        "1996     27\n",
        "1997     13\n",
        "1998     40\n",
        "1999     25\n",
        "2000     12\n",
        "2001     12\n",
        "2002     30\n",
        "2003     35\n",
        "2004     38\n",
        "2005     66\n",
        "2006     62\n",
        "2007     40\n",
        "2008     39\n",
        "2009     44"
       ]
      }
     ],
     "prompt_number": 10
    },
    {
     "cell_type": "code",
     "collapsed": false,
     "input": [
      "cat = pd.concat([ehes, ehe_deaths], axis=1, join='inner')\n",
      "cat['EHE_parcel_days'] = cat[0]\n",
      "del cat[0]"
     ],
     "language": "python",
     "metadata": {},
     "outputs": [],
     "prompt_number": 11
    },
    {
     "cell_type": "code",
     "collapsed": false,
     "input": [
      "cat"
     ],
     "language": "python",
     "metadata": {},
     "outputs": [
      {
       "html": [
        "<div style=\"max-height:1000px;max-width:1500px;overflow:auto;\">\n",
        "<table border=\"1\" class=\"dataframe\">\n",
        "  <thead>\n",
        "    <tr style=\"text-align: right;\">\n",
        "      <th></th>\n",
        "      <th>deaths</th>\n",
        "      <th>EHE_parcel_days</th>\n",
        "    </tr>\n",
        "    <tr>\n",
        "      <th>year</th>\n",
        "      <th></th>\n",
        "      <th></th>\n",
        "    </tr>\n",
        "  </thead>\n",
        "  <tbody>\n",
        "    <tr>\n",
        "      <th>1993</th>\n",
        "      <td> 12</td>\n",
        "      <td>  316</td>\n",
        "    </tr>\n",
        "    <tr>\n",
        "      <th>1994</th>\n",
        "      <td> 24</td>\n",
        "      <td> 2334</td>\n",
        "    </tr>\n",
        "    <tr>\n",
        "      <th>1995</th>\n",
        "      <td> 25</td>\n",
        "      <td> 4333</td>\n",
        "    </tr>\n",
        "    <tr>\n",
        "      <th>1996</th>\n",
        "      <td> 27</td>\n",
        "      <td>   59</td>\n",
        "    </tr>\n",
        "    <tr>\n",
        "      <th>1997</th>\n",
        "      <td> 13</td>\n",
        "      <td>   24</td>\n",
        "    </tr>\n",
        "    <tr>\n",
        "      <th>1998</th>\n",
        "      <td> 40</td>\n",
        "      <td>  948</td>\n",
        "    </tr>\n",
        "    <tr>\n",
        "      <th>2000</th>\n",
        "      <td> 12</td>\n",
        "      <td>  108</td>\n",
        "    </tr>\n",
        "    <tr>\n",
        "      <th>2001</th>\n",
        "      <td> 12</td>\n",
        "      <td>  377</td>\n",
        "    </tr>\n",
        "    <tr>\n",
        "      <th>2002</th>\n",
        "      <td> 30</td>\n",
        "      <td>   39</td>\n",
        "    </tr>\n",
        "    <tr>\n",
        "      <th>2003</th>\n",
        "      <td> 35</td>\n",
        "      <td> 1266</td>\n",
        "    </tr>\n",
        "    <tr>\n",
        "      <th>2005</th>\n",
        "      <td> 66</td>\n",
        "      <td>  886</td>\n",
        "    </tr>\n",
        "    <tr>\n",
        "      <th>2006</th>\n",
        "      <td> 62</td>\n",
        "      <td>  977</td>\n",
        "    </tr>\n",
        "    <tr>\n",
        "      <th>2007</th>\n",
        "      <td> 40</td>\n",
        "      <td>  712</td>\n",
        "    </tr>\n",
        "    <tr>\n",
        "      <th>2008</th>\n",
        "      <td> 39</td>\n",
        "      <td>  240</td>\n",
        "    </tr>\n",
        "    <tr>\n",
        "      <th>2009</th>\n",
        "      <td> 44</td>\n",
        "      <td>  421</td>\n",
        "    </tr>\n",
        "  </tbody>\n",
        "</table>\n",
        "</div>"
       ],
       "metadata": {},
       "output_type": "pyout",
       "prompt_number": 12,
       "text": [
        "     deaths  EHE_parcel_days\n",
        "year                        \n",
        "1993     12              316\n",
        "1994     24             2334\n",
        "1995     25             4333\n",
        "1996     27               59\n",
        "1997     13               24\n",
        "1998     40              948\n",
        "2000     12              108\n",
        "2001     12              377\n",
        "2002     30               39\n",
        "2003     35             1266\n",
        "2005     66              886\n",
        "2006     62              977\n",
        "2007     40              712\n",
        "2008     39              240\n",
        "2009     44              421"
       ]
      }
     ],
     "prompt_number": 12
    },
    {
     "cell_type": "code",
     "collapsed": false,
     "input": [
      "R_coeff = cat['deaths'].corr(cat['EHE_parcel_days'])\n",
      "print R_coeff"
     ],
     "language": "python",
     "metadata": {},
     "outputs": [
      {
       "output_type": "stream",
       "stream": "stdout",
       "text": [
        "0.0606870690737\n"
       ]
      }
     ],
     "prompt_number": 13
    },
    {
     "cell_type": "code",
     "collapsed": false,
     "input": [
      "scatter(cat['EHE_parcel_days'], cat['deaths'])\n",
      "\n",
      "plt.xlim([0,5000])\n",
      "xlabel('EHE Count (Parcel-Days)')\n",
      "ylabel('Deaths')\n",
      "title('Heat Related Deaths in Central AZ Counties vs. EHEs')\n",
      "figtext(0.75, 0.8, 'R=%s' % (str(R_coeff)[:5]))"
     ],
     "language": "python",
     "metadata": {},
     "outputs": [
      {
       "metadata": {},
       "output_type": "pyout",
       "prompt_number": 14,
       "text": [
        "<matplotlib.text.Text at 0xd004eb8>"
       ]
      },
      {
       "metadata": {},
       "output_type": "display_data",
       "png": "[encoded data removed]",
       "text": [
        "<matplotlib.figure.Figure at 0xcea7550>"
       ]
      }
     ],
     "prompt_number": 14
    },
    {
     "cell_type": "heading",
     "level": 2,
     "metadata": {},
     "source": [
      "Dropping Outliers on X-Axis (EHE COUNTS > 2 STD DEVS)"
     ]
    },
    {
     "cell_type": "code",
     "collapsed": false,
     "input": [
      "dropcat = cat.drop(cat[cat['EHE_parcel_days'] > 2*cat['EHE_parcel_days'].std()].index)"
     ],
     "language": "python",
     "metadata": {},
     "outputs": [],
     "prompt_number": 15
    },
    {
     "cell_type": "code",
     "collapsed": false,
     "input": [
      "New_R_coeff = dropcat['deaths'].corr(dropcat['EHE_parcel_days'])"
     ],
     "language": "python",
     "metadata": {},
     "outputs": [],
     "prompt_number": 16
    },
    {
     "cell_type": "code",
     "collapsed": false,
     "input": [
      "scatter(dropcat['EHE_parcel_days'], dropcat['deaths'])\n",
      "\n",
      "plt.xlim([0,1500])\n",
      "xlabel('EHE Count (Parcel-Days)')\n",
      "ylabel('Deaths')\n",
      "title('Heat Related Deaths in Central AZ Counties vs. EHEs')\n",
      "figtext(0.75, 0.8, 'R=%s' % (str(New_R_coeff)[:5]))"
     ],
     "language": "python",
     "metadata": {},
     "outputs": [
      {
       "metadata": {},
       "output_type": "pyout",
       "prompt_number": 17,
       "text": [
        "<matplotlib.text.Text at 0xcf4d4a8>"
       ]
      },
      {
       "metadata": {},
       "output_type": "display_data",
       "png": "[encoded data removed]",
       "text": [
        "<matplotlib.figure.Figure at 0xcf4d320>"
       ]
      }
     ],
     "prompt_number": 17
    },
    {
     "cell_type": "code",
     "collapsed": false,
     "input": [],
     "language": "python",
     "metadata": {},
     "outputs": [],
     "prompt_number": 17
    },
    {
     "cell_type": "code",
     "collapsed": false,
     "input": [],
     "language": "python",
     "metadata": {},
     "outputs": [],
     "prompt_number": 17
    }
   ],
   "metadata": {}
  }
 ]
}
